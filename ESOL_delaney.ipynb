{
 "cells": [
  {
   "cell_type": "markdown",
   "id": "4d306034-f936-4e12-8b5e-48514d605449",
   "metadata": {},
   "source": [
    "# ESOL\n",
    "\n",
    "This Notebook uses the RDKit, ChemProp, and Delaney Dataset for ESOL.\n",
    "\n",
    "Results are compared to MoleculeNet Paper (https://doi.org/10.1039/C7SC02664A)\n",
    "\n",
    "Author: James Roberts"
   ]
  },
  {
   "cell_type": "markdown",
   "id": "accedba5-6919-4ef9-b125-6c5343135bb9",
   "metadata": {},
   "source": [
    "# Imports"
   ]
  },
  {
   "cell_type": "code",
   "execution_count": 31,
   "id": "415cbb29-d592-4b6a-ab8f-a64efff2af95",
   "metadata": {},
   "outputs": [],
   "source": [
    "from rdkit import Chem\n",
    "from rdkit.Chem import Descriptors\n",
    "from rdkit.Chem import AllChem\n",
    "\n",
    "from chemprop import data, featurizers, models, nn\n",
    "\n",
    "from lightning import pytorch as pl\n",
    "from lightning.pytorch.callbacks import ModelCheckpoint\n",
    "from lightning.pytorch.callbacks import EarlyStopping\n",
    "\n",
    "import pandas as pd\n",
    "import numpy as np\n",
    "\n",
    "import requests\n",
    "\n",
    "from itertools import product\n",
    "\n",
    "import torch\n",
    "import torch.nn.functional as F\n",
    "import torch_geometric.nn as pyg_nn\n",
    "import torch_geometric.utils as pyg_utils\n",
    "from torch_geometric.nn import GraphConv, NNConv, TransformerConv\n",
    "from torch_geometric.loader import DataLoader\n",
    "from torch_geometric.data import Data, Batch\n",
    "import torch.optim as optim\n",
    "\n",
    "from sklearn.model_selection import train_test_split\n",
    "from sklearn.metrics import r2_score\n",
    "from sklearn.preprocessing import MinMaxScaler\n",
    "\n",
    "import seaborn as sns\n",
    "\n",
    "import matplotlib.pyplot as plt\n",
    "\n",
    "import random"
   ]
  },
  {
   "cell_type": "markdown",
   "id": "084686e7-f3cc-4255-bc01-ce0c67440c0f",
   "metadata": {},
   "source": [
    "# Importing molecules using SMILES"
   ]
  },
  {
   "cell_type": "markdown",
   "id": "107fc7b3-1e75-4ce3-9279-90934b913db6",
   "metadata": {},
   "source": [
    "Acetaminophen SMILES representation: CC(=O)NC1=CC=C(O)C=C1\n",
    "\n",
    "drugbank: https://go.drugbank.com/drugs/DB00316"
   ]
  },
  {
   "cell_type": "code",
   "execution_count": 3,
   "id": "00d25ede-5be5-48fe-b87e-6d2ffdfb7769",
   "metadata": {},
   "outputs": [
    {
     "data": {
      "image/png": "[encoded data removed]",
      "text/plain": [
       "<rdkit.Chem.rdchem.Mol at 0x1c9e8a1de70>"
      ]
     },
     "execution_count": 3,
     "metadata": {},
     "output_type": "execute_result"
    }
   ],
   "source": [
    "molecule = Chem.MolFromSmiles('CC(=O)NC1=CC=C(O)C=C1')\n",
    "molecule"
   ]
  },
  {
   "cell_type": "markdown",
   "id": "e33f8190-7faf-4221-8e08-4379b555673f",
   "metadata": {},
   "source": [
    "# Importing molecules using MOL"
   ]
  },
  {
   "cell_type": "markdown",
   "id": "5c9af874-85a4-4da0-87b5-e0b858b5ec6e",
   "metadata": {},
   "source": [
    "Acetaminophen MOL\n",
    "\n",
    "pubchem: https://pubchem.ncbi.nlm.nih.gov/"
   ]
  },
  {
   "cell_type": "code",
   "execution_count": 4,
   "id": "8cae126b-ee46-49da-afce-943768aa9813",
   "metadata": {},
   "outputs": [
    {
     "data": {
      "image/png": "[encoded data removed]",
      "text/plain": [
       "<rdkit.Chem.rdchem.Mol at 0x1c9e8a1dbd0>"
      ]
     },
     "execution_count": 4,
     "metadata": {},
     "output_type": "execute_result"
    }
   ],
   "source": [
    "molecule_url = \"https://pubchem.ncbi.nlm.nih.gov/rest/pug/compound/CID/1983/SDF\"\n",
    "response = requests.get(molecule_url)\n",
    "molecule = Chem.MolFromMolBlock(response.text)\n",
    "molecule"
   ]
  },
  {
   "cell_type": "markdown",
   "id": "a2c12ddb-0f19-41c3-80b0-6e9e8d49c56b",
   "metadata": {},
   "source": [
    "# Molecular Coords"
   ]
  },
  {
   "cell_type": "code",
   "execution_count": 5,
   "id": "e857e47f-dcde-494c-8ef6-c84b50f9ed10",
   "metadata": {},
   "outputs": [
    {
     "data": {
      "image/png": "[encoded data removed]",
      "text/plain": [
       "<rdkit.Chem.rdchem.Mol at 0x1c9e8a1dbd0>"
      ]
     },
     "execution_count": 5,
     "metadata": {},
     "output_type": "execute_result"
    }
   ],
   "source": [
    "AllChem.Compute2DCoords(molecule)\n",
    "molecule"
   ]
  },
  {
   "cell_type": "markdown",
   "id": "861c04ee-5d6b-4a43-9486-360975ea5a69",
   "metadata": {},
   "source": [
    "# Descriptors"
   ]
  },
  {
   "cell_type": "code",
   "execution_count": 6,
   "id": "bed75831-bb6f-4314-bd59-cf5090ac6c3c",
   "metadata": {},
   "outputs": [
    {
     "data": {
      "text/plain": [
       "151.16499999999996"
      ]
     },
     "execution_count": 6,
     "metadata": {},
     "output_type": "execute_result"
    }
   ],
   "source": [
    "Descriptors.MolWt(molecule) # g/mol"
   ]
  },
  {
   "cell_type": "code",
   "execution_count": 7,
   "id": "e16d0328-deac-4a5b-aa86-adc423d565ac",
   "metadata": {},
   "outputs": [
    {
     "name": "stdout",
     "output_type": "stream",
     "text": [
      "LogP = log( [organic] / [aqueous] )\n",
      "LogP (RDkit, Predicted):  1.3505999999999998\n",
      "LogP (ALOGPS, Predicted):  0.51\n",
      "LogP (DrugBank, Measured):  0.46\n"
     ]
    }
   ],
   "source": [
    "print(\"LogP = log( [organic] / [aqueous] )\")\n",
    "print(\"LogP (RDkit, Predicted): \", Descriptors.MolLogP(molecule))\n",
    "print(\"LogP (ALOGPS, Predicted): \", 0.51)\n",
    "print(\"LogP (DrugBank, Measured): \", 0.46)"
   ]
  },
  {
   "cell_type": "markdown",
   "id": "ad40feb2-f3ae-407c-a87b-0434eeb14269",
   "metadata": {},
   "source": [
    "# Delaney Dataset\n",
    "\n",
    "From: https://moleculenet.org/datasets-1 (ESOL)"
   ]
  },
  {
   "cell_type": "markdown",
   "id": "020606c7-1610-495d-b358-c8b501cc87df",
   "metadata": {},
   "source": [
    "The task (Regression) is to predict the log solubility (mols/litre)"
   ]
  },
  {
   "cell_type": "code",
   "execution_count": 8,
   "id": "613765d7-4c24-49ea-917c-ac96249e1335",
   "metadata": {},
   "outputs": [
    {
     "data": {
      "text/html": [
       "<div>\n",
       "<style scoped>\n",
       "    .dataframe tbody tr th:only-of-type {\n",
       "        vertical-align: middle;\n",
       "    }\n",
       "\n",
       "    .dataframe tbody tr th {\n",
       "        vertical-align: top;\n",
       "    }\n",
       "\n",
       "    .dataframe thead th {\n",
       "        text-align: right;\n",
       "    }\n",
       "</style>\n",
       "<table border=\"1\" class=\"dataframe\">\n",
       "  <thead>\n",
       "    <tr style=\"text-align: right;\">\n",
       "      <th></th>\n",
       "      <th>Compound ID</th>\n",
       "      <th>ESOL predicted log solubility in mols per litre</th>\n",
       "      <th>Minimum Degree</th>\n",
       "      <th>Molecular Weight</th>\n",
       "      <th>Number of H-Bond Donors</th>\n",
       "      <th>Number of Rings</th>\n",
       "      <th>Number of Rotatable Bonds</th>\n",
       "      <th>Polar Surface Area</th>\n",
       "      <th>measured log solubility in mols per litre</th>\n",
       "      <th>smiles</th>\n",
       "    </tr>\n",
       "  </thead>\n",
       "  <tbody>\n",
       "    <tr>\n",
       "      <th>0</th>\n",
       "      <td>Amigdalin</td>\n",
       "      <td>-0.974</td>\n",
       "      <td>1</td>\n",
       "      <td>457.432</td>\n",
       "      <td>7</td>\n",
       "      <td>3</td>\n",
       "      <td>7</td>\n",
       "      <td>202.32</td>\n",
       "      <td>-0.77</td>\n",
       "      <td>OCC3OC(OCC2OC(OC(C#N)c1ccccc1)C(O)C(O)C2O)C(O)...</td>\n",
       "    </tr>\n",
       "    <tr>\n",
       "      <th>1</th>\n",
       "      <td>Fenfuram</td>\n",
       "      <td>-2.885</td>\n",
       "      <td>1</td>\n",
       "      <td>201.225</td>\n",
       "      <td>1</td>\n",
       "      <td>2</td>\n",
       "      <td>2</td>\n",
       "      <td>42.24</td>\n",
       "      <td>-3.30</td>\n",
       "      <td>Cc1occc1C(=O)Nc2ccccc2</td>\n",
       "    </tr>\n",
       "    <tr>\n",
       "      <th>2</th>\n",
       "      <td>citral</td>\n",
       "      <td>-2.579</td>\n",
       "      <td>1</td>\n",
       "      <td>152.237</td>\n",
       "      <td>0</td>\n",
       "      <td>0</td>\n",
       "      <td>4</td>\n",
       "      <td>17.07</td>\n",
       "      <td>-2.06</td>\n",
       "      <td>CC(C)=CCCC(C)=CC(=O)</td>\n",
       "    </tr>\n",
       "    <tr>\n",
       "      <th>3</th>\n",
       "      <td>Picene</td>\n",
       "      <td>-6.618</td>\n",
       "      <td>2</td>\n",
       "      <td>278.354</td>\n",
       "      <td>0</td>\n",
       "      <td>5</td>\n",
       "      <td>0</td>\n",
       "      <td>0.00</td>\n",
       "      <td>-7.87</td>\n",
       "      <td>c1ccc2c(c1)ccc3c2ccc4c5ccccc5ccc43</td>\n",
       "    </tr>\n",
       "    <tr>\n",
       "      <th>4</th>\n",
       "      <td>Thiophene</td>\n",
       "      <td>-2.232</td>\n",
       "      <td>2</td>\n",
       "      <td>84.143</td>\n",
       "      <td>0</td>\n",
       "      <td>1</td>\n",
       "      <td>0</td>\n",
       "      <td>0.00</td>\n",
       "      <td>-1.33</td>\n",
       "      <td>c1ccsc1</td>\n",
       "    </tr>\n",
       "  </tbody>\n",
       "</table>\n",
       "</div>"
      ],
      "text/plain": [
       "  Compound ID  ESOL predicted log solubility in mols per litre  \\\n",
       "0   Amigdalin                                           -0.974   \n",
       "1    Fenfuram                                           -2.885   \n",
       "2      citral                                           -2.579   \n",
       "3      Picene                                           -6.618   \n",
       "4   Thiophene                                           -2.232   \n",
       "\n",
       "   Minimum Degree  Molecular Weight  Number of H-Bond Donors  Number of Rings  \\\n",
       "0               1           457.432                        7                3   \n",
       "1               1           201.225                        1                2   \n",
       "2               1           152.237                        0                0   \n",
       "3               2           278.354                        0                5   \n",
       "4               2            84.143                        0                1   \n",
       "\n",
       "   Number of Rotatable Bonds  Polar Surface Area  \\\n",
       "0                          7              202.32   \n",
       "1                          2               42.24   \n",
       "2                          4               17.07   \n",
       "3                          0                0.00   \n",
       "4                          0                0.00   \n",
       "\n",
       "   measured log solubility in mols per litre  \\\n",
       "0                                      -0.77   \n",
       "1                                      -3.30   \n",
       "2                                      -2.06   \n",
       "3                                      -7.87   \n",
       "4                                      -1.33   \n",
       "\n",
       "                                              smiles  \n",
       "0  OCC3OC(OCC2OC(OC(C#N)c1ccccc1)C(O)C(O)C2O)C(O)...  \n",
       "1                             Cc1occc1C(=O)Nc2ccccc2  \n",
       "2                               CC(C)=CCCC(C)=CC(=O)  \n",
       "3                 c1ccc2c(c1)ccc3c2ccc4c5ccccc5ccc43  \n",
       "4                                            c1ccsc1  "
      ]
     },
     "execution_count": 8,
     "metadata": {},
     "output_type": "execute_result"
    }
   ],
   "source": [
    "PATH_TO_DELANEY = 'https://deepchemdata.s3-us-west-1.amazonaws.com/datasets/delaney-processed.csv'\n",
    "delaney_dataset = pd.read_csv(PATH_TO_DELANEY)\n",
    "delaney_dataset.head()"
   ]
  },
  {
   "cell_type": "code",
   "execution_count": 9,
   "id": "f8f150e0-cb23-4b36-9820-913fb3d53ab1",
   "metadata": {},
   "outputs": [
    {
     "name": "stdout",
     "output_type": "stream",
     "text": [
      "<class 'pandas.core.frame.DataFrame'>\n",
      "RangeIndex: 1128 entries, 0 to 1127\n",
      "Data columns (total 10 columns):\n",
      " #   Column                                           Non-Null Count  Dtype  \n",
      "---  ------                                           --------------  -----  \n",
      " 0   Compound ID                                      1128 non-null   object \n",
      " 1   ESOL predicted log solubility in mols per litre  1128 non-null   float64\n",
      " 2   Minimum Degree                                   1128 non-null   int64  \n",
      " 3   Molecular Weight                                 1128 non-null   float64\n",
      " 4   Number of H-Bond Donors                          1128 non-null   int64  \n",
      " 5   Number of Rings                                  1128 non-null   int64  \n",
      " 6   Number of Rotatable Bonds                        1128 non-null   int64  \n",
      " 7   Polar Surface Area                               1128 non-null   float64\n",
      " 8   measured log solubility in mols per litre        1128 non-null   float64\n",
      " 9   smiles                                           1128 non-null   object \n",
      "dtypes: float64(4), int64(4), object(2)\n",
      "memory usage: 88.3+ KB\n"
     ]
    }
   ],
   "source": [
    "delaney_dataset.info()"
   ]
  },
  {
   "cell_type": "code",
   "execution_count": 10,
   "id": "a628ce70-0e7e-4895-a8d9-d8b260aac922",
   "metadata": {},
   "outputs": [
    {
     "data": {
      "text/html": [
       "<div>\n",
       "<style scoped>\n",
       "    .dataframe tbody tr th:only-of-type {\n",
       "        vertical-align: middle;\n",
       "    }\n",
       "\n",
       "    .dataframe tbody tr th {\n",
       "        vertical-align: top;\n",
       "    }\n",
       "\n",
       "    .dataframe thead th {\n",
       "        text-align: right;\n",
       "    }\n",
       "</style>\n",
       "<table border=\"1\" class=\"dataframe\">\n",
       "  <thead>\n",
       "    <tr style=\"text-align: right;\">\n",
       "      <th></th>\n",
       "      <th>ESOL predicted log solubility in mols per litre</th>\n",
       "      <th>Minimum Degree</th>\n",
       "      <th>Molecular Weight</th>\n",
       "      <th>Number of H-Bond Donors</th>\n",
       "      <th>Number of Rings</th>\n",
       "      <th>Number of Rotatable Bonds</th>\n",
       "      <th>Polar Surface Area</th>\n",
       "      <th>measured log solubility in mols per litre</th>\n",
       "    </tr>\n",
       "  </thead>\n",
       "  <tbody>\n",
       "    <tr>\n",
       "      <th>count</th>\n",
       "      <td>1128.000000</td>\n",
       "      <td>1128.000000</td>\n",
       "      <td>1128.000000</td>\n",
       "      <td>1128.000000</td>\n",
       "      <td>1128.000000</td>\n",
       "      <td>1128.000000</td>\n",
       "      <td>1128.000000</td>\n",
       "      <td>1128.000000</td>\n",
       "    </tr>\n",
       "    <tr>\n",
       "      <th>mean</th>\n",
       "      <td>-2.988192</td>\n",
       "      <td>1.058511</td>\n",
       "      <td>203.937074</td>\n",
       "      <td>0.701241</td>\n",
       "      <td>1.390957</td>\n",
       "      <td>2.177305</td>\n",
       "      <td>34.872881</td>\n",
       "      <td>-3.050102</td>\n",
       "    </tr>\n",
       "    <tr>\n",
       "      <th>std</th>\n",
       "      <td>1.683220</td>\n",
       "      <td>0.238560</td>\n",
       "      <td>102.738077</td>\n",
       "      <td>1.089727</td>\n",
       "      <td>1.318286</td>\n",
       "      <td>2.640974</td>\n",
       "      <td>35.383593</td>\n",
       "      <td>2.096441</td>\n",
       "    </tr>\n",
       "    <tr>\n",
       "      <th>min</th>\n",
       "      <td>-9.702000</td>\n",
       "      <td>0.000000</td>\n",
       "      <td>16.043000</td>\n",
       "      <td>0.000000</td>\n",
       "      <td>0.000000</td>\n",
       "      <td>0.000000</td>\n",
       "      <td>0.000000</td>\n",
       "      <td>-11.600000</td>\n",
       "    </tr>\n",
       "    <tr>\n",
       "      <th>25%</th>\n",
       "      <td>-3.948250</td>\n",
       "      <td>1.000000</td>\n",
       "      <td>121.183000</td>\n",
       "      <td>0.000000</td>\n",
       "      <td>0.000000</td>\n",
       "      <td>0.000000</td>\n",
       "      <td>0.000000</td>\n",
       "      <td>-4.317500</td>\n",
       "    </tr>\n",
       "    <tr>\n",
       "      <th>50%</th>\n",
       "      <td>-2.870000</td>\n",
       "      <td>1.000000</td>\n",
       "      <td>182.179000</td>\n",
       "      <td>0.000000</td>\n",
       "      <td>1.000000</td>\n",
       "      <td>1.000000</td>\n",
       "      <td>26.300000</td>\n",
       "      <td>-2.860000</td>\n",
       "    </tr>\n",
       "    <tr>\n",
       "      <th>75%</th>\n",
       "      <td>-1.843750</td>\n",
       "      <td>1.000000</td>\n",
       "      <td>270.372000</td>\n",
       "      <td>1.000000</td>\n",
       "      <td>2.000000</td>\n",
       "      <td>3.000000</td>\n",
       "      <td>55.440000</td>\n",
       "      <td>-1.600000</td>\n",
       "    </tr>\n",
       "    <tr>\n",
       "      <th>max</th>\n",
       "      <td>1.091000</td>\n",
       "      <td>2.000000</td>\n",
       "      <td>780.949000</td>\n",
       "      <td>11.000000</td>\n",
       "      <td>8.000000</td>\n",
       "      <td>23.000000</td>\n",
       "      <td>268.680000</td>\n",
       "      <td>1.580000</td>\n",
       "    </tr>\n",
       "  </tbody>\n",
       "</table>\n",
       "</div>"
      ],
      "text/plain": [
       "       ESOL predicted log solubility in mols per litre  Minimum Degree  \\\n",
       "count                                      1128.000000     1128.000000   \n",
       "mean                                         -2.988192        1.058511   \n",
       "std                                           1.683220        0.238560   \n",
       "min                                          -9.702000        0.000000   \n",
       "25%                                          -3.948250        1.000000   \n",
       "50%                                          -2.870000        1.000000   \n",
       "75%                                          -1.843750        1.000000   \n",
       "max                                           1.091000        2.000000   \n",
       "\n",
       "       Molecular Weight  Number of H-Bond Donors  Number of Rings  \\\n",
       "count       1128.000000              1128.000000      1128.000000   \n",
       "mean         203.937074                 0.701241         1.390957   \n",
       "std          102.738077                 1.089727         1.318286   \n",
       "min           16.043000                 0.000000         0.000000   \n",
       "25%          121.183000                 0.000000         0.000000   \n",
       "50%          182.179000                 0.000000         1.000000   \n",
       "75%          270.372000                 1.000000         2.000000   \n",
       "max          780.949000                11.000000         8.000000   \n",
       "\n",
       "       Number of Rotatable Bonds  Polar Surface Area  \\\n",
       "count                1128.000000         1128.000000   \n",
       "mean                    2.177305           34.872881   \n",
       "std                     2.640974           35.383593   \n",
       "min                     0.000000            0.000000   \n",
       "25%                     0.000000            0.000000   \n",
       "50%                     1.000000           26.300000   \n",
       "75%                     3.000000           55.440000   \n",
       "max                    23.000000          268.680000   \n",
       "\n",
       "       measured log solubility in mols per litre  \n",
       "count                                1128.000000  \n",
       "mean                                   -3.050102  \n",
       "std                                     2.096441  \n",
       "min                                   -11.600000  \n",
       "25%                                    -4.317500  \n",
       "50%                                    -2.860000  \n",
       "75%                                    -1.600000  \n",
       "max                                     1.580000  "
      ]
     },
     "execution_count": 10,
     "metadata": {},
     "output_type": "execute_result"
    }
   ],
   "source": [
    "delaney_dataset.describe()"
   ]
  },
  {
   "cell_type": "code",
   "execution_count": 11,
   "id": "eceb653e-d3f5-4f42-aba4-a6561250b461",
   "metadata": {},
   "outputs": [
    {
     "name": "stdout",
     "output_type": "stream",
     "text": [
      "Done!\n"
     ]
    },
    {
     "data": {
      "image/png": "[encoded data removed]",
      "text/plain": [
       "<Figure size 640x480 with 2 Axes>"
      ]
     },
     "metadata": {},
     "output_type": "display_data"
    }
   ],
   "source": [
    "sns.heatmap(delaney_dataset.iloc[:, 2:9].corr(), annot=True, cmap='coolwarm')\n",
    "print('Done!')"
   ]
  },
  {
   "cell_type": "code",
   "execution_count": 12,
   "id": "04ff5420-e851-447d-b223-6406f78e2140",
   "metadata": {},
   "outputs": [
    {
     "name": "stdout",
     "output_type": "stream",
     "text": [
      "ESOL R2: 0.707374251617849\n"
     ]
    }
   ],
   "source": [
    "r2_ESOL = r2_score(delaney_dataset['ESOL predicted log solubility in mols per litre'], delaney_dataset['measured log solubility in mols per litre'])\n",
    "print(f\"ESOL R2: {r2_ESOL}\")"
   ]
  },
  {
   "cell_type": "markdown",
   "id": "288f179b-de4f-4dd8-b0cb-8ea0d53bc63e",
   "metadata": {},
   "source": [
    "## Preprocessing"
   ]
  },
  {
   "cell_type": "code",
   "execution_count": 13,
   "id": "c57f0774-0fcf-40ab-8b3a-6b18f88dfdd6",
   "metadata": {},
   "outputs": [
    {
     "name": "stdout",
     "output_type": "stream",
     "text": [
      "Done!\n"
     ]
    }
   ],
   "source": [
    "def preprocess_delaney(delaney_dataset):\n",
    "    # Split Data for normalization\n",
    "    indices = list(range(len(delaney_dataset)))\n",
    "    train_idx, temp_idx = train_test_split(indices, test_size=0.2, random_state=42)\n",
    "    val_idx, test_idx = train_test_split(temp_idx, test_size=0.5, random_state=42)\n",
    "    \n",
    "    # Normalize global features based on training indices\n",
    "    global_feats_train = delaney_dataset[[\n",
    "        'Minimum Degree',\n",
    "        'Number of H-Bond Donors',\n",
    "        'Molecular Weight',\n",
    "        'Number of Rings',\n",
    "        'Number of Rotatable Bonds',\n",
    "        'Polar Surface Area'\n",
    "    ]].loc[train_idx].copy()\n",
    "    \n",
    "    scaler = MinMaxScaler()\n",
    "    scaler.fit(global_feats_train)\n",
    "    \n",
    "    global_feats = delaney_dataset[[\n",
    "        'Minimum Degree',\n",
    "        'Number of H-Bond Donors',\n",
    "        'Molecular Weight',\n",
    "        'Number of Rings',\n",
    "        'Number of Rotatable Bonds',\n",
    "        'Polar Surface Area'\n",
    "    ]].copy()\n",
    "    \n",
    "    normalized_feats = scaler.transform(global_feats)\n",
    "    \n",
    "    # Build Graphs\n",
    "    print(\"Building Graphs\")\n",
    "    data_list_train = []\n",
    "    data_list_test = []\n",
    "    data_list_val = []\n",
    "    index = 0\n",
    "    atom_types = [1, 6, 8, 7, 9, 15, 16, 17, 35, 53] # Atoms used in delaney (Atomic Number)\n",
    "    for compoundID in delaney_dataset['Compound ID']:\n",
    "        mol = Chem.AddHs(Chem.MolFromSmiles(delaney_dataset.loc[index, 'smiles'])) \n",
    "        \n",
    "        # Node features\n",
    "        atom_features = []\n",
    "        for atom in mol.GetAtoms():\n",
    "            one_hot = [int(atom.GetAtomicNum() == t) for t in atom_types] # Atom OneHot\n",
    "            \n",
    "            # TODO: Normalize Atom Features\n",
    "            other_features = [atom.GetAtomicNum(),\n",
    "                              atom.GetDegree(),\n",
    "                              atom.GetFormalCharge(),\n",
    "                              int(atom.GetIsAromatic()),\n",
    "                              int(atom.IsInRing()),\n",
    "                              atom.GetMass()]\n",
    "            \n",
    "            atom_features.append(one_hot + other_features)\n",
    "        \n",
    "        # Edge index\n",
    "        bond_features = []\n",
    "        src = []\n",
    "        dest = []\n",
    "        for bond in mol.GetBonds():\n",
    "            i = bond.GetBeginAtomIdx()\n",
    "            j = bond.GetEndAtomIdx()\n",
    "            src.append(i)\n",
    "            src.append(j)\n",
    "            dest.append(j)\n",
    "            dest.append(i)\n",
    "            bond_type = bond.GetBondType()\n",
    "            \n",
    "            bond_features.append([\n",
    "                int(bond_type == Chem.rdchem.BondType.SINGLE),\n",
    "                int(bond_type == Chem.rdchem.BondType.DOUBLE),\n",
    "                int(bond_type == Chem.rdchem.BondType.TRIPLE),\n",
    "                int(bond_type == Chem.rdchem.BondType.AROMATIC),\n",
    "                int(bond.GetIsConjugated()),\n",
    "                int(bond.IsInRing())\n",
    "            ])\n",
    "            bond_features.append(bond_features[-1])  # Add reverse direction\n",
    "        edge_index = [src, dest]\n",
    "    \n",
    "        \n",
    "        data = Data(x=torch.tensor(atom_features, dtype=torch.float), \n",
    "                    edge_index=torch.tensor(edge_index, dtype=torch.long),\n",
    "                    edge_attr=torch.tensor(bond_features, dtype=torch.float),\n",
    "                    y=torch.tensor([[delaney_dataset.loc[index, 'measured log solubility in mols per litre']]], dtype=torch.float))\n",
    "        data.global_features = torch.tensor([normalized_feats[index] + [Descriptors.MolLogP(mol)]], dtype=torch.float)\n",
    "        data.smiles = delaney_dataset.loc[index, 'smiles']\n",
    "        data.ID = compoundID\n",
    "    \n",
    "        if index in train_idx:\n",
    "            data_list_train.append(data)\n",
    "        elif index in val_idx:\n",
    "            data_list_val.append(data)\n",
    "        else:\n",
    "            data_list_test.append(data)\n",
    "    \n",
    "        index += 1\n",
    "    \n",
    "    # Training, validation, and test subsets follow 80/10/10 (MoleculeNet)\n",
    "    train_batch = Batch.from_data_list(data_list_train) \n",
    "    val_batch = Batch.from_data_list(data_list_val)\n",
    "    test_batch = Batch.from_data_list(data_list_test)\n",
    "\n",
    "    return train_batch, val_batch, test_batch\n",
    "\n",
    "print('Done!')"
   ]
  },
  {
   "cell_type": "markdown",
   "id": "d1d975da-f488-46ea-828e-7b5ac5a7f368",
   "metadata": {},
   "source": [
    "# Models"
   ]
  },
  {
   "cell_type": "markdown",
   "id": "98b70efa-66af-4fd9-b936-9d7b7032c17e",
   "metadata": {},
   "source": [
    "## GraphConv"
   ]
  },
  {
   "cell_type": "code",
   "execution_count": 14,
   "id": "0f6b707c-c8eb-4d40-87a7-41d3df118a2c",
   "metadata": {},
   "outputs": [],
   "source": [
    "class GraphConvRegr(torch.nn.Module):\n",
    "    def __init__(self, **kwargs):\n",
    "        super().__init__()\n",
    "\n",
    "        in_channels = kwargs.get('in_channels')\n",
    "        hidden_channels = kwargs.get('hidden_channels')\n",
    "        out_channels = kwargs.get('out_channels')\n",
    "        self.dropout = kwargs.get('dropout')\n",
    "        num_layers = kwargs.get('num_layers')\n",
    "        pooling_method = kwargs.get('pooling_method')\n",
    "        num_global_features = kwargs.get('num_global_features')\n",
    "\n",
    "        self.pooling = {\"mean\": pyg_nn.global_mean_pool,\n",
    "                        \"add\" : pyg_nn.global_add_pool,\n",
    "                        \"max\" : pyg_nn.global_max_pool}.get(pooling_method)\n",
    "\n",
    "        # message-passing\n",
    "        self.convs = torch.nn.ModuleList()\n",
    "        self.batch_norms = torch.nn.ModuleList()\n",
    "        for i in range(num_layers):\n",
    "            in_ch = in_channels if i == 0 else hidden_channels\n",
    "            self.convs.append(GraphConv(in_ch, hidden_channels))\n",
    "            self.batch_norms.append(torch.nn.BatchNorm1d(hidden_channels))\n",
    "\n",
    "        # post-message-passing\n",
    "        self.post_mp = torch.nn.Sequential(\n",
    "        torch.nn.Linear(hidden_channels + num_global_features, hidden_channels),\n",
    "        torch.nn.ReLU(),\n",
    "        torch.nn.Dropout(self.dropout),\n",
    "        torch.nn.Linear(hidden_channels, hidden_channels // 2),\n",
    "        torch.nn.ReLU(),\n",
    "        torch.nn.Dropout(self.dropout),\n",
    "        torch.nn.Linear(hidden_channels // 2, out_channels)\n",
    "        )\n",
    "\n",
    "    def forward(self, batch):\n",
    "        x = batch.x\n",
    "\n",
    "        # Message passing through all layers\n",
    "        for conv, bn in zip(self.convs, self.batch_norms):\n",
    "            x = conv(x, batch.edge_index)\n",
    "            x = bn(x)\n",
    "            x = F.relu(x)\n",
    "            x = F.dropout(x, p=self.dropout, training=self.training)\n",
    "\n",
    "        x = self.pooling(x, batch.batch)\n",
    "        \n",
    "        # Concatenate global features\n",
    "        if hasattr(batch, 'global_features'):\n",
    "            x = torch.cat([x, batch.global_features], dim=1)\n",
    "            \n",
    "        x = self.post_mp(x)\n",
    "        return x\n",
    "\n",
    "    def loss(self, pred, label):\n",
    "        return F.mse_loss(pred, label)\n",
    "        "
   ]
  },
  {
   "cell_type": "markdown",
   "id": "2604dcbc-ef15-4ca8-93b8-852c784c0210",
   "metadata": {},
   "source": [
    "## NNConv"
   ]
  },
  {
   "cell_type": "code",
   "execution_count": 15,
   "id": "f36641a5-d4bd-459f-a9fd-106096396eab",
   "metadata": {},
   "outputs": [],
   "source": [
    "class NNConvRegr(torch.nn.Module):\n",
    "    def __init__(self, **kwargs):\n",
    "        super().__init__()\n",
    "\n",
    "        in_channels = kwargs.get('in_channels')\n",
    "        hidden_channels = kwargs.get('hidden_channels')\n",
    "        out_channels = kwargs.get('out_channels')\n",
    "        edge_dim = kwargs.get('edge_dim')\n",
    "        self.dropout = kwargs.get('dropout')\n",
    "        num_layers = kwargs.get('num_layers')\n",
    "        pooling_method = kwargs.get('pooling_method')\n",
    "        num_global_features = kwargs.get('num_global_features')\n",
    "\n",
    "        self.pooling = {\"mean\": pyg_nn.global_mean_pool,\n",
    "                        \"add\" : pyg_nn.global_add_pool,\n",
    "                        \"max\" : pyg_nn.global_max_pool}.get(pooling_method)\n",
    "\n",
    "        # message-passing\n",
    "        edge_mlp1 = torch.nn.Linear(edge_dim, in_channels * hidden_channels)\n",
    "        edge_mlp2 = torch.nn.Linear(edge_dim, hidden_channels * hidden_channels)\n",
    "        self.convs = torch.nn.ModuleList()\n",
    "        self.batch_norms = torch.nn.ModuleList()\n",
    "        for i in range(num_layers):\n",
    "            in_ch = in_channels if i == 0 else hidden_channels\n",
    "            edge_mlp = edge_mlp1 if i == 0 else edge_mlp2\n",
    "            self.convs.append(NNConv(in_ch, hidden_channels, nn=edge_mlp))\n",
    "            self.batch_norms.append(torch.nn.BatchNorm1d(hidden_channels))\n",
    "\n",
    "        # post-message-passing\n",
    "        self.post_mp = torch.nn.Sequential(\n",
    "        torch.nn.Linear(hidden_channels + num_global_features, hidden_channels),\n",
    "        torch.nn.ReLU(),\n",
    "        torch.nn.Dropout(self.dropout),\n",
    "        torch.nn.Linear(hidden_channels, hidden_channels // 2),\n",
    "        torch.nn.ReLU(),\n",
    "        torch.nn.Dropout(self.dropout),\n",
    "        torch.nn.Linear(hidden_channels // 2, out_channels)\n",
    "        )\n",
    "\n",
    "    def forward(self, batch):\n",
    "        x = batch.x\n",
    "        \n",
    "        # Message passing through all layers\n",
    "        for conv, bn in zip(self.convs, self.batch_norms):\n",
    "            x = conv(x, batch.edge_index, batch.edge_attr)\n",
    "            x = bn(x)\n",
    "            x = F.relu(x)\n",
    "            x = F.dropout(x, p=self.dropout, training=self.training)\n",
    "\n",
    "        x = self.pooling(x, batch.batch)\n",
    "\n",
    "        # Concatenate global features\n",
    "        if hasattr(batch, 'global_features'):\n",
    "            x = torch.cat([x, batch.global_features], dim=1)\n",
    "            \n",
    "        x = self.post_mp(x)\n",
    "        return x \n",
    "\n",
    "    def loss(self, pred, label):\n",
    "        return F.mse_loss(pred, label)\n",
    "        "
   ]
  },
  {
   "cell_type": "markdown",
   "id": "9f51054f-561e-441f-a841-ae31c15ba890",
   "metadata": {},
   "source": [
    "## TransformerConv"
   ]
  },
  {
   "cell_type": "code",
   "execution_count": 16,
   "id": "daa6254a-e7de-4b02-878c-459961a00810",
   "metadata": {},
   "outputs": [],
   "source": [
    "class TransformerConvRegr(torch.nn.Module):\n",
    "    def __init__(self, **kwargs):\n",
    "        super().__init__()\n",
    "\n",
    "        in_channels = kwargs.get('in_channels')\n",
    "        hidden_channels = kwargs.get('hidden_channels')\n",
    "        out_channels = kwargs.get('out_channels')\n",
    "        edge_dim = kwargs.get('edge_dim')\n",
    "        self.dropout = kwargs.get('dropout')\n",
    "        num_layers = kwargs.get('num_layers')\n",
    "        pooling_method = kwargs.get('pooling_method')\n",
    "        num_global_features = kwargs.get('num_global_features')\n",
    "\n",
    "        self.pooling = {\"mean\": pyg_nn.global_mean_pool,\n",
    "                        \"add\" : pyg_nn.global_add_pool,\n",
    "                        \"max\" : pyg_nn.global_max_pool}.get(pooling_method)\n",
    "\n",
    "        # message-passing\n",
    "        self.convs = torch.nn.ModuleList()\n",
    "        self.batch_norms = torch.nn.ModuleList()\n",
    "        for i in range(num_layers):\n",
    "            in_ch = in_channels if i == 0 else hidden_channels\n",
    "            self.convs.append(TransformerConv(in_ch, hidden_channels, edge_dim=edge_dim))\n",
    "            self.batch_norms.append(torch.nn.BatchNorm1d(hidden_channels))\n",
    "\n",
    "        # post-message-passing\n",
    "        self.post_mp = torch.nn.Sequential(\n",
    "        torch.nn.Linear(hidden_channels + num_global_features, hidden_channels),\n",
    "        torch.nn.ReLU(),\n",
    "        torch.nn.Dropout(self.dropout),\n",
    "        torch.nn.Linear(hidden_channels, hidden_channels // 2),\n",
    "        torch.nn.ReLU(),\n",
    "        torch.nn.Dropout(self.dropout),\n",
    "        torch.nn.Linear(hidden_channels // 2, out_channels)\n",
    "        )\n",
    "\n",
    "    def forward(self, batch):\n",
    "        x = batch.x\n",
    "        \n",
    "        # Message passing through all layers\n",
    "        for conv, bn in zip(self.convs, self.batch_norms):\n",
    "            x = conv(x, batch.edge_index, batch.edge_attr)\n",
    "            x = bn(x)\n",
    "            x = F.relu(x)\n",
    "            x = F.dropout(x, p=self.dropout, training=self.training)\n",
    "\n",
    "        x = self.pooling(x, batch.batch)\n",
    "\n",
    "        # Concatenate global features\n",
    "        if hasattr(batch, 'global_features'):\n",
    "            x = torch.cat([x, batch.global_features], dim=1)\n",
    "            \n",
    "        x = self.post_mp(x)\n",
    "        return x \n",
    "\n",
    "    def loss(self, pred, label):\n",
    "        return F.mse_loss(pred, label)\n",
    "        "
   ]
  },
  {
   "cell_type": "markdown",
   "id": "64cdf51b-f888-4055-92b0-413189c94998",
   "metadata": {},
   "source": [
    "# Training"
   ]
  },
  {
   "cell_type": "code",
   "execution_count": 18,
   "id": "5cbb62e6-5aec-4a01-b109-e9efbdb2ccac",
   "metadata": {},
   "outputs": [],
   "source": [
    "def train(Model,\n",
    "          train_dataset,\n",
    "          val_dataset,\n",
    "          test_dataset,\n",
    "          epochs=200,\n",
    "          batch_size=64,\n",
    "          pooling_method=\"mean\",\n",
    "          early_stopping_patience=5,\n",
    "          hidden_channels=32,\n",
    "          in_channels=1,\n",
    "          num_layers=3,\n",
    "          verbose=True):\n",
    "    \n",
    "    train_loader = DataLoader(train_dataset, batch_size=batch_size, shuffle=True)\n",
    "    val_loader = DataLoader(val_dataset, batch_size=1, shuffle=True)\n",
    "    test_loader = DataLoader(test_dataset, batch_size=1, shuffle=True)\n",
    "        \n",
    "    model = Model(\n",
    "        in_channels=in_channels,                        \n",
    "        hidden_channels=hidden_channels,                \n",
    "        out_channels=1,                                 \n",
    "        edge_dim=train_dataset[0].edge_attr.size()[1],  \n",
    "        dropout=0.25,\n",
    "        pooling_method=pooling_method,\n",
    "        num_layers=num_layers,\n",
    "        num_global_features=train_dataset[0].global_features.shape[1]\n",
    "    )\n",
    "    \n",
    "    \n",
    "    opt = optim.Adam(model.parameters(), lr=0.001)\n",
    "    \n",
    "    best_avg_loss = None\n",
    "    best_r2 = None\n",
    "    patience = 0\n",
    "    best_epoch = 0\n",
    "    # train\n",
    "    print(\"Training Starting\")\n",
    "    \n",
    "    for epoch in range(epochs):\n",
    "        total_loss = 0\n",
    "        total_graphs = 0\n",
    "        model.train()\n",
    "        for batch in train_loader:\n",
    "            opt.zero_grad()\n",
    "            pred = model(batch)\n",
    "            label = batch.y\n",
    "            loss = model.loss(pred, label)\n",
    "            loss.backward()\n",
    "            opt.step()\n",
    "            total_loss += loss.item()\n",
    "            total_graphs += batch.num_graphs\n",
    "\n",
    "        total_loss /= total_graphs\n",
    "                \n",
    "        # Validation\n",
    "        avg_loss, r2 = test_regr(val_loader, model)\n",
    "        if verbose:\n",
    "            print(f\"Epoch {epoch + 1}, Train MSE Loss: {total_loss}, Validation avg MSE loss: {avg_loss}, Validation R2: {r2}\")\n",
    "        \n",
    "        if epoch > 0:\n",
    "            if r2 > best_r2:\n",
    "                torch.save(model.state_dict(), 'checkpoint.pt')\n",
    "                best_avg_loss = avg_loss\n",
    "                best_r2 = r2\n",
    "                best_epoch = epoch + 1\n",
    "                patience = 0\n",
    "\n",
    "            elif patience < early_stopping_patience:\n",
    "                patience += 1\n",
    "\n",
    "            else:\n",
    "                if verbose:\n",
    "                    print(\"Validation R2 not improving\")\n",
    "                \n",
    "                print(f\"Best Epoch: {best_epoch}, Best R2 validation: {best_r2}\")\n",
    "                model.load_state_dict(torch.load('checkpoint.pt'))\n",
    "                print('Start Testing:')\n",
    "                test_loss, r2 = test_regr(test_loader, model, is_testing=True)\n",
    "                return model, r2\n",
    "            \n",
    "        else:\n",
    "            best_avg_loss = avg_loss\n",
    "            best_r2 = r2\n",
    "\n",
    "    print('Start Testing:')\n",
    "    test_loss, r2 = test_regr(test_loader, model, is_testing=True)\n",
    "    return model, r2\n",
    "\n",
    "\n",
    "def test_regr(loader, model, is_testing=False, pooling_method=\"mean\"):\n",
    "    model.eval()\n",
    "    total_loss = 0\n",
    "    num_batches = 0\n",
    "    labels = []\n",
    "    preds = []\n",
    "    for data in loader:\n",
    "        with torch.no_grad():\n",
    "            pred = model(data)\n",
    "            preds.append(pred.item())\n",
    "            label = data.y\n",
    "            labels.append(label.item())\n",
    "            loss = F.mse_loss(pred, label)\n",
    "            total_loss += loss.item()\n",
    "            num_batches += 1\n",
    "\n",
    "    r2 = r2_score(labels, preds)\n",
    "    average_loss = total_loss / num_batches\n",
    "    \n",
    "    print(f'Test R square: {r2}') if is_testing else None\n",
    "    print(f'Test MSE: {average_loss}') if is_testing else None\n",
    "    \n",
    "    return average_loss, r2\n"
   ]
  },
  {
   "cell_type": "markdown",
   "id": "dd01a264-8105-4215-919c-b95a0726e55d",
   "metadata": {},
   "source": [
    "# Run Training"
   ]
  },
  {
   "cell_type": "markdown",
   "id": "a4299403-ec36-43c9-9b8a-5e18c0405bfc",
   "metadata": {},
   "source": [
    "## Get Data"
   ]
  },
  {
   "cell_type": "code",
   "execution_count": 57,
   "id": "b3fc428b-e358-43f0-b5df-96a41e1329cb",
   "metadata": {},
   "outputs": [
    {
     "name": "stdout",
     "output_type": "stream",
     "text": [
      "Building Graphs\n",
      "CPU times: total: 1.19 s\n",
      "Wall time: 1.2 s\n"
     ]
    }
   ],
   "source": [
    "%%time\n",
    "\n",
    "train_batch, val_batch, test_batch = preprocess_delaney(delaney_dataset)"
   ]
  },
  {
   "cell_type": "markdown",
   "id": "c75d158a-20f2-44aa-ae8b-9948be7bfc54",
   "metadata": {},
   "source": [
    "## GraphConv Results\n",
    "\n",
    "Uses Atom Features, Bond Index"
   ]
  },
  {
   "cell_type": "code",
   "execution_count": 58,
   "id": "b5928e8f-3184-4798-9cdf-74615435427f",
   "metadata": {},
   "outputs": [
    {
     "name": "stdout",
     "output_type": "stream",
     "text": [
      "Training Starting\n",
      "Best Epoch: 225, Best R2 validation: 0.8963065329839865\n",
      "Start Testing:\n",
      "Test R square: 0.9013306735225326\n",
      "Test MSE: 0.42006769400737676\n",
      "CPU times: total: 40min 33s\n",
      "Wall time: 3min 23s\n"
     ]
    }
   ],
   "source": [
    "%%time\n",
    "    \n",
    "model1, r2_1 = train(GraphConvRegr,\n",
    "                  train_dataset=train_batch,\n",
    "                  val_dataset=val_batch,\n",
    "                  test_dataset=test_batch,\n",
    "                  epochs=1000,\n",
    "                  batch_size=32,\n",
    "                  pooling_method='mean',\n",
    "                  early_stopping_patience=50,\n",
    "                  hidden_channels=64,\n",
    "                  in_channels=train_batch[0].x[0].shape[0],\n",
    "                  num_layers=4,\n",
    "                  verbose=False)\n"
   ]
  },
  {
   "cell_type": "markdown",
   "id": "0b15721d-659f-4960-b33d-8ab462128485",
   "metadata": {},
   "source": [
    "## NNConv Results\n",
    "\n",
    "Uses Atom Features, Bond Index, and Bond Features"
   ]
  },
  {
   "cell_type": "code",
   "execution_count": 59,
   "id": "83f9f22d-28cc-47be-8668-6923fffa34b1",
   "metadata": {
    "collapsed": true,
    "jupyter": {
     "outputs_hidden": true
    }
   },
   "outputs": [
    {
     "name": "stdout",
     "output_type": "stream",
     "text": [
      "Training Starting\n",
      "Epoch 1, Train MSE Loss: 0.2679425726444388, Validation avg MSE loss: 3.6497945840453125, Validation R2: 0.29182019177971763\n",
      "Epoch 2, Train MSE Loss: 0.08163814150837731, Validation avg MSE loss: 1.5864083529986037, Validation R2: 0.692184768107214\n",
      "Epoch 3, Train MSE Loss: 0.06301861842825777, Validation avg MSE loss: 1.3276378694742794, Validation R2: 0.7423947254351273\n",
      "Epoch 4, Train MSE Loss: 0.05394252493746265, Validation avg MSE loss: 1.2885215024474086, Validation R2: 0.7499845860537144\n",
      "Epoch 5, Train MSE Loss: 0.048305976219029226, Validation avg MSE loss: 1.2764182866069866, Validation R2: 0.7523330044441617\n",
      "Epoch 6, Train MSE Loss: 0.04458276521075855, Validation avg MSE loss: 1.1402837902033105, Validation R2: 0.778747560635851\n",
      "Epoch 7, Train MSE Loss: 0.039949342311089424, Validation avg MSE loss: 1.0793607349049454, Validation R2: 0.7905686313478519\n",
      "Epoch 8, Train MSE Loss: 0.04539593479321431, Validation avg MSE loss: 1.1232469284412991, Validation R2: 0.7820532697986288\n",
      "Epoch 9, Train MSE Loss: 0.038792039645616866, Validation avg MSE loss: 1.0329773718557151, Validation R2: 0.7995685238510953\n",
      "Epoch 10, Train MSE Loss: 0.03500272925042789, Validation avg MSE loss: 1.0365266929729842, Validation R2: 0.7988798394433185\n",
      "Epoch 11, Train MSE Loss: 0.04043685682861345, Validation avg MSE loss: 0.9924010950814421, Validation R2: 0.8074416503893539\n",
      "Epoch 12, Train MSE Loss: 0.03650408818029247, Validation avg MSE loss: 1.0609185933380771, Validation R2: 0.7941470098940977\n",
      "Epoch 13, Train MSE Loss: 0.03949871084378194, Validation avg MSE loss: 1.1121380800983727, Validation R2: 0.7842087508065463\n",
      "Epoch 14, Train MSE Loss: 0.038795743971864825, Validation avg MSE loss: 1.0829363409257227, Validation R2: 0.7898748435231229\n",
      "Epoch 15, Train MSE Loss: 0.03696811503158705, Validation avg MSE loss: 1.0289563904284598, Validation R2: 0.8003487264047017\n",
      "Epoch 16, Train MSE Loss: 0.0402896456469982, Validation avg MSE loss: 0.9070288641804136, Validation R2: 0.8240066647153054\n",
      "Epoch 17, Train MSE Loss: 0.03447147410883343, Validation avg MSE loss: 0.9160545947005977, Validation R2: 0.8222553781755044\n",
      "Epoch 18, Train MSE Loss: 0.037437720401852725, Validation avg MSE loss: 0.9371912407292675, Validation R2: 0.8181541743779498\n",
      "Epoch 19, Train MSE Loss: 0.03586142439139127, Validation avg MSE loss: 0.8667967183176437, Validation R2: 0.8318130206560974\n",
      "Epoch 20, Train MSE Loss: 0.03583340667303808, Validation avg MSE loss: 0.8940374027988904, Validation R2: 0.8265274346144105\n",
      "Epoch 21, Train MSE Loss: 0.03438914027023739, Validation avg MSE loss: 0.8601270703090763, Validation R2: 0.833107149522755\n",
      "Epoch 22, Train MSE Loss: 0.03386249180114983, Validation avg MSE loss: 0.9046722549872647, Validation R2: 0.8244639249415056\n",
      "Epoch 23, Train MSE Loss: 0.034941519377236885, Validation avg MSE loss: 1.1916310251634108, Validation R2: 0.7687845155938595\n",
      "Epoch 24, Train MSE Loss: 0.03323944223561467, Validation avg MSE loss: 0.9043693260084457, Validation R2: 0.82452269964723\n",
      "Epoch 25, Train MSE Loss: 0.036892220939606625, Validation avg MSE loss: 0.8387414267218644, Validation R2: 0.8372566665146389\n",
      "Epoch 26, Train MSE Loss: 0.03327094266261336, Validation avg MSE loss: 0.8581865273201755, Validation R2: 0.8334836785433991\n",
      "Epoch 27, Train MSE Loss: 0.03258457350360845, Validation avg MSE loss: 0.9884063282442772, Validation R2: 0.8082167660529234\n",
      "Epoch 28, Train MSE Loss: 0.03336137810726123, Validation avg MSE loss: 0.8668286491414346, Validation R2: 0.8318068216496723\n",
      "Epoch 29, Train MSE Loss: 0.03352122362331382, Validation avg MSE loss: 0.8243178122506954, Validation R2: 0.8400553179144887\n",
      "Epoch 30, Train MSE Loss: 0.03153352502180044, Validation avg MSE loss: 0.8264147990350498, Validation R2: 0.8396484358083889\n",
      "Epoch 31, Train MSE Loss: 0.035214238314829484, Validation avg MSE loss: 0.9259937039068571, Validation R2: 0.8203268606830727\n",
      "Epoch 32, Train MSE Loss: 0.032106914766083273, Validation avg MSE loss: 0.8138637915759415, Validation R2: 0.842083741624087\n",
      "Epoch 33, Train MSE Loss: 0.030066189903377692, Validation avg MSE loss: 0.8325100037227056, Validation R2: 0.8384657675347599\n",
      "Epoch 34, Train MSE Loss: 0.033575756917242995, Validation avg MSE loss: 0.8213680434415211, Validation R2: 0.8406276728060955\n",
      "Epoch 35, Train MSE Loss: 0.032370111861673004, Validation avg MSE loss: 0.8199631260685262, Validation R2: 0.84090027103606\n",
      "Epoch 36, Train MSE Loss: 0.032810061145780355, Validation avg MSE loss: 0.8346780991362085, Validation R2: 0.8380450833072823\n",
      "Epoch 37, Train MSE Loss: 0.03350882328005958, Validation avg MSE loss: 0.8147965857767617, Validation R2: 0.8419027494032776\n",
      "Epoch 38, Train MSE Loss: 0.030918770579171022, Validation avg MSE loss: 0.8473154015489661, Validation R2: 0.835593033770829\n",
      "Epoch 39, Train MSE Loss: 0.03135758126257793, Validation avg MSE loss: 0.8918901706106427, Validation R2: 0.8269440657204916\n",
      "Epoch 40, Train MSE Loss: 0.0350764814739481, Validation avg MSE loss: 1.0032141117806097, Validation R2: 0.8053435708496194\n",
      "Epoch 41, Train MSE Loss: 0.03344246295761903, Validation avg MSE loss: 0.820458596005206, Validation R2: 0.8408041357410283\n",
      "Epoch 42, Train MSE Loss: 0.03079600688359161, Validation avg MSE loss: 0.826675723742555, Validation R2: 0.8395978070098518\n",
      "Epoch 43, Train MSE Loss: 0.0324991640785581, Validation avg MSE loss: 0.7695211574606798, Validation R2: 0.8506876661976349\n",
      "Epoch 44, Train MSE Loss: 0.030353183719740474, Validation avg MSE loss: 0.8057466195719037, Validation R2: 0.8436587404729177\n",
      "Epoch 45, Train MSE Loss: 0.03237205707445377, Validation avg MSE loss: 1.05346000821985, Validation R2: 0.7955942213001082\n",
      "Epoch 46, Train MSE Loss: 0.02940430921686198, Validation avg MSE loss: 0.7780222518965025, Validation R2: 0.8490381761756093\n",
      "Epoch 47, Train MSE Loss: 0.03288008018237788, Validation avg MSE loss: 0.7701993599973072, Validation R2: 0.850556074693438\n",
      "Epoch 48, Train MSE Loss: 0.0297539706306817, Validation avg MSE loss: 0.7747132889947843, Validation R2: 0.8496802222323278\n",
      "Epoch 49, Train MSE Loss: 0.03566787780124174, Validation avg MSE loss: 0.7569822475476691, Validation R2: 0.8531206263337513\n",
      "Epoch 50, Train MSE Loss: 0.02928876814054544, Validation avg MSE loss: 0.8123507309951371, Validation R2: 0.8423773244336924\n",
      "Epoch 51, Train MSE Loss: 0.028027750535180456, Validation avg MSE loss: 0.772803027233554, Validation R2: 0.8500508760927749\n",
      "Epoch 52, Train MSE Loss: 0.027686156282932424, Validation avg MSE loss: 0.7984682156930243, Validation R2: 0.8450709882682148\n",
      "Epoch 53, Train MSE Loss: 0.03296595091566014, Validation avg MSE loss: 0.7639814471943551, Validation R2: 0.8517625528958259\n",
      "Epoch 54, Train MSE Loss: 0.031485752890221035, Validation avg MSE loss: 0.8261163713550438, Validation R2: 0.839706339146262\n",
      "Epoch 55, Train MSE Loss: 0.029413558691409634, Validation avg MSE loss: 0.8153843439780178, Validation R2: 0.8417887042969326\n",
      "Epoch 56, Train MSE Loss: 0.03164278317713685, Validation avg MSE loss: 0.8042173181278872, Validation R2: 0.8439554747649881\n",
      "Epoch 57, Train MSE Loss: 0.028707784949543735, Validation avg MSE loss: 0.7457501116286386, Validation R2: 0.8553000294136331\n",
      "Epoch 58, Train MSE Loss: 0.03189090693869242, Validation avg MSE loss: 0.7208984975640732, Validation R2: 0.8601220554865207\n",
      "Epoch 59, Train MSE Loss: 0.030879587579328575, Validation avg MSE loss: 0.7623883104137252, Validation R2: 0.8520716754512209\n",
      "Epoch 60, Train MSE Loss: 0.029354433262691795, Validation avg MSE loss: 0.772952211217663, Validation R2: 0.8500219310346521\n",
      "Epoch 61, Train MSE Loss: 0.028340206310119968, Validation avg MSE loss: 0.8804524335086397, Validation R2: 0.8291633617245727\n",
      "Epoch 62, Train MSE Loss: 0.0294406107087886, Validation avg MSE loss: 0.7312800968761983, Validation R2: 0.8581076853337587\n",
      "Epoch 63, Train MSE Loss: 0.030241344462741505, Validation avg MSE loss: 0.7950863527932871, Validation R2: 0.8457271814943312\n",
      "Epoch 64, Train MSE Loss: 0.02855596683109943, Validation avg MSE loss: 0.9871587042387675, Validation R2: 0.8084588474764163\n",
      "Epoch 65, Train MSE Loss: 0.030772151545251817, Validation avg MSE loss: 0.7894775553134994, Validation R2: 0.8468154726151337\n",
      "Epoch 66, Train MSE Loss: 0.030580129961745438, Validation avg MSE loss: 0.7939935754583233, Validation R2: 0.8459392154154121\n",
      "Epoch 67, Train MSE Loss: 0.02918590027054239, Validation avg MSE loss: 0.7929264963077647, Validation R2: 0.8461462619888316\n",
      "Epoch 68, Train MSE Loss: 0.02504258520256918, Validation avg MSE loss: 0.8297329523706123, Validation R2: 0.8390046051529935\n",
      "Epoch 69, Train MSE Loss: 0.03137893399880361, Validation avg MSE loss: 0.6939569895084707, Validation R2: 0.865349591593466\n",
      "Epoch 70, Train MSE Loss: 0.02772733638529767, Validation avg MSE loss: 0.7504208684169772, Validation R2: 0.8543937470059427\n",
      "Epoch 71, Train MSE Loss: 0.028286802927300566, Validation avg MSE loss: 0.779954068603914, Validation R2: 0.8486633403497392\n",
      "Epoch 72, Train MSE Loss: 0.028393796238296576, Validation avg MSE loss: 0.7490382164528254, Validation R2: 0.8546620289524838\n",
      "Epoch 73, Train MSE Loss: 0.025526550617027705, Validation avg MSE loss: 0.8114626860293452, Validation R2: 0.8425496342383706\n",
      "Epoch 74, Train MSE Loss: 0.028715576736995756, Validation avg MSE loss: 0.7158467752141832, Validation R2: 0.8611022566869221\n",
      "Epoch 75, Train MSE Loss: 0.02901743031922571, Validation avg MSE loss: 0.7765023879934089, Validation R2: 0.8493330818985927\n",
      "Epoch 76, Train MSE Loss: 0.026288634294152523, Validation avg MSE loss: 0.751425891253887, Validation R2: 0.8541987410589038\n",
      "Epoch 77, Train MSE Loss: 0.02805577486158739, Validation avg MSE loss: 0.7061167271246482, Validation R2: 0.8629902067421715\n",
      "Epoch 78, Train MSE Loss: 0.030424748119916727, Validation avg MSE loss: 0.7692311722960855, Validation R2: 0.8507439322892117\n",
      "Epoch 79, Train MSE Loss: 0.027169192742614152, Validation avg MSE loss: 0.741332629810294, Validation R2: 0.8561571662118262\n",
      "Epoch 80, Train MSE Loss: 0.027367192268900227, Validation avg MSE loss: 0.746652305748188, Validation R2: 0.8551249747147684\n",
      "Epoch 81, Train MSE Loss: 0.02500027589945994, Validation avg MSE loss: 0.7154278436557063, Validation R2: 0.861183543764108\n",
      "Epoch 82, Train MSE Loss: 0.02592416609866656, Validation avg MSE loss: 0.7288420092561994, Validation R2: 0.8585807546028383\n",
      "Epoch 83, Train MSE Loss: 0.027979348259595967, Validation avg MSE loss: 0.7456177217236232, Validation R2: 0.8553257171867392\n",
      "Epoch 84, Train MSE Loss: 0.02563067900632279, Validation avg MSE loss: 0.7787117992238906, Validation R2: 0.8489043798235647\n",
      "Epoch 85, Train MSE Loss: 0.028597114917444284, Validation avg MSE loss: 0.7408644289238815, Validation R2: 0.8562480094287025\n",
      "Epoch 86, Train MSE Loss: 0.02853123694988682, Validation avg MSE loss: 0.73840755610108, Validation R2: 0.8567247237514075\n",
      "Epoch 87, Train MSE Loss: 0.030745946383000478, Validation avg MSE loss: 0.7070747018756788, Validation R2: 0.8628043256053501\n",
      "Epoch 88, Train MSE Loss: 0.026703084816953822, Validation avg MSE loss: 0.682970362434679, Validation R2: 0.8674813600904953\n",
      "Epoch 89, Train MSE Loss: 0.02594742056667937, Validation avg MSE loss: 0.6783791486126478, Validation R2: 0.8683722051863194\n",
      "Epoch 90, Train MSE Loss: 0.02458684341341852, Validation avg MSE loss: 0.6639681117345728, Validation R2: 0.871168417894054\n",
      "Epoch 91, Train MSE Loss: 0.02601535211909901, Validation avg MSE loss: 0.6371424834950775, Validation R2: 0.8763734702331099\n",
      "Epoch 92, Train MSE Loss: 0.025919945865142638, Validation avg MSE loss: 0.6842433179161935, Validation R2: 0.867234362338488\n",
      "Epoch 93, Train MSE Loss: 0.02549398811059093, Validation avg MSE loss: 0.7866948382619281, Validation R2: 0.8473554105990552\n",
      "Epoch 94, Train MSE Loss: 0.023858049723367206, Validation avg MSE loss: 0.6866105780501508, Validation R2: 0.866775039474435\n",
      "Epoch 95, Train MSE Loss: 0.025313473031949047, Validation avg MSE loss: 0.6881320123099525, Validation R2: 0.8664798312201832\n",
      "Epoch 96, Train MSE Loss: 0.025733827388207293, Validation avg MSE loss: 0.7634653942441219, Validation R2: 0.8518626823406057\n",
      "Epoch 97, Train MSE Loss: 0.024623088786448713, Validation avg MSE loss: 0.6880898704689148, Validation R2: 0.8664880064909426\n",
      "Epoch 98, Train MSE Loss: 0.026095038936566357, Validation avg MSE loss: 0.6996931929287575, Validation R2: 0.8642365806537133\n",
      "Epoch 99, Train MSE Loss: 0.024698386138135738, Validation avg MSE loss: 0.6939049424477202, Validation R2: 0.8653596899654095\n",
      "Epoch 100, Train MSE Loss: 0.025725023808606185, Validation avg MSE loss: 0.7738040668441217, Validation R2: 0.849856642202425\n",
      "Epoch 101, Train MSE Loss: 0.023618002490299505, Validation avg MSE loss: 0.6407110486258789, Validation R2: 0.87568105184003\n",
      "Epoch 102, Train MSE Loss: 0.02786587016809806, Validation avg MSE loss: 0.6758335894639329, Validation R2: 0.8688661262524124\n",
      "Epoch 103, Train MSE Loss: 0.025833935701926374, Validation avg MSE loss: 0.6477007604532358, Validation R2: 0.8743248156708833\n",
      "Epoch 104, Train MSE Loss: 0.025077248624053076, Validation avg MSE loss: 0.70878957617651, Validation R2: 0.862471585166947\n",
      "Epoch 105, Train MSE Loss: 0.025494044444249103, Validation avg MSE loss: 0.6695676846852098, Validation R2: 0.8700819156294057\n",
      "Epoch 106, Train MSE Loss: 0.0240791015112215, Validation avg MSE loss: 0.6431761790662137, Validation R2: 0.8752027351298531\n",
      "Epoch 107, Train MSE Loss: 0.022885814763423874, Validation avg MSE loss: 0.6628757368535819, Validation R2: 0.8713803756932111\n",
      "Epoch 108, Train MSE Loss: 0.02829162185049374, Validation avg MSE loss: 0.7688350922025532, Validation R2: 0.8508207868014085\n",
      "Epoch 109, Train MSE Loss: 0.025192814563171826, Validation avg MSE loss: 0.722000016765056, Validation R2: 0.859908326184906\n",
      "Epoch 110, Train MSE Loss: 0.022345469459197475, Validation avg MSE loss: 0.7349822268831074, Validation R2: 0.8573893519670392\n",
      "Epoch 111, Train MSE Loss: 0.02575816551095366, Validation avg MSE loss: 0.7450463956503864, Validation R2: 0.8554365751648916\n",
      "Epoch 112, Train MSE Loss: 0.02313677864169863, Validation avg MSE loss: 0.6579712207143191, Validation R2: 0.8723320109941094\n",
      "Epoch 113, Train MSE Loss: 0.02443785377325874, Validation avg MSE loss: 0.6900816765869865, Validation R2: 0.8661015305377321\n",
      "Epoch 114, Train MSE Loss: 0.02408207715086292, Validation avg MSE loss: 0.6876826397837534, Validation R2: 0.8665670227165617\n",
      "Epoch 115, Train MSE Loss: 0.025503730628548597, Validation avg MSE loss: 0.6224300159291996, Validation R2: 0.8792281698334349\n",
      "Epoch 116, Train MSE Loss: 0.026661967623260226, Validation avg MSE loss: 0.6543095016380404, Validation R2: 0.8730425076615644\n",
      "Epoch 117, Train MSE Loss: 0.023573178211495512, Validation avg MSE loss: 0.6307153290277888, Validation R2: 0.877620549278065\n",
      "Epoch 118, Train MSE Loss: 0.026679104817680138, Validation avg MSE loss: 0.6609657334983586, Validation R2: 0.8717509778438698\n",
      "Epoch 119, Train MSE Loss: 0.025842841078595417, Validation avg MSE loss: 0.6283506995393582, Validation R2: 0.8780793642722658\n",
      "Epoch 120, Train MSE Loss: 0.023656948905297764, Validation avg MSE loss: 0.7226059149135787, Validation R2: 0.8597907628934437\n",
      "Epoch 121, Train MSE Loss: 0.022251005860627886, Validation avg MSE loss: 0.6381711267409805, Validation R2: 0.8761738795995047\n",
      "Epoch 122, Train MSE Loss: 0.024812272541274518, Validation avg MSE loss: 0.6498659841759559, Validation R2: 0.8739046929163516\n",
      "Epoch 123, Train MSE Loss: 0.02409568686707321, Validation avg MSE loss: 0.7150206113848068, Validation R2: 0.8612625610512699\n",
      "Epoch 124, Train MSE Loss: 0.02200130127089515, Validation avg MSE loss: 0.6648914914102397, Validation R2: 0.8709892512467254\n",
      "Epoch 125, Train MSE Loss: 0.022489436747229547, Validation avg MSE loss: 0.6465609035667432, Validation R2: 0.8745459863942016\n",
      "Epoch 126, Train MSE Loss: 0.022478278850240348, Validation avg MSE loss: 0.7141240252814445, Validation R2: 0.8614365253236231\n",
      "Epoch 127, Train MSE Loss: 0.022281355627228046, Validation avg MSE loss: 0.7462198192588745, Validation R2: 0.8552088899758643\n",
      "Epoch 128, Train MSE Loss: 0.02427631956907175, Validation avg MSE loss: 0.6697651677557878, Validation R2: 0.8700435987322775\n",
      "Epoch 129, Train MSE Loss: 0.02450515534687465, Validation avg MSE loss: 0.6444988488585408, Validation R2: 0.8749460925623933\n",
      "Epoch 130, Train MSE Loss: 0.0218142922926372, Validation avg MSE loss: 0.6461575755253592, Validation R2: 0.8746242455559876\n",
      "Epoch 131, Train MSE Loss: 0.023797661363417717, Validation avg MSE loss: 0.6449605046833107, Validation R2: 0.8748565180386366\n",
      "Epoch 132, Train MSE Loss: 0.021706677940230148, Validation avg MSE loss: 0.7049162709476455, Validation R2: 0.8632231320795942\n",
      "Epoch 133, Train MSE Loss: 0.021898800213955457, Validation avg MSE loss: 0.6646018973220731, Validation R2: 0.871045443310447\n",
      "Epoch 134, Train MSE Loss: 0.022086815962241654, Validation avg MSE loss: 0.6504268096077392, Validation R2: 0.8737958752946907\n",
      "Epoch 135, Train MSE Loss: 0.022586150635901154, Validation avg MSE loss: 0.6582931264195966, Validation R2: 0.8722695522470242\n",
      "Epoch 136, Train MSE Loss: 0.025790203238802316, Validation avg MSE loss: 0.8437595842542498, Validation R2: 0.8362829770021694\n",
      "Epoch 137, Train MSE Loss: 0.023616266604141227, Validation avg MSE loss: 0.6582472155402354, Validation R2: 0.8722784587180096\n",
      "Epoch 138, Train MSE Loss: 0.022317197066452972, Validation avg MSE loss: 0.6276691386685295, Validation R2: 0.8782116079157664\n",
      "Epoch 139, Train MSE Loss: 0.022645782439777433, Validation avg MSE loss: 0.6091260816608401, Validation R2: 0.8818095720836292\n",
      "Epoch 140, Train MSE Loss: 0.020259354337884686, Validation avg MSE loss: 0.6339041072758437, Validation R2: 0.8770018213965318\n",
      "Epoch 141, Train MSE Loss: 0.023318375590899568, Validation avg MSE loss: 0.6109353496035792, Validation R2: 0.881458512002137\n",
      "Epoch 142, Train MSE Loss: 0.022403841999311933, Validation avg MSE loss: 0.6253830097500849, Validation R2: 0.8786551942012121\n",
      "Epoch 143, Train MSE Loss: 0.020889006340318667, Validation avg MSE loss: 0.6873676301173576, Validation R2: 0.8666281443818502\n",
      "Epoch 144, Train MSE Loss: 0.0247441790254576, Validation avg MSE loss: 0.7086486133316491, Validation R2: 0.862498935206806\n",
      "Epoch 145, Train MSE Loss: 0.020937205385210246, Validation avg MSE loss: 0.6281578718884928, Validation R2: 0.8781167799779799\n",
      "Epoch 146, Train MSE Loss: 0.02331972987847423, Validation avg MSE loss: 0.676648175838765, Validation R2: 0.8687080723739838\n",
      "Epoch 147, Train MSE Loss: 0.021022007100597984, Validation avg MSE loss: 0.7189864891461184, Validation R2: 0.8604930486835569\n",
      "Epoch 148, Train MSE Loss: 0.020445866159219173, Validation avg MSE loss: 0.6590242088142696, Validation R2: 0.8721276960259707\n",
      "Epoch 149, Train MSE Loss: 0.023032756575988297, Validation avg MSE loss: 0.6816864905480204, Validation R2: 0.8677304713721872\n",
      "Epoch 150, Train MSE Loss: 0.02182208276673854, Validation avg MSE loss: 0.6583646538042357, Validation R2: 0.8722556740220212\n",
      "Epoch 151, Train MSE Loss: 0.0224683116254151, Validation avg MSE loss: 0.6946075686475838, Validation R2: 0.8652233603788809\n",
      "Epoch 152, Train MSE Loss: 0.02123800475158607, Validation avg MSE loss: 0.7021057009112308, Validation R2: 0.8637684752779882\n",
      "Epoch 153, Train MSE Loss: 0.022420108714812082, Validation avg MSE loss: 0.6375520817435293, Validation R2: 0.8762939943237442\n",
      "Epoch 154, Train MSE Loss: 0.023041743463000277, Validation avg MSE loss: 0.652967986140804, Validation R2: 0.8733028033237598\n",
      "Epoch 155, Train MSE Loss: 0.023155599237809955, Validation avg MSE loss: 0.6456217382638149, Validation R2: 0.874728215518511\n",
      "Epoch 156, Train MSE Loss: 0.021705597011318755, Validation avg MSE loss: 0.6234633968800806, Validation R2: 0.879027658934078\n",
      "Epoch 157, Train MSE Loss: 0.02256360494773298, Validation avg MSE loss: 0.6145660320860417, Validation R2: 0.8807540381745081\n",
      "Epoch 158, Train MSE Loss: 0.02200086890593865, Validation avg MSE loss: 0.6347514751704154, Validation R2: 0.8768374029984828\n",
      "Epoch 159, Train MSE Loss: 0.02226244934117979, Validation avg MSE loss: 0.675263300916445, Validation R2: 0.8689767820068013\n",
      "Epoch 160, Train MSE Loss: 0.02390336973836311, Validation avg MSE loss: 0.6110968931825482, Validation R2: 0.8814271672362387\n",
      "Epoch 161, Train MSE Loss: 0.02200794314135469, Validation avg MSE loss: 0.6309467280144876, Validation R2: 0.8775756483416439\n",
      "Epoch 162, Train MSE Loss: 0.02084410900948053, Validation avg MSE loss: 0.6425520458350894, Validation R2: 0.8753238369482317\n",
      "Epoch 163, Train MSE Loss: 0.01977687284449516, Validation avg MSE loss: 0.670966288273544, Validation R2: 0.8698105418427012\n",
      "Epoch 164, Train MSE Loss: 0.019869169546600986, Validation avg MSE loss: 0.6591018878268099, Validation R2: 0.8721126249140523\n",
      "Epoch 165, Train MSE Loss: 0.021406216658404028, Validation avg MSE loss: 0.5701123712712144, Validation R2: 0.8893795094634627\n",
      "Epoch 166, Train MSE Loss: 0.02007216684305483, Validation avg MSE loss: 0.5774900646296518, Validation R2: 0.8879479925983808\n",
      "Epoch 167, Train MSE Loss: 0.02097658092721867, Validation avg MSE loss: 0.6222817581685247, Validation R2: 0.8792569374766379\n",
      "Epoch 168, Train MSE Loss: 0.022807021990847956, Validation avg MSE loss: 0.6509782598065524, Validation R2: 0.8736888733443251\n",
      "Epoch 169, Train MSE Loss: 0.02199231256666839, Validation avg MSE loss: 0.5890761844533603, Validation R2: 0.8856999065680722\n",
      "Epoch 170, Train MSE Loss: 0.020278185308640388, Validation avg MSE loss: 0.5989119528739847, Validation R2: 0.8837914467363688\n",
      "Epoch 171, Train MSE Loss: 0.020337983503309957, Validation avg MSE loss: 0.6071207408130836, Validation R2: 0.882198672131793\n",
      "Epoch 172, Train MSE Loss: 0.02067545869133689, Validation avg MSE loss: 0.661645119623639, Validation R2: 0.8716191555658928\n",
      "Epoch 173, Train MSE Loss: 0.020774522238718698, Validation avg MSE loss: 0.6061638560828553, Validation R2: 0.8823843385584352\n",
      "Epoch 174, Train MSE Loss: 0.02119348483973755, Validation avg MSE loss: 0.5829388449685565, Validation R2: 0.8868907514098726\n",
      "Epoch 175, Train MSE Loss: 0.023170510079802538, Validation avg MSE loss: 0.6127204112729173, Validation R2: 0.8811121535773714\n",
      "Epoch 176, Train MSE Loss: 0.02033090211467574, Validation avg MSE loss: 0.6641391099991723, Validation R2: 0.871135239254619\n",
      "Epoch 177, Train MSE Loss: 0.02077590579997145, Validation avg MSE loss: 0.6151341981660124, Validation R2: 0.880643797915846\n",
      "Epoch 178, Train MSE Loss: 0.019811883601804, Validation avg MSE loss: 0.6768784616547684, Validation R2: 0.8686633864531954\n",
      "Epoch 179, Train MSE Loss: 0.021418377591871107, Validation avg MSE loss: 0.6271478784205488, Validation R2: 0.8783127508894151\n",
      "Epoch 180, Train MSE Loss: 0.020547164013473, Validation avg MSE loss: 0.6079734653899483, Validation R2: 0.8820332136010172\n",
      "Epoch 181, Train MSE Loss: 0.019969847111109884, Validation avg MSE loss: 0.6343324323174422, Validation R2: 0.8769187128989916\n",
      "Epoch 182, Train MSE Loss: 0.019821494322129735, Validation avg MSE loss: 0.6040304833504465, Validation R2: 0.8827982820859094\n",
      "Epoch 183, Train MSE Loss: 0.019495140455514523, Validation avg MSE loss: 0.5874041934712456, Validation R2: 0.8860243266959782\n",
      "Epoch 184, Train MSE Loss: 0.019527625416440604, Validation avg MSE loss: 0.648674643516079, Validation R2: 0.8741358523628396\n",
      "Epoch 185, Train MSE Loss: 0.01975606426497521, Validation avg MSE loss: 0.6044179780863295, Validation R2: 0.8827230969069558\n",
      "Epoch 186, Train MSE Loss: 0.020130586002988456, Validation avg MSE loss: 0.5718031977606618, Validation R2: 0.8890514316443539\n",
      "Epoch 187, Train MSE Loss: 0.020928753618390493, Validation avg MSE loss: 0.5598305333170069, Validation R2: 0.8913745219937709\n",
      "Epoch 188, Train MSE Loss: 0.017104785649845182, Validation avg MSE loss: 0.6275353758332939, Validation R2: 0.8782375610903574\n",
      "Epoch 189, Train MSE Loss: 0.020300689101747822, Validation avg MSE loss: 0.6587651711182908, Validation R2: 0.8721779566856092\n",
      "Epoch 190, Train MSE Loss: 0.018149115574729945, Validation avg MSE loss: 0.5969568279831693, Validation R2: 0.884170802794198\n",
      "Epoch 191, Train MSE Loss: 0.019905975249548444, Validation avg MSE loss: 0.5973238561680259, Validation R2: 0.8840995867983169\n",
      "Epoch 192, Train MSE Loss: 0.020284668965773148, Validation avg MSE loss: 0.6516970496511899, Validation R2: 0.8735494059663849\n",
      "Epoch 193, Train MSE Loss: 0.019106450703350243, Validation avg MSE loss: 0.6190508755426947, Validation R2: 0.8798838356321291\n",
      "Epoch 194, Train MSE Loss: 0.020611104739214525, Validation avg MSE loss: 0.5533035709762172, Validation R2: 0.8926409678701346\n",
      "Epoch 195, Train MSE Loss: 0.021935150357677773, Validation avg MSE loss: 0.6210089763525044, Validation R2: 0.8795038973013721\n",
      "Epoch 196, Train MSE Loss: 0.020745893275394143, Validation avg MSE loss: 0.5886032306837083, Validation R2: 0.8857916744791816\n",
      "Epoch 197, Train MSE Loss: 0.018099314489808685, Validation avg MSE loss: 0.5954621132242105, Validation R2: 0.8844608295742832\n",
      "Epoch 198, Train MSE Loss: 0.019590726184210597, Validation avg MSE loss: 0.5636146602647604, Validation R2: 0.8906402777346596\n",
      "Epoch 199, Train MSE Loss: 0.019352655750420562, Validation avg MSE loss: 0.573260318477194, Validation R2: 0.8887687024942182\n",
      "Epoch 200, Train MSE Loss: 0.01992988589729808, Validation avg MSE loss: 0.6199260419372103, Validation R2: 0.8797140223958114\n",
      "Epoch 201, Train MSE Loss: 0.020270146776461547, Validation avg MSE loss: 0.6133052738544803, Validation R2: 0.8809986721454763\n",
      "Epoch 202, Train MSE Loss: 0.01842641906436954, Validation avg MSE loss: 0.6533827263574655, Validation R2: 0.873222328498215\n",
      "Epoch 203, Train MSE Loss: 0.020108996334995768, Validation avg MSE loss: 0.6199482989144502, Validation R2: 0.8797097048408494\n",
      "Epoch 204, Train MSE Loss: 0.02256681712265818, Validation avg MSE loss: 0.6073672509433927, Validation R2: 0.8821508405502037\n",
      "Epoch 205, Train MSE Loss: 0.02032825800109068, Validation avg MSE loss: 0.5724618180552935, Validation R2: 0.8889236385875317\n",
      "Epoch 206, Train MSE Loss: 0.018900118982976926, Validation avg MSE loss: 0.5692569179275706, Validation R2: 0.8895454937577554\n",
      "Epoch 207, Train MSE Loss: 0.01931497229969422, Validation avg MSE loss: 0.5664139852038249, Validation R2: 0.8900971171978622\n",
      "Epoch 208, Train MSE Loss: 0.01887412141273397, Validation avg MSE loss: 0.6163222245873332, Validation R2: 0.8804132817798952\n",
      "Epoch 209, Train MSE Loss: 0.019538684985590086, Validation avg MSE loss: 0.5852768163702068, Validation R2: 0.8864371098809508\n",
      "Epoch 210, Train MSE Loss: 0.020037822408845312, Validation avg MSE loss: 0.5597646867030144, Validation R2: 0.8913873007731523\n",
      "Epoch 211, Train MSE Loss: 0.020027770072287836, Validation avg MSE loss: 0.6720091830568817, Validation R2: 0.8696081858666542\n",
      "Epoch 212, Train MSE Loss: 0.0185769154068636, Validation avg MSE loss: 0.5808763555203575, Validation R2: 0.8872909420670282\n",
      "Epoch 213, Train MSE Loss: 0.01914460653079851, Validation avg MSE loss: 0.5869440524182383, Validation R2: 0.8861136111408096\n",
      "Epoch 214, Train MSE Loss: 0.017719640634012327, Validation avg MSE loss: 0.5809123530713395, Validation R2: 0.8872839568508525\n",
      "Epoch 215, Train MSE Loss: 0.01951546203799364, Validation avg MSE loss: 0.6083904677858799, Validation R2: 0.8819523028853912\n",
      "Epoch 216, Train MSE Loss: 0.021266612255256088, Validation avg MSE loss: 0.5656474701247413, Validation R2: 0.8902458446263157\n",
      "Epoch 217, Train MSE Loss: 0.019772454237197826, Validation avg MSE loss: 0.6222046516885655, Validation R2: 0.8792718959706985\n",
      "Epoch 218, Train MSE Loss: 0.020935668054546854, Validation avg MSE loss: 0.6169438996863247, Validation R2: 0.8802926572015954\n",
      "Epoch 219, Train MSE Loss: 0.021899844187326285, Validation avg MSE loss: 0.6299399165624642, Validation R2: 0.8777710043319277\n",
      "Epoch 220, Train MSE Loss: 0.018920043950070298, Validation avg MSE loss: 0.6288180079332333, Validation R2: 0.8779886903956291\n",
      "Epoch 221, Train MSE Loss: 0.01886878815167759, Validation avg MSE loss: 0.6339593661490718, Validation R2: 0.8769910984586136\n",
      "Epoch 222, Train MSE Loss: 0.017101681747880584, Validation avg MSE loss: 0.5482258486061303, Validation R2: 0.8936262104010472\n",
      "Epoch 223, Train MSE Loss: 0.018525575686188338, Validation avg MSE loss: 0.5922105553303566, Validation R2: 0.885091735455499\n",
      "Epoch 224, Train MSE Loss: 0.017745421228810582, Validation avg MSE loss: 0.5948206844238114, Validation R2: 0.8845852865022263\n",
      "Epoch 225, Train MSE Loss: 0.019365073770218573, Validation avg MSE loss: 0.6312650302904805, Validation R2: 0.8775138868615658\n",
      "Epoch 226, Train MSE Loss: 0.019440915856816024, Validation avg MSE loss: 0.5657557622782438, Validation R2: 0.8902248344373336\n",
      "Epoch 227, Train MSE Loss: 0.016810268593204523, Validation avg MSE loss: 0.5704831559756024, Validation R2: 0.8893075637222266\n",
      "Epoch 228, Train MSE Loss: 0.01848585355176101, Validation avg MSE loss: 0.5395717846644145, Validation R2: 0.8953053819043665\n",
      "Epoch 229, Train MSE Loss: 0.019543488611138846, Validation avg MSE loss: 0.5823778261283988, Validation R2: 0.8869996108059309\n",
      "Epoch 230, Train MSE Loss: 0.018256914952641843, Validation avg MSE loss: 0.6253315378459525, Validation R2: 0.8786651810799753\n",
      "Epoch 231, Train MSE Loss: 0.019282244426712492, Validation avg MSE loss: 0.5719283083186238, Validation R2: 0.8890271565506602\n",
      "Epoch 232, Train MSE Loss: 0.01921689108906194, Validation avg MSE loss: 0.5627939865206931, Validation R2: 0.8907995150119826\n",
      "Epoch 233, Train MSE Loss: 0.0168017546280789, Validation avg MSE loss: 0.604614086512505, Validation R2: 0.8826850458481118\n",
      "Epoch 234, Train MSE Loss: 0.01905113095190467, Validation avg MSE loss: 0.561431035581851, Validation R2: 0.8910639711367012\n",
      "Epoch 235, Train MSE Loss: 0.019132569960902904, Validation avg MSE loss: 0.5842789926975649, Validation R2: 0.8866307191086615\n",
      "Epoch 236, Train MSE Loss: 0.01889933520172229, Validation avg MSE loss: 0.5456447438895041, Validation R2: 0.8941270297531214\n",
      "Epoch 237, Train MSE Loss: 0.017509925623162094, Validation avg MSE loss: 0.5910452551418538, Validation R2: 0.8853178428967933\n",
      "Epoch 238, Train MSE Loss: 0.01953857238435428, Validation avg MSE loss: 0.5991331899133643, Validation R2: 0.8837485176198675\n",
      "Epoch 239, Train MSE Loss: 0.01851541084751586, Validation avg MSE loss: 0.62774272038821, Validation R2: 0.8781973292271712\n",
      "Epoch 240, Train MSE Loss: 0.01994102076521998, Validation avg MSE loss: 0.5320072726056351, Validation R2: 0.8967731465863364\n",
      "Epoch 241, Train MSE Loss: 0.021127747326362425, Validation avg MSE loss: 0.6149840711600438, Validation R2: 0.8806729267145679\n",
      "Epoch 242, Train MSE Loss: 0.01743095465615689, Validation avg MSE loss: 0.6806249857714844, Validation R2: 0.867936439920866\n",
      "Epoch 243, Train MSE Loss: 0.020111896543703694, Validation avg MSE loss: 0.6074371895386268, Validation R2: 0.8821372699404597\n",
      "Epoch 244, Train MSE Loss: 0.018496285355804765, Validation avg MSE loss: 0.5224983160132174, Validation R2: 0.8986181994932402\n",
      "Epoch 245, Train MSE Loss: 0.016879761364401842, Validation avg MSE loss: 0.5711163193058366, Validation R2: 0.8891847093486852\n",
      "Epoch 246, Train MSE Loss: 0.017532396342960534, Validation avg MSE loss: 0.5727240390349239, Validation R2: 0.888872757696981\n",
      "Epoch 247, Train MSE Loss: 0.016363352206752464, Validation avg MSE loss: 0.5686962891898563, Validation R2: 0.8896542756916056\n",
      "Epoch 248, Train MSE Loss: 0.018384597088703825, Validation avg MSE loss: 0.56078406079606, Validation R2: 0.8911895078300285\n",
      "Epoch 249, Train MSE Loss: 0.017835308948403714, Validation avg MSE loss: 0.5234120422030286, Validation R2: 0.8984409041849571\n",
      "Epoch 250, Train MSE Loss: 0.017195053382089025, Validation avg MSE loss: 0.5845793892336604, Validation R2: 0.8865724333341519\n",
      "Epoch 251, Train MSE Loss: 0.018643732890982322, Validation avg MSE loss: 0.5376072592969375, Validation R2: 0.8956865662089792\n",
      "Epoch 252, Train MSE Loss: 0.018008854876204235, Validation avg MSE loss: 0.5478599573668032, Validation R2: 0.8936972061761967\n",
      "Epoch 253, Train MSE Loss: 0.017212889939876987, Validation avg MSE loss: 0.6462144731328642, Validation R2: 0.8746132070556867\n",
      "Epoch 254, Train MSE Loss: 0.017509936642091713, Validation avg MSE loss: 0.5890813870901506, Validation R2: 0.8856988986942822\n",
      "Epoch 255, Train MSE Loss: 0.017495419458380825, Validation avg MSE loss: 0.5829807795791679, Validation R2: 0.8868826165138064\n",
      "Epoch 256, Train MSE Loss: 0.01701543422337382, Validation avg MSE loss: 0.5620452257409522, Validation R2: 0.8909447989497006\n",
      "Epoch 257, Train MSE Loss: 0.01707881741936085, Validation avg MSE loss: 0.5922424526796553, Validation R2: 0.8850855475747638\n",
      "Epoch 258, Train MSE Loss: 0.016871640198510923, Validation avg MSE loss: 0.5965818871653318, Validation R2: 0.8842435554081951\n",
      "Epoch 259, Train MSE Loss: 0.01864820750153514, Validation avg MSE loss: 0.6567855779788188, Validation R2: 0.8725620653313734\n",
      "Epoch 260, Train MSE Loss: 0.015448502122430739, Validation avg MSE loss: 0.6215086996750943, Validation R2: 0.8794069339489365\n",
      "Epoch 261, Train MSE Loss: 0.017269189054447902, Validation avg MSE loss: 0.5972534743018152, Validation R2: 0.884113246072091\n",
      "Epoch 262, Train MSE Loss: 0.016137354356750944, Validation avg MSE loss: 0.5467734556799431, Validation R2: 0.8939080235680346\n",
      "Epoch 263, Train MSE Loss: 0.017195721274601117, Validation avg MSE loss: 0.5605673783982124, Validation R2: 0.8912315500662197\n",
      "Epoch 264, Train MSE Loss: 0.016897199291347663, Validation avg MSE loss: 0.6348166598424131, Validation R2: 0.8768247555884092\n",
      "Epoch 265, Train MSE Loss: 0.0162281981130397, Validation avg MSE loss: 0.6125193755953692, Validation R2: 0.8811511580878714\n",
      "Epoch 266, Train MSE Loss: 0.01668345103837434, Validation avg MSE loss: 0.5281222565568349, Validation R2: 0.8975269671031818\n",
      "Epoch 267, Train MSE Loss: 0.017287250203462504, Validation avg MSE loss: 0.5922506541123806, Validation R2: 0.8850839552382473\n",
      "Epoch 268, Train MSE Loss: 0.017110452369813643, Validation avg MSE loss: 0.534307676079514, Validation R2: 0.896326791752133\n",
      "Epoch 269, Train MSE Loss: 0.017588901050603574, Validation avg MSE loss: 0.5576455148441798, Validation R2: 0.8917984865852913\n",
      "Epoch 270, Train MSE Loss: 0.014718655191213223, Validation avg MSE loss: 0.5360252183386647, Validation R2: 0.8959935346087814\n",
      "Epoch 271, Train MSE Loss: 0.016953535890103445, Validation avg MSE loss: 0.6345620860437223, Validation R2: 0.8768741531708053\n",
      "Epoch 272, Train MSE Loss: 0.017414259474451948, Validation avg MSE loss: 0.5734872568711129, Validation R2: 0.8887246672569038\n",
      "Epoch 273, Train MSE Loss: 0.01738825057139682, Validation avg MSE loss: 0.5906856065135734, Validation R2: 0.8853876268713546\n",
      "Epoch 274, Train MSE Loss: 0.01646887991750848, Validation avg MSE loss: 0.6097868096866985, Validation R2: 0.8816813660780244\n",
      "Epoch 275, Train MSE Loss: 0.015865150649108803, Validation avg MSE loss: 0.5327678934494687, Validation R2: 0.8966255625149621\n",
      "Epoch 276, Train MSE Loss: 0.016838011862565568, Validation avg MSE loss: 0.5749439804575744, Validation R2: 0.8884420180661131\n",
      "Epoch 277, Train MSE Loss: 0.01708960419153163, Validation avg MSE loss: 0.5695454249492294, Validation R2: 0.8894895144758616\n",
      "Epoch 278, Train MSE Loss: 0.014421719966865167, Validation avg MSE loss: 0.5950938720213336, Validation R2: 0.8845322788177955\n",
      "Epoch 279, Train MSE Loss: 0.017830169518083798, Validation avg MSE loss: 0.6144486333890932, Validation R2: 0.8807768197991844\n",
      "Epoch 280, Train MSE Loss: 0.018393550671124935, Validation avg MSE loss: 0.5706599666652027, Validation R2: 0.8892732585932406\n",
      "Epoch 281, Train MSE Loss: 0.016409121106839234, Validation avg MSE loss: 0.5917654442686724, Validation R2: 0.885178100981454\n",
      "Epoch 282, Train MSE Loss: 0.015699960902630622, Validation avg MSE loss: 0.5484426805782503, Validation R2: 0.8935841398656406\n",
      "Epoch 283, Train MSE Loss: 0.016624292106824017, Validation avg MSE loss: 0.5636480855406519, Validation R2: 0.890633791026342\n",
      "Epoch 284, Train MSE Loss: 0.01748409173441039, Validation avg MSE loss: 0.6325633961760667, Validation R2: 0.8772619608308054\n",
      "Epoch 285, Train MSE Loss: 0.018267360699679002, Validation avg MSE loss: 0.557183029606274, Validation R2: 0.8918882256517565\n",
      "Epoch 286, Train MSE Loss: 0.017172964277394332, Validation avg MSE loss: 0.5710324775554104, Validation R2: 0.8892009761723401\n",
      "Epoch 287, Train MSE Loss: 0.01734856981990607, Validation avg MSE loss: 0.5409059960935515, Validation R2: 0.8950465040766821\n",
      "Epoch 288, Train MSE Loss: 0.016649949791822622, Validation avg MSE loss: 0.5696146523483202, Validation R2: 0.8894760825271305\n",
      "Epoch 289, Train MSE Loss: 0.017773479718855373, Validation avg MSE loss: 0.6211040656847935, Validation R2: 0.8794854479014804\n",
      "Epoch 290, Train MSE Loss: 0.015860610717944718, Validation avg MSE loss: 0.5601802618115536, Validation R2: 0.8913066639538628\n",
      "Epoch 291, Train MSE Loss: 0.015078012651852652, Validation avg MSE loss: 0.5060108482273759, Validation R2: 0.9018173068514894\n",
      "Epoch 292, Train MSE Loss: 0.015939798181310725, Validation avg MSE loss: 0.5496490637584607, Validation R2: 0.8933500614676246\n",
      "Epoch 293, Train MSE Loss: 0.017283606060064023, Validation avg MSE loss: 0.6241210594341677, Validation R2: 0.8789000535767938\n",
      "Epoch 294, Train MSE Loss: 0.015909278207766244, Validation avg MSE loss: 0.5264402846256513, Validation R2: 0.8978533251817764\n",
      "Epoch 295, Train MSE Loss: 0.01655153811242258, Validation avg MSE loss: 0.5061828281083433, Validation R2: 0.90178393625385\n",
      "Epoch 296, Train MSE Loss: 0.014549896649669386, Validation avg MSE loss: 0.6145410884852123, Validation R2: 0.8807588802857561\n",
      "Epoch 297, Train MSE Loss: 0.01621849433479711, Validation avg MSE loss: 0.5286267015637945, Validation R2: 0.8974290882150276\n",
      "Epoch 298, Train MSE Loss: 0.01749610843058436, Validation avg MSE loss: 0.5068885887039628, Validation R2: 0.9016469940725733\n",
      "Epoch 299, Train MSE Loss: 0.016519179034920332, Validation avg MSE loss: 0.5129107618797158, Validation R2: 0.9004784964886291\n",
      "Epoch 300, Train MSE Loss: 0.016318515736089313, Validation avg MSE loss: 0.5061433611505319, Validation R2: 0.9017915926432101\n",
      "Epoch 301, Train MSE Loss: 0.017982920594596018, Validation avg MSE loss: 0.527958865741392, Validation R2: 0.8975586729108462\n",
      "Epoch 302, Train MSE Loss: 0.016021684142544106, Validation avg MSE loss: 0.4949559803987693, Validation R2: 0.9039623127690195\n",
      "Epoch 303, Train MSE Loss: 0.013738114279416078, Validation avg MSE loss: 0.5227889485068989, Validation R2: 0.8985618030892591\n",
      "Epoch 304, Train MSE Loss: 0.018782899114086465, Validation avg MSE loss: 0.6515726299389303, Validation R2: 0.8735735482195371\n",
      "Epoch 305, Train MSE Loss: 0.01745006603967324, Validation avg MSE loss: 0.6343546862594084, Validation R2: 0.8769143937436363\n",
      "Epoch 306, Train MSE Loss: 0.017201378842415144, Validation avg MSE loss: 0.604877398386789, Validation R2: 0.8826339539166341\n",
      "Epoch 307, Train MSE Loss: 0.015344363325451008, Validation avg MSE loss: 0.5278538739889439, Validation R2: 0.8975790427114088\n",
      "Epoch 308, Train MSE Loss: 0.016035700782703985, Validation avg MSE loss: 0.5048312360980814, Validation R2: 0.9020461890910749\n",
      "Epoch 309, Train MSE Loss: 0.01614642034216625, Validation avg MSE loss: 0.543023296236338, Validation R2: 0.894635677305482\n",
      "Epoch 310, Train MSE Loss: 0.019266512534042154, Validation avg MSE loss: 0.559363392423926, Validation R2: 0.8914651624857185\n",
      "Epoch 311, Train MSE Loss: 0.019167938940805235, Validation avg MSE loss: 0.6031541225906184, Validation R2: 0.8829683236903209\n",
      "Epoch 312, Train MSE Loss: 0.019820793372828785, Validation avg MSE loss: 0.4917391378991924, Validation R2: 0.9045864841840219\n",
      "Epoch 313, Train MSE Loss: 0.020032009403087084, Validation avg MSE loss: 0.5152385321217697, Validation R2: 0.9000268334198446\n",
      "Epoch 314, Train MSE Loss: 0.015019556519858325, Validation avg MSE loss: 0.5394282862093981, Validation R2: 0.8953332287939667\n",
      "Epoch 315, Train MSE Loss: 0.01684419154922608, Validation avg MSE loss: 0.5243210858651185, Validation R2: 0.8982645177003116\n",
      "Epoch 316, Train MSE Loss: 0.015375387229174045, Validation avg MSE loss: 0.4798059111049404, Validation R2: 0.9069019220813119\n",
      "Epoch 317, Train MSE Loss: 0.016436432126884715, Validation avg MSE loss: 0.5376077351470445, Validation R2: 0.8956864728206146\n",
      "Epoch 318, Train MSE Loss: 0.017037411965842787, Validation avg MSE loss: 0.5288729542322327, Validation R2: 0.8973813075988641\n",
      "Epoch 319, Train MSE Loss: 0.01589152985097564, Validation avg MSE loss: 0.5051764043759072, Validation R2: 0.901979216469259\n",
      "Epoch 320, Train MSE Loss: 0.016453378662433963, Validation avg MSE loss: 0.49652158734914065, Validation R2: 0.9036585330769138\n",
      "Epoch 321, Train MSE Loss: 0.01634939974731458, Validation avg MSE loss: 0.4915116928001161, Validation R2: 0.904630617415277\n",
      "Epoch 322, Train MSE Loss: 0.016993070719247383, Validation avg MSE loss: 0.48493934623631535, Validation R2: 0.9059058683441521\n",
      "Epoch 323, Train MSE Loss: 0.015581832013346932, Validation avg MSE loss: 0.491649208956971, Validation R2: 0.9046039346395573\n",
      "Epoch 324, Train MSE Loss: 0.017728092797315305, Validation avg MSE loss: 0.4665627890165774, Validation R2: 0.9094715228234906\n",
      "Epoch 325, Train MSE Loss: 0.014089525671068687, Validation avg MSE loss: 0.46874380415816486, Validation R2: 0.9090483346527167\n",
      "Epoch 326, Train MSE Loss: 0.015700715410207167, Validation avg MSE loss: 0.5147818605300122, Validation R2: 0.9001154413459719\n",
      "Epoch 327, Train MSE Loss: 0.01462264154147679, Validation avg MSE loss: 0.505200695493905, Validation R2: 0.9019745023492078\n",
      "Epoch 328, Train MSE Loss: 0.015678817872990525, Validation avg MSE loss: 0.5005068700004418, Validation R2: 0.9028852586494763\n",
      "Epoch 329, Train MSE Loss: 0.016771928434097052, Validation avg MSE loss: 0.5185240534867214, Validation R2: 0.8993893339842017\n",
      "Epoch 330, Train MSE Loss: 0.01570612466388161, Validation avg MSE loss: 0.48952666211761653, Validation R2: 0.9050157784449285\n",
      "Epoch 331, Train MSE Loss: 0.0159273648638683, Validation avg MSE loss: 0.558729119068944, Validation R2: 0.8915882338253817\n",
      "Epoch 332, Train MSE Loss: 0.01613314821490163, Validation avg MSE loss: 0.4846963262686819, Validation R2: 0.9059530226784667\n",
      "Epoch 333, Train MSE Loss: 0.01801759999104984, Validation avg MSE loss: 0.5066153534885859, Validation R2: 0.9017000090872578\n",
      "Epoch 334, Train MSE Loss: 0.016602428287201605, Validation avg MSE loss: 0.5374869990989435, Validation R2: 0.8957098999948291\n",
      "Epoch 335, Train MSE Loss: 0.017535986994163952, Validation avg MSE loss: 0.5354962005615489, Validation R2: 0.8960961803868911\n",
      "Epoch 336, Train MSE Loss: 0.015830218246797235, Validation avg MSE loss: 0.5400739183866986, Validation R2: 0.895207954780291\n",
      "Epoch 337, Train MSE Loss: 0.014294258919761344, Validation avg MSE loss: 0.5720027780433536, Validation R2: 0.889012708365214\n",
      "Epoch 338, Train MSE Loss: 0.01533305828362505, Validation avg MSE loss: 0.5883019183596183, Validation R2: 0.8858501412448064\n",
      "Epoch 339, Train MSE Loss: 0.015990170970261758, Validation avg MSE loss: 0.49381137161801025, Validation R2: 0.9041844049439625\n",
      "Epoch 340, Train MSE Loss: 0.014232737245554405, Validation avg MSE loss: 0.5345155645152659, Validation R2: 0.8962864573378256\n",
      "Epoch 341, Train MSE Loss: 0.014078359931145697, Validation avg MSE loss: 0.5325595444199167, Validation R2: 0.8966659873657828\n",
      "Epoch 342, Train MSE Loss: 0.01488417413440882, Validation avg MSE loss: 0.4746297418771338, Validation R2: 0.9079062699819144\n",
      "Epoch 343, Train MSE Loss: 0.015159958250771077, Validation avg MSE loss: 0.5377405795381605, Validation R2: 0.8956606968633083\n",
      "Epoch 344, Train MSE Loss: 0.014943770287835148, Validation avg MSE loss: 0.5382341819539785, Validation R2: 0.8955649235582324\n",
      "Epoch 345, Train MSE Loss: 0.01405068548053437, Validation avg MSE loss: 0.5403170744911729, Validation R2: 0.8951607719047018\n",
      "Epoch 346, Train MSE Loss: 0.014032940213008889, Validation avg MSE loss: 0.6023301598763254, Validation R2: 0.8831282007672943\n",
      "Epoch 347, Train MSE Loss: 0.015693194635559345, Validation avg MSE loss: 0.5508402841736406, Validation R2: 0.8931189261925848\n",
      "Epoch 348, Train MSE Loss: 0.015424845471746905, Validation avg MSE loss: 0.5337544494007114, Validation R2: 0.8964341383197735\n",
      "Epoch 349, Train MSE Loss: 0.014567162816778254, Validation avg MSE loss: 0.5611129827434002, Validation R2: 0.8911256850096598\n",
      "Epoch 350, Train MSE Loss: 0.018210751502186127, Validation avg MSE loss: 0.4985483431445562, Validation R2: 0.9032652739200424\n",
      "Epoch 351, Train MSE Loss: 0.016579629345373673, Validation avg MSE loss: 0.5178305033647942, Validation R2: 0.8995239051716084\n",
      "Epoch 352, Train MSE Loss: 0.0153219236800253, Validation avg MSE loss: 0.5460941813943568, Validation R2: 0.8940398243450477\n",
      "Epoch 353, Train MSE Loss: 0.014753101439010806, Validation avg MSE loss: 0.5624988942961168, Validation R2: 0.8908567726007527\n",
      "Epoch 354, Train MSE Loss: 0.01504265328666852, Validation avg MSE loss: 0.519626533508685, Validation R2: 0.8991754173896724\n",
      "Epoch 355, Train MSE Loss: 0.015445221025504982, Validation avg MSE loss: 0.5603380190791661, Validation R2: 0.8912760528138417\n",
      "Epoch 356, Train MSE Loss: 0.01746819748185955, Validation avg MSE loss: 0.5566408009461608, Validation R2: 0.8919934363566349\n",
      "Epoch 357, Train MSE Loss: 0.014786059107061501, Validation avg MSE loss: 0.5114565297390877, Validation R2: 0.9007606635872674\n",
      "Epoch 358, Train MSE Loss: 0.01675692583927823, Validation avg MSE loss: 0.602583314605321, Validation R2: 0.8830790804431317\n",
      "Epoch 359, Train MSE Loss: 0.016246735686209143, Validation avg MSE loss: 0.5065879749070004, Validation R2: 0.901705324811349\n",
      "Epoch 360, Train MSE Loss: 0.015038650705914805, Validation avg MSE loss: 0.55053606830275, Validation R2: 0.8931779533175351\n",
      "Epoch 361, Train MSE Loss: 0.016041006818578937, Validation avg MSE loss: 0.5373954185457032, Validation R2: 0.8957276707952414\n",
      "Epoch 362, Train MSE Loss: 0.014682213592027085, Validation avg MSE loss: 0.5661947291033534, Validation R2: 0.890139656888931\n",
      "Epoch 363, Train MSE Loss: 0.01421660057655195, Validation avg MSE loss: 0.5945579654741125, Validation R2: 0.8846362626155214\n",
      "Epoch 364, Train MSE Loss: 0.015604734916380397, Validation avg MSE loss: 0.5519926056571054, Validation R2: 0.8928953369889643\n",
      "Epoch 365, Train MSE Loss: 0.015168524667323297, Validation avg MSE loss: 0.5530020679237176, Validation R2: 0.8926994687534234\n",
      "Epoch 366, Train MSE Loss: 0.015252820783998908, Validation avg MSE loss: 0.5215123303515828, Validation R2: 0.8988095095915796\n",
      "Epoch 367, Train MSE Loss: 0.015384548337523002, Validation avg MSE loss: 0.5550266294166113, Validation R2: 0.8923066372904934\n",
      "Epoch 368, Train MSE Loss: 0.014975962297218601, Validation avg MSE loss: 0.5401516897344768, Validation R2: 0.8951928651879795\n",
      "Epoch 369, Train MSE Loss: 0.014454313729396151, Validation avg MSE loss: 0.5553863306031417, Validation R2: 0.8922368428951364\n",
      "Epoch 370, Train MSE Loss: 0.014541116115655709, Validation avg MSE loss: 0.5832338240181778, Validation R2: 0.8868335169388527\n",
      "Epoch 371, Train MSE Loss: 0.013514779648535003, Validation avg MSE loss: 0.5600931241826836, Validation R2: 0.8913235703889137\n",
      "Epoch 372, Train MSE Loss: 0.01651111231939227, Validation avg MSE loss: 0.5534385215496614, Validation R2: 0.8926147831093857\n",
      "Epoch 373, Train MSE Loss: 0.015358129024769938, Validation avg MSE loss: 0.5086004878225043, Validation R2: 0.9013148299338102\n",
      "Epoch 374, Train MSE Loss: 0.015075711347575727, Validation avg MSE loss: 0.5321321232062538, Validation R2: 0.8967489210741054\n",
      "Epoch 375, Train MSE Loss: 0.014982874304915215, Validation avg MSE loss: 0.5367962678557779, Validation R2: 0.8958439255867903\n",
      "Validation R2 not improving\n",
      "Best Epoch: 324, Best R2 validation: 0.9094715228234906\n",
      "Start Testing:\n",
      "Test R square: 0.9019425939080893\n",
      "Test MSE: 0.4174625428104908\n",
      "CPU times: total: 1h 14min 45s\n",
      "Wall time: 6min 16s\n"
     ]
    }
   ],
   "source": [
    "%%time\n",
    "  \n",
    "model2, r2_2 = train(NNConvRegr,\n",
    "                  train_dataset=train_batch,\n",
    "                  val_dataset=val_batch,\n",
    "                  test_dataset=test_batch,\n",
    "                  epochs=1000,\n",
    "                  batch_size=32,\n",
    "                  pooling_method='mean',\n",
    "                  early_stopping_patience=50,\n",
    "                  hidden_channels=48,\n",
    "                  in_channels=train_batch[0].x[0].shape[0],\n",
    "                  num_layers=2,\n",
    "                  verbose=True)\n"
   ]
  },
  {
   "cell_type": "markdown",
   "id": "211f250b-00b1-4fdb-a32b-cd2d1184c6cc",
   "metadata": {},
   "source": [
    "## TransformerConv Results\n",
    "\n",
    "Uses Atom Features, Bond Index, and Bond Features"
   ]
  },
  {
   "cell_type": "code",
   "execution_count": 61,
   "id": "d676b3d8-7edb-4a05-a720-fedcf56a2e3a",
   "metadata": {
    "collapsed": true,
    "jupyter": {
     "outputs_hidden": true
    },
    "scrolled": true
   },
   "outputs": [
    {
     "name": "stdout",
     "output_type": "stream",
     "text": [
      "Training Starting\n",
      "Epoch 1, Train MSE Loss: 0.2405124633116627, Validation avg MSE loss: 2.6292615951990825, Validation R2: 0.4898370500043048\n",
      "Epoch 2, Train MSE Loss: 0.06531669995737181, Validation avg MSE loss: 1.6923758639322077, Validation R2: 0.6716235980528447\n",
      "Epoch 3, Train MSE Loss: 0.05390083439598591, Validation avg MSE loss: 1.3276274514154591, Validation R2: 0.7423967461655232\n",
      "Epoch 4, Train MSE Loss: 0.044290355991101316, Validation avg MSE loss: 1.1986275212178614, Validation R2: 0.7674269653499307\n",
      "Epoch 5, Train MSE Loss: 0.04134045914641505, Validation avg MSE loss: 1.1673095142157168, Validation R2: 0.7735036843723437\n",
      "Epoch 6, Train MSE Loss: 0.04184595338521141, Validation avg MSE loss: 1.0967038130111177, Validation R2: 0.7872035082480513\n",
      "Epoch 7, Train MSE Loss: 0.04068002712700161, Validation avg MSE loss: 1.0058065176410502, Validation R2: 0.8048405590099171\n",
      "Epoch 8, Train MSE Loss: 0.03676593508530086, Validation avg MSE loss: 1.1067732673544084, Validation R2: 0.7852496990810052\n",
      "Epoch 9, Train MSE Loss: 0.03655166510996427, Validation avg MSE loss: 0.9654929852417707, Validation R2: 0.8126627052444315\n",
      "Epoch 10, Train MSE Loss: 0.035043630790287536, Validation avg MSE loss: 1.1135209819225147, Validation R2: 0.7839404193169958\n",
      "Epoch 11, Train MSE Loss: 0.030566820548537564, Validation avg MSE loss: 0.972404095127504, Validation R2: 0.8113217245949415\n",
      "Epoch 12, Train MSE Loss: 0.03055021206449775, Validation avg MSE loss: 0.9835065628492853, Validation R2: 0.8091674824425639\n",
      "Epoch 13, Train MSE Loss: 0.03096438174501491, Validation avg MSE loss: 0.9420387617187328, Validation R2: 0.8172135941998093\n",
      "Epoch 14, Train MSE Loss: 0.03050510714165123, Validation avg MSE loss: 1.0057948887595043, Validation R2: 0.8048428185421751\n",
      "Epoch 15, Train MSE Loss: 0.032420741679134495, Validation avg MSE loss: 1.3422610929790657, Validation R2: 0.7395573438150926\n",
      "Epoch 16, Train MSE Loss: 0.031660956051820136, Validation avg MSE loss: 0.9758822795583347, Validation R2: 0.8106468440925227\n",
      "Epoch 17, Train MSE Loss: 0.029172955027176376, Validation avg MSE loss: 0.9933391759587777, Validation R2: 0.8072596346228864\n",
      "Epoch 18, Train MSE Loss: 0.02968523438251732, Validation avg MSE loss: 0.8048388577832595, Validation R2: 0.8438348763361596\n",
      "Epoch 19, Train MSE Loss: 0.03322107921418488, Validation avg MSE loss: 1.0382452640585618, Validation R2: 0.7985463794310335\n",
      "Epoch 20, Train MSE Loss: 0.029456591526843493, Validation avg MSE loss: 0.9974655897162887, Validation R2: 0.8064589735189551\n",
      "Epoch 21, Train MSE Loss: 0.03279070390962444, Validation avg MSE loss: 0.836002342582846, Validation R2: 0.8377881378273334\n",
      "Epoch 22, Train MSE Loss: 0.029433711074672624, Validation avg MSE loss: 1.0134564922751066, Validation R2: 0.8033562112529162\n",
      "Epoch 23, Train MSE Loss: 0.029695792111285247, Validation avg MSE loss: 0.8152651603367992, Validation R2: 0.8418118301883307\n",
      "Epoch 24, Train MSE Loss: 0.030175062445737835, Validation avg MSE loss: 0.8371453387366177, Validation R2: 0.8375663572985357\n",
      "Epoch 25, Train MSE Loss: 0.029047320330486594, Validation avg MSE loss: 0.7196500548589109, Validation R2: 0.8603642975266608\n",
      "Epoch 26, Train MSE Loss: 0.027867902838470137, Validation avg MSE loss: 0.8558402196730684, Validation R2: 0.8339389379701135\n",
      "Epoch 27, Train MSE Loss: 0.026725517573483504, Validation avg MSE loss: 0.8143391919306749, Validation R2: 0.8419914990591718\n",
      "Epoch 28, Train MSE Loss: 0.029558432868737605, Validation avg MSE loss: 0.8208169093681602, Validation R2: 0.840734612530189\n",
      "Epoch 29, Train MSE Loss: 0.03134043471776197, Validation avg MSE loss: 0.7388806055343464, Validation R2: 0.8566329371860262\n",
      "Epoch 30, Train MSE Loss: 0.029443348128092527, Validation avg MSE loss: 0.8786249052864794, Validation R2: 0.8295179634535428\n",
      "Epoch 31, Train MSE Loss: 0.028353609095127248, Validation avg MSE loss: 0.7957557151813304, Validation R2: 0.8455973014165507\n",
      "Epoch 32, Train MSE Loss: 0.026711129378981707, Validation avg MSE loss: 0.7544827504735839, Validation R2: 0.8536056111841877\n",
      "Epoch 33, Train MSE Loss: 0.025550585397066932, Validation avg MSE loss: 0.7502684505735946, Validation R2: 0.8544233206671829\n",
      "Epoch 34, Train MSE Loss: 0.024232899435607927, Validation avg MSE loss: 0.7491453489341744, Validation R2: 0.8546412406630169\n",
      "Epoch 35, Train MSE Loss: 0.025322629448579843, Validation avg MSE loss: 0.8034711542021096, Validation R2: 0.844100255824498\n",
      "Epoch 36, Train MSE Loss: 0.025701229561723257, Validation avg MSE loss: 0.7990602550800711, Validation R2: 0.8449561138572527\n",
      "Epoch 37, Train MSE Loss: 0.026255379362804133, Validation avg MSE loss: 0.7001702283494653, Validation R2: 0.8641440237008049\n",
      "Epoch 38, Train MSE Loss: 0.02446501635163692, Validation avg MSE loss: 0.7220856237330157, Validation R2: 0.8598917162308412\n",
      "Epoch 39, Train MSE Loss: 0.02222821478238391, Validation avg MSE loss: 0.7822868736476001, Validation R2: 0.8482107007678723\n",
      "Epoch 40, Train MSE Loss: 0.024501744005209592, Validation avg MSE loss: 0.7246196985111337, Validation R2: 0.8594000208626998\n",
      "Epoch 41, Train MSE Loss: 0.02720870153602634, Validation avg MSE loss: 0.7554548838245873, Validation R2: 0.8534169860400074\n",
      "Epoch 42, Train MSE Loss: 0.024941080623614022, Validation avg MSE loss: 0.7024816669955701, Validation R2: 0.8636955257003758\n",
      "Epoch 43, Train MSE Loss: 0.024751624881296095, Validation avg MSE loss: 0.8270840770569481, Validation R2: 0.8395185740245235\n",
      "Epoch 44, Train MSE Loss: 0.022888635485505317, Validation avg MSE loss: 0.7341660087395957, Validation R2: 0.8575477237996273\n",
      "Epoch 45, Train MSE Loss: 0.025844033634054686, Validation avg MSE loss: 0.6825152738881349, Validation R2: 0.8675696601647401\n",
      "Epoch 46, Train MSE Loss: 0.024510286236285105, Validation avg MSE loss: 0.8401167195697781, Validation R2: 0.8369898136805435\n",
      "Epoch 47, Train MSE Loss: 0.024740808851967364, Validation avg MSE loss: 0.6315485778924302, Validation R2: 0.8774588709099562\n",
      "Epoch 48, Train MSE Loss: 0.024081257322675107, Validation avg MSE loss: 0.6825456231192413, Validation R2: 0.8675637720569693\n",
      "Epoch 49, Train MSE Loss: 0.023866147562828403, Validation avg MSE loss: 0.8917333327996608, Validation R2: 0.8269745005980877\n",
      "Epoch 50, Train MSE Loss: 0.025388258193390332, Validation avg MSE loss: 0.6253683566967719, Validation R2: 0.8786580364589048\n",
      "Epoch 51, Train MSE Loss: 0.022494355402473864, Validation avg MSE loss: 0.6220494065994792, Validation R2: 0.8793020223196514\n",
      "Epoch 52, Train MSE Loss: 0.024980129926009082, Validation avg MSE loss: 0.6512905781824095, Validation R2: 0.8736282769093904\n",
      "Epoch 53, Train MSE Loss: 0.020908219719144562, Validation avg MSE loss: 0.7388489945235093, Validation R2: 0.8566390694950032\n",
      "Epoch 54, Train MSE Loss: 0.02245536033567991, Validation avg MSE loss: 0.6736274653326734, Validation R2: 0.8692941881587976\n",
      "Epoch 55, Train MSE Loss: 0.022655785810656665, Validation avg MSE loss: 0.5894412957540089, Validation R2: 0.8856290639704814\n",
      "Epoch 56, Train MSE Loss: 0.022898130961373747, Validation avg MSE loss: 0.7525279191486495, Validation R2: 0.8539849122663545\n",
      "Epoch 57, Train MSE Loss: 0.022576953579739826, Validation avg MSE loss: 0.7003989482712402, Validation R2: 0.8640996408104553\n",
      "Epoch 58, Train MSE Loss: 0.02246381193729832, Validation avg MSE loss: 0.7005489995740672, Validation R2: 0.8640705249663823\n",
      "Epoch 59, Train MSE Loss: 0.022850516597077482, Validation avg MSE loss: 0.689457769081165, Validation R2: 0.8662225891971911\n",
      "Epoch 60, Train MSE Loss: 0.024164816823079686, Validation avg MSE loss: 0.7223626585318684, Validation R2: 0.8598379609368062\n",
      "Epoch 61, Train MSE Loss: 0.023010070863161276, Validation avg MSE loss: 0.6503823024378647, Validation R2: 0.8738045104327831\n",
      "Epoch 62, Train MSE Loss: 0.024937297479805026, Validation avg MSE loss: 0.6383144456517946, Validation R2: 0.876146070234156\n",
      "Epoch 63, Train MSE Loss: 0.02226016297110433, Validation avg MSE loss: 0.6254430653787141, Validation R2: 0.8786435399792935\n",
      "Epoch 64, Train MSE Loss: 0.019283858311678514, Validation avg MSE loss: 0.6564750564802311, Validation R2: 0.8726223172380907\n",
      "Epoch 65, Train MSE Loss: 0.02125846097316023, Validation avg MSE loss: 0.663957557828881, Validation R2: 0.871170466859324\n",
      "Epoch 66, Train MSE Loss: 0.01922735548733079, Validation avg MSE loss: 0.6793279348397266, Validation R2: 0.8681881095494017\n",
      "Epoch 67, Train MSE Loss: 0.020692903738460625, Validation avg MSE loss: 0.753100999766784, Validation R2: 0.8538737154586479\n",
      "Epoch 68, Train MSE Loss: 0.020563595922056692, Validation avg MSE loss: 0.559965769252877, Validation R2: 0.8913482826505242\n",
      "Epoch 69, Train MSE Loss: 0.020142665921716627, Validation avg MSE loss: 0.6104704957564118, Validation R2: 0.8815487088355864\n",
      "Epoch 70, Train MSE Loss: 0.021360143490482594, Validation avg MSE loss: 0.5871177198952252, Validation R2: 0.8860799134916002\n",
      "Epoch 71, Train MSE Loss: 0.02178011718980489, Validation avg MSE loss: 0.6570214105344896, Validation R2: 0.8725163056589067\n",
      "Epoch 72, Train MSE Loss: 0.021824128413676157, Validation avg MSE loss: 0.5904364467942679, Validation R2: 0.8854359719144905\n",
      "Epoch 73, Train MSE Loss: 0.02077873110639018, Validation avg MSE loss: 0.6400828294412816, Validation R2: 0.8758029459019206\n",
      "Epoch 74, Train MSE Loss: 0.022102732583054417, Validation avg MSE loss: 0.673574727927994, Validation R2: 0.8693044193535958\n",
      "Epoch 75, Train MSE Loss: 0.020743744567598314, Validation avg MSE loss: 0.6691551017814297, Validation R2: 0.8701619724715123\n",
      "Epoch 76, Train MSE Loss: 0.020293413964977813, Validation avg MSE loss: 0.6781744449961206, Validation R2: 0.8684119240381083\n",
      "Epoch 77, Train MSE Loss: 0.018790997548272497, Validation avg MSE loss: 0.5870745373977759, Validation R2: 0.8860882926339242\n",
      "Epoch 78, Train MSE Loss: 0.02042350278725381, Validation avg MSE loss: 0.6770007531511478, Validation R2: 0.8686396588432868\n",
      "Epoch 79, Train MSE Loss: 0.02046103752373063, Validation avg MSE loss: 0.6380762432728156, Validation R2: 0.8761922891882744\n",
      "Epoch 80, Train MSE Loss: 0.021911461311010457, Validation avg MSE loss: 0.6813870828216828, Validation R2: 0.8677885641849101\n",
      "Epoch 81, Train MSE Loss: 0.020767860428456984, Validation avg MSE loss: 0.6544950137304274, Validation R2: 0.8730065109372025\n",
      "Epoch 82, Train MSE Loss: 0.019717385756995883, Validation avg MSE loss: 0.6822926463403834, Validation R2: 0.8676128565864287\n",
      "Epoch 83, Train MSE Loss: 0.019162909319818417, Validation avg MSE loss: 0.5583030243290531, Validation R2: 0.8916709090125852\n",
      "Epoch 84, Train MSE Loss: 0.018252447908310564, Validation avg MSE loss: 0.6174004845910857, Validation R2: 0.8802040658873606\n",
      "Epoch 85, Train MSE Loss: 0.020394726067847528, Validation avg MSE loss: 0.7279010267167454, Validation R2: 0.8587633370118549\n",
      "Epoch 86, Train MSE Loss: 0.021071631172279563, Validation avg MSE loss: 0.6543762314544663, Validation R2: 0.8730295568303568\n",
      "Epoch 87, Train MSE Loss: 0.01948627053105382, Validation avg MSE loss: 0.5944330676837013, Validation R2: 0.8846604963413356\n",
      "Epoch 88, Train MSE Loss: 0.01954116507076107, Validation avg MSE loss: 0.6582791610117941, Validation R2: 0.8722722594448682\n",
      "Epoch 89, Train MSE Loss: 0.01760474554450972, Validation avg MSE loss: 0.6189033389102115, Validation R2: 0.8799124601063212\n",
      "Epoch 90, Train MSE Loss: 0.018105681547833125, Validation avg MSE loss: 0.6144592164393062, Validation R2: 0.8807747663473449\n",
      "Epoch 91, Train MSE Loss: 0.018159568144582593, Validation avg MSE loss: 0.6849051387479634, Validation R2: 0.8671059502074338\n",
      "Epoch 92, Train MSE Loss: 0.018890520471030486, Validation avg MSE loss: 0.6672536721308839, Validation R2: 0.8705309126032534\n",
      "Epoch 93, Train MSE Loss: 0.02237496602693841, Validation avg MSE loss: 0.6333191410642993, Validation R2: 0.8771153223385478\n",
      "Epoch 94, Train MSE Loss: 0.020427585837582, Validation avg MSE loss: 0.626829564611173, Validation R2: 0.8783745129338342\n",
      "Epoch 95, Train MSE Loss: 0.019143270250170298, Validation avg MSE loss: 0.5760796734211425, Validation R2: 0.8882216557103523\n",
      "Epoch 96, Train MSE Loss: 0.019592197797779497, Validation avg MSE loss: 0.608181938088626, Validation R2: 0.881992765256879\n",
      "Epoch 97, Train MSE Loss: 0.016777524860893806, Validation avg MSE loss: 0.6180648962835326, Validation R2: 0.880075146187669\n",
      "Epoch 98, Train MSE Loss: 0.019288875939047784, Validation avg MSE loss: 0.5939243107462406, Validation R2: 0.8847592105615275\n",
      "Epoch 99, Train MSE Loss: 0.019994154968970102, Validation avg MSE loss: 0.6091254864670222, Validation R2: 0.8818096857841605\n",
      "Epoch 100, Train MSE Loss: 0.016442528403386836, Validation avg MSE loss: 0.6201904265280088, Validation R2: 0.8796627218647867\n",
      "Epoch 101, Train MSE Loss: 0.01835081785785121, Validation avg MSE loss: 0.5886995402481293, Validation R2: 0.8857729890442787\n",
      "Epoch 102, Train MSE Loss: 0.020977170861216712, Validation avg MSE loss: 0.5635016973909404, Validation R2: 0.890662196686855\n",
      "Epoch 103, Train MSE Loss: 0.018669467047682888, Validation avg MSE loss: 0.5932572556553852, Validation R2: 0.8848886430499819\n",
      "Epoch 104, Train MSE Loss: 0.01711049223289786, Validation avg MSE loss: 0.5963720689079929, Validation R2: 0.8842842658419945\n",
      "Epoch 105, Train MSE Loss: 0.018495485715221142, Validation avg MSE loss: 0.5804408697850518, Validation R2: 0.8873754414932012\n",
      "Epoch 106, Train MSE Loss: 0.019219110321311357, Validation avg MSE loss: 0.6132418263754581, Validation R2: 0.8810109796033977\n",
      "Epoch 107, Train MSE Loss: 0.017448029602710528, Validation avg MSE loss: 0.6281290756813065, Validation R2: 0.8781223655652619\n",
      "Epoch 108, Train MSE Loss: 0.019156624399902022, Validation avg MSE loss: 0.7679578316474764, Validation R2: 0.8509910020813872\n",
      "Epoch 109, Train MSE Loss: 0.023398747068815378, Validation avg MSE loss: 0.6077337069499366, Validation R2: 0.8820797345176742\n",
      "Epoch 110, Train MSE Loss: 0.01799692388648733, Validation avg MSE loss: 0.6609091435524527, Validation R2: 0.871761957820513\n",
      "Epoch 111, Train MSE Loss: 0.018862173407278676, Validation avg MSE loss: 0.5920816560027031, Validation R2: 0.8851167477826016\n",
      "Epoch 112, Train MSE Loss: 0.019175377593865152, Validation avg MSE loss: 0.5652472339056235, Validation R2: 0.8903235027980566\n",
      "Epoch 113, Train MSE Loss: 0.01818635955684201, Validation avg MSE loss: 0.5591550974825792, Validation R2: 0.8915055785570868\n",
      "Epoch 114, Train MSE Loss: 0.01866210375947593, Validation avg MSE loss: 0.5615619792160862, Validation R2: 0.8910385639964232\n",
      "Epoch 115, Train MSE Loss: 0.020974858521490034, Validation avg MSE loss: 0.5248395568754037, Validation R2: 0.8981639189352661\n",
      "Epoch 116, Train MSE Loss: 0.017945436707092758, Validation avg MSE loss: 0.5451442271918157, Validation R2: 0.894224146437408\n",
      "Epoch 117, Train MSE Loss: 0.017750800927964654, Validation avg MSE loss: 0.5285143165941418, Validation R2: 0.897450893672812\n",
      "Epoch 118, Train MSE Loss: 0.019102269523423948, Validation avg MSE loss: 0.517867833606946, Validation R2: 0.8995166640502079\n",
      "Epoch 119, Train MSE Loss: 0.018092643461312, Validation avg MSE loss: 0.5915506610513792, Validation R2: 0.8852197792972065\n",
      "Epoch 120, Train MSE Loss: 0.017399319144019532, Validation avg MSE loss: 0.5602489973691537, Validation R2: 0.8912933272109711\n",
      "Epoch 121, Train MSE Loss: 0.01459886115498659, Validation avg MSE loss: 0.5443388155331035, Validation R2: 0.894380422791746\n",
      "Epoch 122, Train MSE Loss: 0.019188371472506724, Validation avg MSE loss: 0.586303154692963, Validation R2: 0.8862379648334037\n",
      "Epoch 123, Train MSE Loss: 0.019102142153188024, Validation avg MSE loss: 0.5578183610353423, Validation R2: 0.8917649493662412\n",
      "Epoch 124, Train MSE Loss: 0.016450911363846975, Validation avg MSE loss: 0.554578044202317, Validation R2: 0.8923936784950134\n",
      "Epoch 125, Train MSE Loss: 0.01673917115527616, Validation avg MSE loss: 0.588648775545378, Validation R2: 0.8857828392065182\n",
      "Epoch 126, Train MSE Loss: 0.01816633766612034, Validation avg MSE loss: 0.5366563435360084, Validation R2: 0.8958710749185169\n",
      "Epoch 127, Train MSE Loss: 0.01801461562877748, Validation avg MSE loss: 0.5387550395066532, Validation R2: 0.8954638602419664\n",
      "Epoch 128, Train MSE Loss: 0.017639205553579226, Validation avg MSE loss: 0.5625203800334495, Validation R2: 0.8908526024322128\n",
      "Epoch 129, Train MSE Loss: 0.016523688222114367, Validation avg MSE loss: 0.5655470178755615, Validation R2: 0.8902653359529313\n",
      "Epoch 130, Train MSE Loss: 0.01833808993685272, Validation avg MSE loss: 0.5168683231316056, Validation R2: 0.8997105978984278\n",
      "Epoch 131, Train MSE Loss: 0.016524373262525927, Validation avg MSE loss: 0.510093402376908, Validation R2: 0.9010251567126452\n",
      "Epoch 132, Train MSE Loss: 0.015703253712331642, Validation avg MSE loss: 0.559691720000175, Validation R2: 0.8914014584010481\n",
      "Epoch 133, Train MSE Loss: 0.01657897734523084, Validation avg MSE loss: 0.5310564834712227, Validation R2: 0.896957630636569\n",
      "Epoch 134, Train MSE Loss: 0.016852199932159712, Validation avg MSE loss: 0.4918777238490776, Validation R2: 0.9045595942936265\n",
      "Epoch 135, Train MSE Loss: 0.018016558512219304, Validation avg MSE loss: 0.561751417422204, Validation R2: 0.891001809253958\n",
      "Epoch 136, Train MSE Loss: 0.01656328640597358, Validation avg MSE loss: 0.5599927801361575, Validation R2: 0.8913430412353799\n",
      "Epoch 137, Train MSE Loss: 0.016827424967500428, Validation avg MSE loss: 0.46665493443732425, Validation R2: 0.9094536447737857\n",
      "Epoch 138, Train MSE Loss: 0.016893730145732474, Validation avg MSE loss: 0.5174936915007863, Validation R2: 0.8995892590356516\n",
      "Epoch 139, Train MSE Loss: 0.016794866012892543, Validation avg MSE loss: 0.5543670675145713, Validation R2: 0.8924346132521084\n",
      "Epoch 140, Train MSE Loss: 0.01742447592202417, Validation avg MSE loss: 0.5552939303619646, Validation R2: 0.8922547721236931\n",
      "Epoch 141, Train MSE Loss: 0.018578697202475267, Validation avg MSE loss: 0.6054919437783047, Validation R2: 0.8825147121517922\n",
      "Epoch 142, Train MSE Loss: 0.01755121380024633, Validation avg MSE loss: 0.567265962897286, Validation R2: 0.8899318051710724\n",
      "Epoch 143, Train MSE Loss: 0.017126779582045823, Validation avg MSE loss: 0.5318427319885427, Validation R2: 0.896805071404342\n",
      "Epoch 144, Train MSE Loss: 0.01640810824088141, Validation avg MSE loss: 0.6701133767498577, Validation R2: 0.8699760348831197\n",
      "Epoch 145, Train MSE Loss: 0.01590464910091688, Validation avg MSE loss: 0.6487951229990406, Validation R2: 0.8741124756766008\n",
      "Epoch 146, Train MSE Loss: 0.017045648524872215, Validation avg MSE loss: 0.5254790263974654, Validation R2: 0.898039839284104\n",
      "Epoch 147, Train MSE Loss: 0.01556352778707534, Validation avg MSE loss: 0.5232638870093954, Validation R2: 0.8984696511767994\n",
      "Epoch 148, Train MSE Loss: 0.016339221775135287, Validation avg MSE loss: 0.5133732805870509, Validation R2: 0.9003887526892866\n",
      "Epoch 149, Train MSE Loss: 0.01680316972626815, Validation avg MSE loss: 0.5379551308887255, Validation R2: 0.8956190672946731\n",
      "Epoch 150, Train MSE Loss: 0.01614130584072908, Validation avg MSE loss: 0.576006071516869, Validation R2: 0.8882359375085589\n",
      "Epoch 151, Train MSE Loss: 0.018184089178256608, Validation avg MSE loss: 0.568568255309715, Validation R2: 0.8896791190030339\n",
      "Epoch 152, Train MSE Loss: 0.01808406083850797, Validation avg MSE loss: 0.5909567745640695, Validation R2: 0.8853350114817624\n",
      "Epoch 153, Train MSE Loss: 0.016513173916519613, Validation avg MSE loss: 0.547739325200368, Validation R2: 0.8937206129540803\n",
      "Epoch 154, Train MSE Loss: 0.016020271935378368, Validation avg MSE loss: 0.5307218238562748, Validation R2: 0.8970225667056441\n",
      "Epoch 155, Train MSE Loss: 0.015432041823996144, Validation avg MSE loss: 0.5329458861732839, Validation R2: 0.8965910257652286\n",
      "Epoch 156, Train MSE Loss: 0.014805465821019825, Validation avg MSE loss: 0.4960578878376389, Validation R2: 0.9037485048377181\n",
      "Epoch 157, Train MSE Loss: 0.015219946030502573, Validation avg MSE loss: 0.49503710333585205, Validation R2: 0.9039465718138026\n",
      "Epoch 158, Train MSE Loss: 0.01740960656208897, Validation avg MSE loss: 0.5107699018462076, Validation R2: 0.9008938934525937\n",
      "Epoch 159, Train MSE Loss: 0.016939766638955626, Validation avg MSE loss: 0.5069430322026575, Validation R2: 0.9016364337149044\n",
      "Epoch 160, Train MSE Loss: 0.016170575702666178, Validation avg MSE loss: 0.5419942439000371, Validation R2: 0.8948353485806751\n",
      "Epoch 161, Train MSE Loss: 0.015729131098597117, Validation avg MSE loss: 0.5392519226350213, Validation R2: 0.8953674470269772\n",
      "Epoch 162, Train MSE Loss: 0.01490653326069965, Validation avg MSE loss: 0.5058758573967621, Validation R2: 0.901843498049846\n",
      "Epoch 163, Train MSE Loss: 0.01491707409763019, Validation avg MSE loss: 0.5560573220541265, Validation R2: 0.8921066484722774\n",
      "Epoch 164, Train MSE Loss: 0.015807980097450332, Validation avg MSE loss: 0.5435493411283154, Validation R2: 0.8945336072905121\n",
      "Epoch 165, Train MSE Loss: 0.01429225360673177, Validation avg MSE loss: 0.5679593951774496, Validation R2: 0.8897972570187267\n",
      "Epoch 166, Train MSE Loss: 0.015722163302406767, Validation avg MSE loss: 0.5272087673324395, Validation R2: 0.8977042141796245\n",
      "Epoch 167, Train MSE Loss: 0.014187654905731557, Validation avg MSE loss: 0.5764352154680549, Validation R2: 0.8881526681999916\n",
      "Epoch 168, Train MSE Loss: 0.015860297132754272, Validation avg MSE loss: 0.5931576286733117, Validation R2: 0.8849079727330171\n",
      "Epoch 169, Train MSE Loss: 0.016026286784138224, Validation avg MSE loss: 0.5312596989646312, Validation R2: 0.8969181987843597\n",
      "Epoch 170, Train MSE Loss: 0.015867868838976333, Validation avg MSE loss: 0.5414958351440583, Validation R2: 0.8949320557657332\n",
      "Epoch 171, Train MSE Loss: 0.015354805900622366, Validation avg MSE loss: 0.5063140048176911, Validation R2: 0.9017584828302179\n",
      "Epoch 172, Train MSE Loss: 0.014501146228773366, Validation avg MSE loss: 0.5320912580505419, Validation R2: 0.8967568509636212\n",
      "Epoch 173, Train MSE Loss: 0.014911693473348597, Validation avg MSE loss: 0.5036469903859456, Validation R2: 0.9022759723634768\n",
      "Epoch 174, Train MSE Loss: 0.01763168416768643, Validation avg MSE loss: 0.4733200280023615, Validation R2: 0.908160397322113\n",
      "Epoch 175, Train MSE Loss: 0.01509803047862127, Validation avg MSE loss: 0.5413850740610985, Validation R2: 0.8949535478147573\n",
      "Epoch 176, Train MSE Loss: 0.016147435801785168, Validation avg MSE loss: 0.5272230110360429, Validation R2: 0.8977014497488417\n",
      "Epoch 177, Train MSE Loss: 0.016186085316928688, Validation avg MSE loss: 0.46142626986112245, Validation R2: 0.9104681756613017\n",
      "Epoch 178, Train MSE Loss: 0.01777923027850572, Validation avg MSE loss: 0.5028403145393107, Validation R2: 0.9024324946881137\n",
      "Epoch 179, Train MSE Loss: 0.016179781630139656, Validation avg MSE loss: 0.4489088438913644, Validation R2: 0.9128969666636901\n",
      "Epoch 180, Train MSE Loss: 0.0162102189864922, Validation avg MSE loss: 0.5099638890195844, Validation R2: 0.9010502844990582\n",
      "Epoch 181, Train MSE Loss: 0.013795696611943636, Validation avg MSE loss: 0.5191638163791688, Validation R2: 0.899265199614667\n",
      "Epoch 182, Train MSE Loss: 0.015390785894214182, Validation avg MSE loss: 0.5368511042357745, Validation R2: 0.895833284546037\n",
      "Epoch 183, Train MSE Loss: 0.016470576353585904, Validation avg MSE loss: 0.4864539909133066, Validation R2: 0.9056119772490088\n",
      "Epoch 184, Train MSE Loss: 0.017385214137660955, Validation avg MSE loss: 0.44870233575504276, Validation R2: 0.9129370364262802\n",
      "Epoch 185, Train MSE Loss: 0.014836086881266464, Validation avg MSE loss: 0.46910234165519055, Validation R2: 0.9089787658636761\n",
      "Epoch 186, Train MSE Loss: 0.015832575290007495, Validation avg MSE loss: 0.4753730209504947, Validation R2: 0.9077620483856209\n",
      "Epoch 187, Train MSE Loss: 0.014398471495661133, Validation avg MSE loss: 0.5262341381337894, Validation R2: 0.8978933242406334\n",
      "Epoch 188, Train MSE Loss: 0.014990261183874042, Validation avg MSE loss: 0.5225012860662627, Validation R2: 0.8986176215676286\n",
      "Epoch 189, Train MSE Loss: 0.015302230110453926, Validation avg MSE loss: 0.51458926019187, Validation R2: 0.9001528125988613\n",
      "Epoch 190, Train MSE Loss: 0.013945230854852764, Validation avg MSE loss: 0.4953511332845427, Validation R2: 0.9038856395671201\n",
      "Epoch 191, Train MSE Loss: 0.014744410477165636, Validation avg MSE loss: 0.49891636004700274, Validation R2: 0.9031938683380195\n",
      "Epoch 192, Train MSE Loss: 0.016084500433600397, Validation avg MSE loss: 0.5651140343050276, Validation R2: 0.8903493495359663\n",
      "Epoch 193, Train MSE Loss: 0.01455496651370351, Validation avg MSE loss: 0.46691725179758314, Validation R2: 0.9094027445139434\n",
      "Epoch 194, Train MSE Loss: 0.01509895329332669, Validation avg MSE loss: 0.5550902558019499, Validation R2: 0.8922942905925139\n",
      "Epoch 195, Train MSE Loss: 0.014223124939295775, Validation avg MSE loss: 0.5429304254627815, Validation R2: 0.8946536988269561\n",
      "Epoch 196, Train MSE Loss: 0.015618572247001918, Validation avg MSE loss: 0.5638342529173556, Validation R2: 0.8905976680667133\n",
      "Epoch 197, Train MSE Loss: 0.015150138616826212, Validation avg MSE loss: 0.5589253149825267, Validation R2: 0.8915501669358943\n",
      "Epoch 198, Train MSE Loss: 0.014122299767386359, Validation avg MSE loss: 0.4954842424461365, Validation R2: 0.9038598118305493\n",
      "Epoch 199, Train MSE Loss: 0.015710913421309442, Validation avg MSE loss: 0.5537513360813241, Validation R2: 0.8925540876585412\n",
      "Epoch 200, Train MSE Loss: 0.014138085300932966, Validation avg MSE loss: 0.5073362446868893, Validation R2: 0.9015601358908636\n",
      "Epoch 201, Train MSE Loss: 0.016598128426630058, Validation avg MSE loss: 0.5158022881224432, Validation R2: 0.8999174445885578\n",
      "Epoch 202, Train MSE Loss: 0.014557226996728428, Validation avg MSE loss: 0.5505731647592771, Validation R2: 0.8931707569514631\n",
      "Epoch 203, Train MSE Loss: 0.014347243170251867, Validation avg MSE loss: 0.5040812908597234, Validation R2: 0.9021917040634092\n",
      "Epoch 204, Train MSE Loss: 0.014092764228648462, Validation avg MSE loss: 0.50137556142942, Validation R2: 0.9027167034674182\n",
      "Epoch 205, Train MSE Loss: 0.015275865396744925, Validation avg MSE loss: 0.7185886336370716, Validation R2: 0.8605702461382086\n",
      "Epoch 206, Train MSE Loss: 0.014235450148978942, Validation avg MSE loss: 0.5773659563088406, Validation R2: 0.8879720748488098\n",
      "Epoch 207, Train MSE Loss: 0.014518177727373635, Validation avg MSE loss: 0.5123635285981396, Validation R2: 0.900584676583038\n",
      "Epoch 208, Train MSE Loss: 0.013392746506337316, Validation avg MSE loss: 0.5245100888760397, Validation R2: 0.8982278465703253\n",
      "Epoch 209, Train MSE Loss: 0.013278824312327442, Validation avg MSE loss: 0.5023016121529014, Validation R2: 0.9025370198514657\n",
      "Epoch 210, Train MSE Loss: 0.013470294850232068, Validation avg MSE loss: 0.5016628160619562, Validation R2: 0.9026609662797992\n",
      "Epoch 211, Train MSE Loss: 0.013929907645526323, Validation avg MSE loss: 0.47773503563349445, Validation R2: 0.9073037390933598\n",
      "Epoch 212, Train MSE Loss: 0.012788017703728243, Validation avg MSE loss: 0.5331696852230685, Validation R2: 0.896547600912121\n",
      "Epoch 213, Train MSE Loss: 0.01548510540417187, Validation avg MSE loss: 0.516832437804443, Validation R2: 0.8997175618013356\n",
      "Epoch 214, Train MSE Loss: 0.014232375834574984, Validation avg MSE loss: 0.4940921383245584, Validation R2: 0.9041299256408528\n",
      "Epoch 215, Train MSE Loss: 0.0141780866751914, Validation avg MSE loss: 0.5082903209824138, Validation R2: 0.9013750137227569\n",
      "Epoch 216, Train MSE Loss: 0.014247418119016614, Validation avg MSE loss: 0.6627617345846141, Validation R2: 0.8714024947556245\n",
      "Epoch 217, Train MSE Loss: 0.01468589325371444, Validation avg MSE loss: 0.4636921831211554, Validation R2: 0.9100285137777774\n",
      "Epoch 218, Train MSE Loss: 0.013540215071645914, Validation avg MSE loss: 0.48172770219646904, Validation R2: 0.9065290330357935\n",
      "Epoch 219, Train MSE Loss: 0.012980717678292099, Validation avg MSE loss: 0.49554919768108824, Validation R2: 0.9038472091722551\n",
      "Epoch 220, Train MSE Loss: 0.014466120421622122, Validation avg MSE loss: 0.4964054869017198, Validation R2: 0.9036810589998961\n",
      "Epoch 221, Train MSE Loss: 0.014488116385799289, Validation avg MSE loss: 0.47617802216145155, Validation R2: 0.9076058533554934\n",
      "Epoch 222, Train MSE Loss: 0.012790047945640568, Validation avg MSE loss: 0.5215383654990123, Validation R2: 0.898804458799474\n",
      "Epoch 223, Train MSE Loss: 0.014531957336645697, Validation avg MSE loss: 0.48035498211049293, Validation R2: 0.9067953844882667\n",
      "Epoch 224, Train MSE Loss: 0.012394361677032352, Validation avg MSE loss: 0.46365714331538815, Validation R2: 0.91003531178997\n",
      "Epoch 225, Train MSE Loss: 0.013383128294130651, Validation avg MSE loss: 0.4919726746812936, Validation R2: 0.9045411703079105\n",
      "Epoch 226, Train MSE Loss: 0.013944331168335452, Validation avg MSE loss: 0.5833963176164375, Validation R2: 0.8868019868066871\n",
      "Epoch 227, Train MSE Loss: 0.015555315975207182, Validation avg MSE loss: 0.5415815166883138, Validation R2: 0.8949154309094618\n",
      "Epoch 228, Train MSE Loss: 0.014787500323583176, Validation avg MSE loss: 0.4665974727117385, Validation R2: 0.9094647925356851\n",
      "Epoch 229, Train MSE Loss: 0.014730592078618094, Validation avg MSE loss: 0.48803183982756987, Validation R2: 0.9053058231789793\n",
      "Epoch 230, Train MSE Loss: 0.01549944334442494, Validation avg MSE loss: 0.5126056369330705, Validation R2: 0.9005377014322202\n",
      "Epoch 231, Train MSE Loss: 0.013076161978117907, Validation avg MSE loss: 0.5026525315938147, Validation R2: 0.9024689294832442\n",
      "Epoch 232, Train MSE Loss: 0.012868241119939842, Validation avg MSE loss: 0.481531245401773, Validation R2: 0.906567150754488\n",
      "Epoch 233, Train MSE Loss: 0.013784066668635197, Validation avg MSE loss: 0.45350782406069257, Validation R2: 0.9120046136257176\n",
      "Epoch 234, Train MSE Loss: 0.01354894052753163, Validation avg MSE loss: 0.5069884115384363, Validation R2: 0.9016276261482837\n",
      "Epoch 235, Train MSE Loss: 0.014166893788557624, Validation avg MSE loss: 0.4888713157778777, Validation R2: 0.9051429382826315\n",
      "Validation R2 not improving\n",
      "Best Epoch: 184, Best R2 validation: 0.9129370364262802\n",
      "Start Testing:\n",
      "Test R square: 0.9114859485489867\n",
      "Test MSE: 0.3768333557955397\n",
      "CPU times: total: 1h 13min 3s\n",
      "Wall time: 6min 7s\n"
     ]
    }
   ],
   "source": [
    "%%time\n",
    "\n",
    "model3, r2_3 = train(TransformerConvRegr,\n",
    "                  train_dataset=train_batch,\n",
    "                  val_dataset=val_batch,\n",
    "                  test_dataset=test_batch,\n",
    "                  epochs=1000,\n",
    "                  batch_size=32,\n",
    "                  pooling_method='mean',\n",
    "                  early_stopping_patience=50,\n",
    "                  hidden_channels=64,\n",
    "                  in_channels=train_batch[0].x[0].shape[0],\n",
    "                  num_layers=6,\n",
    "                  verbose=True)\n"
   ]
  },
  {
   "cell_type": "markdown",
   "id": "b4aec534-5096-4de9-b6a9-fccae81583b4",
   "metadata": {},
   "source": [
    "## MPNN - chemprop\n",
    "\n",
    "Using MPNN from chemprop library"
   ]
  },
  {
   "cell_type": "code",
   "execution_count": 92,
   "id": "6f900a1d-876b-4c8e-aed4-f9d3110bf287",
   "metadata": {},
   "outputs": [
    {
     "name": "stderr",
     "output_type": "stream",
     "text": [
      "LOCAL_RANK: 0 - CUDA_VISIBLE_DEVICES: [0]\n"
     ]
    },
    {
     "data": {
      "application/vnd.jupyter.widget-view+json": {
       "model_id": "45417ad23c33476cace0b83d09347343",
       "version_major": 2,
       "version_minor": 0
      },
      "text/plain": [
       "Sanity Checking: |          | 0/? [00:00<?, ?it/s]"
      ]
     },
     "metadata": {},
     "output_type": "display_data"
    },
    {
     "data": {
      "application/vnd.jupyter.widget-view+json": {
       "model_id": "61a5f5fc3d8f41c39625b4ea6ac90e82",
       "version_major": 2,
       "version_minor": 0
      },
      "text/plain": [
       "Training: |          | 0/? [00:00<?, ?it/s]"
      ]
     },
     "metadata": {},
     "output_type": "display_data"
    },
    {
     "data": {
      "application/vnd.jupyter.widget-view+json": {
       "model_id": "b0193799bcdc4fc7901156e9fc34e4ea",
       "version_major": 2,
       "version_minor": 0
      },
      "text/plain": [
       "Validation: |          | 0/? [00:00<?, ?it/s]"
      ]
     },
     "metadata": {},
     "output_type": "display_data"
    },
    {
     "data": {
      "application/vnd.jupyter.widget-view+json": {
       "model_id": "9cd198071937438e9e0527b43b7b85ee",
       "version_major": 2,
       "version_minor": 0
      },
      "text/plain": [
       "Validation: |          | 0/? [00:00<?, ?it/s]"
      ]
     },
     "metadata": {},
     "output_type": "display_data"
    },
    {
     "data": {
      "application/vnd.jupyter.widget-view+json": {
       "model_id": "7522b4a77afa437b828f6cd8bc92c4a6",
       "version_major": 2,
       "version_minor": 0
      },
      "text/plain": [
       "Validation: |          | 0/? [00:00<?, ?it/s]"
      ]
     },
     "metadata": {},
     "output_type": "display_data"
    },
    {
     "data": {
      "application/vnd.jupyter.widget-view+json": {
       "model_id": "3f5da1a6236f4a6889861638c39f1241",
       "version_major": 2,
       "version_minor": 0
      },
      "text/plain": [
       "Validation: |          | 0/? [00:00<?, ?it/s]"
      ]
     },
     "metadata": {},
     "output_type": "display_data"
    },
    {
     "data": {
      "application/vnd.jupyter.widget-view+json": {
       "model_id": "b15f042d70134107bdd8cc34d824867a",
       "version_major": 2,
       "version_minor": 0
      },
      "text/plain": [
       "Validation: |          | 0/? [00:00<?, ?it/s]"
      ]
     },
     "metadata": {},
     "output_type": "display_data"
    },
    {
     "data": {
      "application/vnd.jupyter.widget-view+json": {
       "model_id": "53ab31f624f940ac83d8b26186f076c8",
       "version_major": 2,
       "version_minor": 0
      },
      "text/plain": [
       "Validation: |          | 0/? [00:00<?, ?it/s]"
      ]
     },
     "metadata": {},
     "output_type": "display_data"
    },
    {
     "data": {
      "application/vnd.jupyter.widget-view+json": {
       "model_id": "93671b7a5676417c8831f3c66d404040",
       "version_major": 2,
       "version_minor": 0
      },
      "text/plain": [
       "Validation: |          | 0/? [00:00<?, ?it/s]"
      ]
     },
     "metadata": {},
     "output_type": "display_data"
    },
    {
     "data": {
      "application/vnd.jupyter.widget-view+json": {
       "model_id": "8f784d9c3b164ed99f5b8a3a2b237a0e",
       "version_major": 2,
       "version_minor": 0
      },
      "text/plain": [
       "Validation: |          | 0/? [00:00<?, ?it/s]"
      ]
     },
     "metadata": {},
     "output_type": "display_data"
    },
    {
     "data": {
      "application/vnd.jupyter.widget-view+json": {
       "model_id": "e10ff51a3928465899cbfa04d3559c0a",
       "version_major": 2,
       "version_minor": 0
      },
      "text/plain": [
       "Validation: |          | 0/? [00:00<?, ?it/s]"
      ]
     },
     "metadata": {},
     "output_type": "display_data"
    },
    {
     "data": {
      "application/vnd.jupyter.widget-view+json": {
       "model_id": "eba10be35dbf49c5bf9e808b5d9625c1",
       "version_major": 2,
       "version_minor": 0
      },
      "text/plain": [
       "Validation: |          | 0/? [00:00<?, ?it/s]"
      ]
     },
     "metadata": {},
     "output_type": "display_data"
    },
    {
     "data": {
      "application/vnd.jupyter.widget-view+json": {
       "model_id": "605b8402158e4b4cb479cbb56db8581c",
       "version_major": 2,
       "version_minor": 0
      },
      "text/plain": [
       "Validation: |          | 0/? [00:00<?, ?it/s]"
      ]
     },
     "metadata": {},
     "output_type": "display_data"
    },
    {
     "data": {
      "application/vnd.jupyter.widget-view+json": {
       "model_id": "f4178762f7be427ba1f34e2a97069de8",
       "version_major": 2,
       "version_minor": 0
      },
      "text/plain": [
       "Validation: |          | 0/? [00:00<?, ?it/s]"
      ]
     },
     "metadata": {},
     "output_type": "display_data"
    },
    {
     "data": {
      "application/vnd.jupyter.widget-view+json": {
       "model_id": "45e49e54b34f46ac9a282699bad113ba",
       "version_major": 2,
       "version_minor": 0
      },
      "text/plain": [
       "Validation: |          | 0/? [00:00<?, ?it/s]"
      ]
     },
     "metadata": {},
     "output_type": "display_data"
    },
    {
     "data": {
      "application/vnd.jupyter.widget-view+json": {
       "model_id": "043807a6c1d1411bb247198660908372",
       "version_major": 2,
       "version_minor": 0
      },
      "text/plain": [
       "Validation: |          | 0/? [00:00<?, ?it/s]"
      ]
     },
     "metadata": {},
     "output_type": "display_data"
    },
    {
     "data": {
      "application/vnd.jupyter.widget-view+json": {
       "model_id": "0f30235a987648fd940d62ebf4803e1b",
       "version_major": 2,
       "version_minor": 0
      },
      "text/plain": [
       "Validation: |          | 0/? [00:00<?, ?it/s]"
      ]
     },
     "metadata": {},
     "output_type": "display_data"
    },
    {
     "data": {
      "application/vnd.jupyter.widget-view+json": {
       "model_id": "647d27c1afd54edd93d48fb82455c809",
       "version_major": 2,
       "version_minor": 0
      },
      "text/plain": [
       "Validation: |          | 0/? [00:00<?, ?it/s]"
      ]
     },
     "metadata": {},
     "output_type": "display_data"
    },
    {
     "data": {
      "application/vnd.jupyter.widget-view+json": {
       "model_id": "25ec125a79ec4381afac38e09f57d6e1",
       "version_major": 2,
       "version_minor": 0
      },
      "text/plain": [
       "Validation: |          | 0/? [00:00<?, ?it/s]"
      ]
     },
     "metadata": {},
     "output_type": "display_data"
    },
    {
     "data": {
      "application/vnd.jupyter.widget-view+json": {
       "model_id": "66befdbfe2244de58311fc4467975e72",
       "version_major": 2,
       "version_minor": 0
      },
      "text/plain": [
       "Validation: |          | 0/? [00:00<?, ?it/s]"
      ]
     },
     "metadata": {},
     "output_type": "display_data"
    },
    {
     "data": {
      "application/vnd.jupyter.widget-view+json": {
       "model_id": "b00bc6008a01456ba4ab9beceaa413db",
       "version_major": 2,
       "version_minor": 0
      },
      "text/plain": [
       "Validation: |          | 0/? [00:00<?, ?it/s]"
      ]
     },
     "metadata": {},
     "output_type": "display_data"
    },
    {
     "data": {
      "application/vnd.jupyter.widget-view+json": {
       "model_id": "e2051c45aebe487cb8540035f7859e0c",
       "version_major": 2,
       "version_minor": 0
      },
      "text/plain": [
       "Validation: |          | 0/? [00:00<?, ?it/s]"
      ]
     },
     "metadata": {},
     "output_type": "display_data"
    },
    {
     "data": {
      "application/vnd.jupyter.widget-view+json": {
       "model_id": "6b6ce037cb194b33b686d2bdbaf86a66",
       "version_major": 2,
       "version_minor": 0
      },
      "text/plain": [
       "Validation: |          | 0/? [00:00<?, ?it/s]"
      ]
     },
     "metadata": {},
     "output_type": "display_data"
    },
    {
     "data": {
      "application/vnd.jupyter.widget-view+json": {
       "model_id": "6dafa088c14149bf8a467fd9c8da3cad",
       "version_major": 2,
       "version_minor": 0
      },
      "text/plain": [
       "Validation: |          | 0/? [00:00<?, ?it/s]"
      ]
     },
     "metadata": {},
     "output_type": "display_data"
    },
    {
     "data": {
      "application/vnd.jupyter.widget-view+json": {
       "model_id": "17301d8712e04545a7c085434a58586a",
       "version_major": 2,
       "version_minor": 0
      },
      "text/plain": [
       "Validation: |          | 0/? [00:00<?, ?it/s]"
      ]
     },
     "metadata": {},
     "output_type": "display_data"
    },
    {
     "data": {
      "application/vnd.jupyter.widget-view+json": {
       "model_id": "3b0167a1898a4acaa71e1457cb2cefd2",
       "version_major": 2,
       "version_minor": 0
      },
      "text/plain": [
       "Validation: |          | 0/? [00:00<?, ?it/s]"
      ]
     },
     "metadata": {},
     "output_type": "display_data"
    },
    {
     "data": {
      "application/vnd.jupyter.widget-view+json": {
       "model_id": "10bf3a7b31fa4fb0a59ad11e23434c16",
       "version_major": 2,
       "version_minor": 0
      },
      "text/plain": [
       "Validation: |          | 0/? [00:00<?, ?it/s]"
      ]
     },
     "metadata": {},
     "output_type": "display_data"
    },
    {
     "data": {
      "application/vnd.jupyter.widget-view+json": {
       "model_id": "4bf45a34a6ed4d0f86858f6bec90e4d7",
       "version_major": 2,
       "version_minor": 0
      },
      "text/plain": [
       "Validation: |          | 0/? [00:00<?, ?it/s]"
      ]
     },
     "metadata": {},
     "output_type": "display_data"
    },
    {
     "data": {
      "application/vnd.jupyter.widget-view+json": {
       "model_id": "cd7edc5ac8a8499a8a16ccf9d5551f50",
       "version_major": 2,
       "version_minor": 0
      },
      "text/plain": [
       "Validation: |          | 0/? [00:00<?, ?it/s]"
      ]
     },
     "metadata": {},
     "output_type": "display_data"
    },
    {
     "data": {
      "application/vnd.jupyter.widget-view+json": {
       "model_id": "71a8e79feb9046ac94c15f8bb6110137",
       "version_major": 2,
       "version_minor": 0
      },
      "text/plain": [
       "Validation: |          | 0/? [00:00<?, ?it/s]"
      ]
     },
     "metadata": {},
     "output_type": "display_data"
    },
    {
     "data": {
      "application/vnd.jupyter.widget-view+json": {
       "model_id": "0cbc147b509f4ae3b130ecf13f93a104",
       "version_major": 2,
       "version_minor": 0
      },
      "text/plain": [
       "Validation: |          | 0/? [00:00<?, ?it/s]"
      ]
     },
     "metadata": {},
     "output_type": "display_data"
    },
    {
     "data": {
      "application/vnd.jupyter.widget-view+json": {
       "model_id": "210e0316424649c3babc295675dd7eb1",
       "version_major": 2,
       "version_minor": 0
      },
      "text/plain": [
       "Validation: |          | 0/? [00:00<?, ?it/s]"
      ]
     },
     "metadata": {},
     "output_type": "display_data"
    },
    {
     "data": {
      "application/vnd.jupyter.widget-view+json": {
       "model_id": "969bc3fb9aaf48cfafa9fe60028c35b0",
       "version_major": 2,
       "version_minor": 0
      },
      "text/plain": [
       "Validation: |          | 0/? [00:00<?, ?it/s]"
      ]
     },
     "metadata": {},
     "output_type": "display_data"
    },
    {
     "data": {
      "application/vnd.jupyter.widget-view+json": {
       "model_id": "b508d817968343d88bfae095939e950a",
       "version_major": 2,
       "version_minor": 0
      },
      "text/plain": [
       "Validation: |          | 0/? [00:00<?, ?it/s]"
      ]
     },
     "metadata": {},
     "output_type": "display_data"
    },
    {
     "data": {
      "application/vnd.jupyter.widget-view+json": {
       "model_id": "0c783a06cdbf4a2ea3efba77fc9e4e99",
       "version_major": 2,
       "version_minor": 0
      },
      "text/plain": [
       "Validation: |          | 0/? [00:00<?, ?it/s]"
      ]
     },
     "metadata": {},
     "output_type": "display_data"
    },
    {
     "data": {
      "application/vnd.jupyter.widget-view+json": {
       "model_id": "395535593652461b8917ff023726e34d",
       "version_major": 2,
       "version_minor": 0
      },
      "text/plain": [
       "Validation: |          | 0/? [00:00<?, ?it/s]"
      ]
     },
     "metadata": {},
     "output_type": "display_data"
    },
    {
     "data": {
      "application/vnd.jupyter.widget-view+json": {
       "model_id": "fd811b502b284ba4a955ab03c9cde8d7",
       "version_major": 2,
       "version_minor": 0
      },
      "text/plain": [
       "Validation: |          | 0/? [00:00<?, ?it/s]"
      ]
     },
     "metadata": {},
     "output_type": "display_data"
    },
    {
     "data": {
      "application/vnd.jupyter.widget-view+json": {
       "model_id": "0ee65a14b4fd4640bbd51ac5f4cc248d",
       "version_major": 2,
       "version_minor": 0
      },
      "text/plain": [
       "Validation: |          | 0/? [00:00<?, ?it/s]"
      ]
     },
     "metadata": {},
     "output_type": "display_data"
    },
    {
     "data": {
      "application/vnd.jupyter.widget-view+json": {
       "model_id": "19492b0deefe4bc8ba5005ad06db7643",
       "version_major": 2,
       "version_minor": 0
      },
      "text/plain": [
       "Validation: |          | 0/? [00:00<?, ?it/s]"
      ]
     },
     "metadata": {},
     "output_type": "display_data"
    },
    {
     "data": {
      "application/vnd.jupyter.widget-view+json": {
       "model_id": "d0bc03785573495ca05d3bb6ee138bc1",
       "version_major": 2,
       "version_minor": 0
      },
      "text/plain": [
       "Validation: |          | 0/? [00:00<?, ?it/s]"
      ]
     },
     "metadata": {},
     "output_type": "display_data"
    },
    {
     "data": {
      "application/vnd.jupyter.widget-view+json": {
       "model_id": "a03a984155e941bfbd85fd2fc0ebf39b",
       "version_major": 2,
       "version_minor": 0
      },
      "text/plain": [
       "Validation: |          | 0/? [00:00<?, ?it/s]"
      ]
     },
     "metadata": {},
     "output_type": "display_data"
    },
    {
     "data": {
      "application/vnd.jupyter.widget-view+json": {
       "model_id": "d500cac7a8f54d8bb5ed68d37a5f4ca1",
       "version_major": 2,
       "version_minor": 0
      },
      "text/plain": [
       "Validation: |          | 0/? [00:00<?, ?it/s]"
      ]
     },
     "metadata": {},
     "output_type": "display_data"
    },
    {
     "data": {
      "application/vnd.jupyter.widget-view+json": {
       "model_id": "4dd4e3ce404246728161aeb553f34a0f",
       "version_major": 2,
       "version_minor": 0
      },
      "text/plain": [
       "Validation: |          | 0/? [00:00<?, ?it/s]"
      ]
     },
     "metadata": {},
     "output_type": "display_data"
    },
    {
     "data": {
      "application/vnd.jupyter.widget-view+json": {
       "model_id": "22c8ad24d3fb45a48d3f2d9f7824e7b7",
       "version_major": 2,
       "version_minor": 0
      },
      "text/plain": [
       "Validation: |          | 0/? [00:00<?, ?it/s]"
      ]
     },
     "metadata": {},
     "output_type": "display_data"
    },
    {
     "data": {
      "application/vnd.jupyter.widget-view+json": {
       "model_id": "ef677c20b2ce45c4bdd3bced20734e65",
       "version_major": 2,
       "version_minor": 0
      },
      "text/plain": [
       "Validation: |          | 0/? [00:00<?, ?it/s]"
      ]
     },
     "metadata": {},
     "output_type": "display_data"
    },
    {
     "data": {
      "application/vnd.jupyter.widget-view+json": {
       "model_id": "f5a6383ad129402eb3b43aad88d55951",
       "version_major": 2,
       "version_minor": 0
      },
      "text/plain": [
       "Validation: |          | 0/? [00:00<?, ?it/s]"
      ]
     },
     "metadata": {},
     "output_type": "display_data"
    },
    {
     "data": {
      "application/vnd.jupyter.widget-view+json": {
       "model_id": "aa44c6669cbd4ac9862e591a0e3d1539",
       "version_major": 2,
       "version_minor": 0
      },
      "text/plain": [
       "Validation: |          | 0/? [00:00<?, ?it/s]"
      ]
     },
     "metadata": {},
     "output_type": "display_data"
    },
    {
     "data": {
      "application/vnd.jupyter.widget-view+json": {
       "model_id": "dea7f56e06554f30a4ff26565a5b569f",
       "version_major": 2,
       "version_minor": 0
      },
      "text/plain": [
       "Validation: |          | 0/? [00:00<?, ?it/s]"
      ]
     },
     "metadata": {},
     "output_type": "display_data"
    },
    {
     "data": {
      "application/vnd.jupyter.widget-view+json": {
       "model_id": "90b44cfd2b474e2da0a6b783361d20e1",
       "version_major": 2,
       "version_minor": 0
      },
      "text/plain": [
       "Validation: |          | 0/? [00:00<?, ?it/s]"
      ]
     },
     "metadata": {},
     "output_type": "display_data"
    },
    {
     "data": {
      "application/vnd.jupyter.widget-view+json": {
       "model_id": "ab824dd3fdca4b24b5f79d9aabb58967",
       "version_major": 2,
       "version_minor": 0
      },
      "text/plain": [
       "Validation: |          | 0/? [00:00<?, ?it/s]"
      ]
     },
     "metadata": {},
     "output_type": "display_data"
    },
    {
     "data": {
      "application/vnd.jupyter.widget-view+json": {
       "model_id": "7ff3c65ffa9e4a709aa085b0844fa14e",
       "version_major": 2,
       "version_minor": 0
      },
      "text/plain": [
       "Validation: |          | 0/? [00:00<?, ?it/s]"
      ]
     },
     "metadata": {},
     "output_type": "display_data"
    },
    {
     "data": {
      "application/vnd.jupyter.widget-view+json": {
       "model_id": "1fe019998b5c4b17b0df415b0df8b7db",
       "version_major": 2,
       "version_minor": 0
      },
      "text/plain": [
       "Validation: |          | 0/? [00:00<?, ?it/s]"
      ]
     },
     "metadata": {},
     "output_type": "display_data"
    },
    {
     "data": {
      "application/vnd.jupyter.widget-view+json": {
       "model_id": "f9b153f5acf747c2abcaca7569dec553",
       "version_major": 2,
       "version_minor": 0
      },
      "text/plain": [
       "Validation: |          | 0/? [00:00<?, ?it/s]"
      ]
     },
     "metadata": {},
     "output_type": "display_data"
    },
    {
     "data": {
      "application/vnd.jupyter.widget-view+json": {
       "model_id": "cf3ec4715f7e4cc59309a26a9e7a4686",
       "version_major": 2,
       "version_minor": 0
      },
      "text/plain": [
       "Validation: |          | 0/? [00:00<?, ?it/s]"
      ]
     },
     "metadata": {},
     "output_type": "display_data"
    },
    {
     "data": {
      "application/vnd.jupyter.widget-view+json": {
       "model_id": "b0e4a00fc2ab4265a8876c3f06976615",
       "version_major": 2,
       "version_minor": 0
      },
      "text/plain": [
       "Validation: |          | 0/? [00:00<?, ?it/s]"
      ]
     },
     "metadata": {},
     "output_type": "display_data"
    },
    {
     "data": {
      "application/vnd.jupyter.widget-view+json": {
       "model_id": "635f7474f7184e41af88c89cab742687",
       "version_major": 2,
       "version_minor": 0
      },
      "text/plain": [
       "Validation: |          | 0/? [00:00<?, ?it/s]"
      ]
     },
     "metadata": {},
     "output_type": "display_data"
    },
    {
     "data": {
      "application/vnd.jupyter.widget-view+json": {
       "model_id": "2d45dc956b6749c587b0b7be2e319ec7",
       "version_major": 2,
       "version_minor": 0
      },
      "text/plain": [
       "Validation: |          | 0/? [00:00<?, ?it/s]"
      ]
     },
     "metadata": {},
     "output_type": "display_data"
    },
    {
     "data": {
      "application/vnd.jupyter.widget-view+json": {
       "model_id": "beb9838bd2c74e1394e1d20cd36a2e04",
       "version_major": 2,
       "version_minor": 0
      },
      "text/plain": [
       "Validation: |          | 0/? [00:00<?, ?it/s]"
      ]
     },
     "metadata": {},
     "output_type": "display_data"
    },
    {
     "data": {
      "application/vnd.jupyter.widget-view+json": {
       "model_id": "5cea6145c52d4756b696e9510c9b5c63",
       "version_major": 2,
       "version_minor": 0
      },
      "text/plain": [
       "Validation: |          | 0/? [00:00<?, ?it/s]"
      ]
     },
     "metadata": {},
     "output_type": "display_data"
    },
    {
     "data": {
      "application/vnd.jupyter.widget-view+json": {
       "model_id": "3366f5de31544fdf8bf33cb50e172a4c",
       "version_major": 2,
       "version_minor": 0
      },
      "text/plain": [
       "Validation: |          | 0/? [00:00<?, ?it/s]"
      ]
     },
     "metadata": {},
     "output_type": "display_data"
    },
    {
     "data": {
      "application/vnd.jupyter.widget-view+json": {
       "model_id": "467d2d95a6924c12b7a3fa912939daa0",
       "version_major": 2,
       "version_minor": 0
      },
      "text/plain": [
       "Validation: |          | 0/? [00:00<?, ?it/s]"
      ]
     },
     "metadata": {},
     "output_type": "display_data"
    },
    {
     "data": {
      "application/vnd.jupyter.widget-view+json": {
       "model_id": "3cc2b957642f48fea45126c680933926",
       "version_major": 2,
       "version_minor": 0
      },
      "text/plain": [
       "Validation: |          | 0/? [00:00<?, ?it/s]"
      ]
     },
     "metadata": {},
     "output_type": "display_data"
    },
    {
     "data": {
      "application/vnd.jupyter.widget-view+json": {
       "model_id": "66b7dd9ea1124fb8b3c551a0615fa909",
       "version_major": 2,
       "version_minor": 0
      },
      "text/plain": [
       "Validation: |          | 0/? [00:00<?, ?it/s]"
      ]
     },
     "metadata": {},
     "output_type": "display_data"
    },
    {
     "data": {
      "application/vnd.jupyter.widget-view+json": {
       "model_id": "e6fc52abf6ca48fd98e1b7d05c662d8a",
       "version_major": 2,
       "version_minor": 0
      },
      "text/plain": [
       "Validation: |          | 0/? [00:00<?, ?it/s]"
      ]
     },
     "metadata": {},
     "output_type": "display_data"
    },
    {
     "data": {
      "application/vnd.jupyter.widget-view+json": {
       "model_id": "f2a17cc37a0b4bdcb51eb253bef58dad",
       "version_major": 2,
       "version_minor": 0
      },
      "text/plain": [
       "Validation: |          | 0/? [00:00<?, ?it/s]"
      ]
     },
     "metadata": {},
     "output_type": "display_data"
    },
    {
     "data": {
      "application/vnd.jupyter.widget-view+json": {
       "model_id": "a404cb7f5ebc4528b11707549574f55c",
       "version_major": 2,
       "version_minor": 0
      },
      "text/plain": [
       "Validation: |          | 0/? [00:00<?, ?it/s]"
      ]
     },
     "metadata": {},
     "output_type": "display_data"
    },
    {
     "data": {
      "application/vnd.jupyter.widget-view+json": {
       "model_id": "f787640dec7846ddbe2760f32b484e77",
       "version_major": 2,
       "version_minor": 0
      },
      "text/plain": [
       "Validation: |          | 0/? [00:00<?, ?it/s]"
      ]
     },
     "metadata": {},
     "output_type": "display_data"
    },
    {
     "data": {
      "application/vnd.jupyter.widget-view+json": {
       "model_id": "01f302d25d6e4cbaa47a7aeb50b3e01e",
       "version_major": 2,
       "version_minor": 0
      },
      "text/plain": [
       "Validation: |          | 0/? [00:00<?, ?it/s]"
      ]
     },
     "metadata": {},
     "output_type": "display_data"
    },
    {
     "data": {
      "application/vnd.jupyter.widget-view+json": {
       "model_id": "96ebedd7c76f4064ba5c8f56f27518c7",
       "version_major": 2,
       "version_minor": 0
      },
      "text/plain": [
       "Validation: |          | 0/? [00:00<?, ?it/s]"
      ]
     },
     "metadata": {},
     "output_type": "display_data"
    },
    {
     "data": {
      "application/vnd.jupyter.widget-view+json": {
       "model_id": "b7b9963b17214e848926f283af07a351",
       "version_major": 2,
       "version_minor": 0
      },
      "text/plain": [
       "Validation: |          | 0/? [00:00<?, ?it/s]"
      ]
     },
     "metadata": {},
     "output_type": "display_data"
    },
    {
     "data": {
      "application/vnd.jupyter.widget-view+json": {
       "model_id": "c936f864a544483e802221b4c097a3ac",
       "version_major": 2,
       "version_minor": 0
      },
      "text/plain": [
       "Validation: |          | 0/? [00:00<?, ?it/s]"
      ]
     },
     "metadata": {},
     "output_type": "display_data"
    },
    {
     "data": {
      "application/vnd.jupyter.widget-view+json": {
       "model_id": "1ce2b444c2a54b61ab60fea7ee1ea7e5",
       "version_major": 2,
       "version_minor": 0
      },
      "text/plain": [
       "Validation: |          | 0/? [00:00<?, ?it/s]"
      ]
     },
     "metadata": {},
     "output_type": "display_data"
    },
    {
     "data": {
      "application/vnd.jupyter.widget-view+json": {
       "model_id": "774b02d20857446e8766d612103ed19e",
       "version_major": 2,
       "version_minor": 0
      },
      "text/plain": [
       "Validation: |          | 0/? [00:00<?, ?it/s]"
      ]
     },
     "metadata": {},
     "output_type": "display_data"
    },
    {
     "data": {
      "application/vnd.jupyter.widget-view+json": {
       "model_id": "7e7374087b854cdbabe08e65eef623c2",
       "version_major": 2,
       "version_minor": 0
      },
      "text/plain": [
       "Validation: |          | 0/? [00:00<?, ?it/s]"
      ]
     },
     "metadata": {},
     "output_type": "display_data"
    },
    {
     "data": {
      "application/vnd.jupyter.widget-view+json": {
       "model_id": "a6f597919fa14b158e01d07ca8966078",
       "version_major": 2,
       "version_minor": 0
      },
      "text/plain": [
       "Validation: |          | 0/? [00:00<?, ?it/s]"
      ]
     },
     "metadata": {},
     "output_type": "display_data"
    },
    {
     "data": {
      "application/vnd.jupyter.widget-view+json": {
       "model_id": "dd3f2a4a9b604affa5e62014b294ec93",
       "version_major": 2,
       "version_minor": 0
      },
      "text/plain": [
       "Validation: |          | 0/? [00:00<?, ?it/s]"
      ]
     },
     "metadata": {},
     "output_type": "display_data"
    },
    {
     "data": {
      "application/vnd.jupyter.widget-view+json": {
       "model_id": "2e5e3d9db0e5492495234f6bf45bb3ae",
       "version_major": 2,
       "version_minor": 0
      },
      "text/plain": [
       "Validation: |          | 0/? [00:00<?, ?it/s]"
      ]
     },
     "metadata": {},
     "output_type": "display_data"
    },
    {
     "data": {
      "application/vnd.jupyter.widget-view+json": {
       "model_id": "65093b002d814e2ea79742373e5c2d40",
       "version_major": 2,
       "version_minor": 0
      },
      "text/plain": [
       "Validation: |          | 0/? [00:00<?, ?it/s]"
      ]
     },
     "metadata": {},
     "output_type": "display_data"
    },
    {
     "data": {
      "application/vnd.jupyter.widget-view+json": {
       "model_id": "a0ec2bca656848f9b79aa2dde370cf4a",
       "version_major": 2,
       "version_minor": 0
      },
      "text/plain": [
       "Validation: |          | 0/? [00:00<?, ?it/s]"
      ]
     },
     "metadata": {},
     "output_type": "display_data"
    },
    {
     "data": {
      "application/vnd.jupyter.widget-view+json": {
       "model_id": "efe97293f0ba4d6190540d5a43d6fb28",
       "version_major": 2,
       "version_minor": 0
      },
      "text/plain": [
       "Validation: |          | 0/? [00:00<?, ?it/s]"
      ]
     },
     "metadata": {},
     "output_type": "display_data"
    },
    {
     "data": {
      "application/vnd.jupyter.widget-view+json": {
       "model_id": "3572b3cd43b448f892d5d09ce4eb97d3",
       "version_major": 2,
       "version_minor": 0
      },
      "text/plain": [
       "Validation: |          | 0/? [00:00<?, ?it/s]"
      ]
     },
     "metadata": {},
     "output_type": "display_data"
    },
    {
     "data": {
      "application/vnd.jupyter.widget-view+json": {
       "model_id": "d075f5049972419f9572ccc98e1ff7df",
       "version_major": 2,
       "version_minor": 0
      },
      "text/plain": [
       "Validation: |          | 0/? [00:00<?, ?it/s]"
      ]
     },
     "metadata": {},
     "output_type": "display_data"
    },
    {
     "data": {
      "application/vnd.jupyter.widget-view+json": {
       "model_id": "2ee0bd57639b48a0be0ee0706f829155",
       "version_major": 2,
       "version_minor": 0
      },
      "text/plain": [
       "Validation: |          | 0/? [00:00<?, ?it/s]"
      ]
     },
     "metadata": {},
     "output_type": "display_data"
    },
    {
     "data": {
      "application/vnd.jupyter.widget-view+json": {
       "model_id": "4ac64d02ab054e9daf419b2818753955",
       "version_major": 2,
       "version_minor": 0
      },
      "text/plain": [
       "Validation: |          | 0/? [00:00<?, ?it/s]"
      ]
     },
     "metadata": {},
     "output_type": "display_data"
    },
    {
     "data": {
      "application/vnd.jupyter.widget-view+json": {
       "model_id": "1fa766facd4f45908fa62045ad991c58",
       "version_major": 2,
       "version_minor": 0
      },
      "text/plain": [
       "Validation: |          | 0/? [00:00<?, ?it/s]"
      ]
     },
     "metadata": {},
     "output_type": "display_data"
    },
    {
     "data": {
      "application/vnd.jupyter.widget-view+json": {
       "model_id": "c54c03f5fe5c402fa1a806e378b9544e",
       "version_major": 2,
       "version_minor": 0
      },
      "text/plain": [
       "Validation: |          | 0/? [00:00<?, ?it/s]"
      ]
     },
     "metadata": {},
     "output_type": "display_data"
    },
    {
     "data": {
      "application/vnd.jupyter.widget-view+json": {
       "model_id": "b040d1658c0e4a63b66289c375fe6552",
       "version_major": 2,
       "version_minor": 0
      },
      "text/plain": [
       "Validation: |          | 0/? [00:00<?, ?it/s]"
      ]
     },
     "metadata": {},
     "output_type": "display_data"
    },
    {
     "data": {
      "application/vnd.jupyter.widget-view+json": {
       "model_id": "643de19ae64543478179cc94051c4653",
       "version_major": 2,
       "version_minor": 0
      },
      "text/plain": [
       "Validation: |          | 0/? [00:00<?, ?it/s]"
      ]
     },
     "metadata": {},
     "output_type": "display_data"
    },
    {
     "data": {
      "application/vnd.jupyter.widget-view+json": {
       "model_id": "a4379350da5c4627bde62dc5efb06c20",
       "version_major": 2,
       "version_minor": 0
      },
      "text/plain": [
       "Validation: |          | 0/? [00:00<?, ?it/s]"
      ]
     },
     "metadata": {},
     "output_type": "display_data"
    },
    {
     "data": {
      "application/vnd.jupyter.widget-view+json": {
       "model_id": "1dbc1ceb21be4972b8b9f796e3771fca",
       "version_major": 2,
       "version_minor": 0
      },
      "text/plain": [
       "Validation: |          | 0/? [00:00<?, ?it/s]"
      ]
     },
     "metadata": {},
     "output_type": "display_data"
    },
    {
     "data": {
      "application/vnd.jupyter.widget-view+json": {
       "model_id": "9f12355afa0b43a2a611a265103dfada",
       "version_major": 2,
       "version_minor": 0
      },
      "text/plain": [
       "Validation: |          | 0/? [00:00<?, ?it/s]"
      ]
     },
     "metadata": {},
     "output_type": "display_data"
    },
    {
     "data": {
      "application/vnd.jupyter.widget-view+json": {
       "model_id": "3111e94f19fd4e118157d266162ccb67",
       "version_major": 2,
       "version_minor": 0
      },
      "text/plain": [
       "Validation: |          | 0/? [00:00<?, ?it/s]"
      ]
     },
     "metadata": {},
     "output_type": "display_data"
    },
    {
     "data": {
      "application/vnd.jupyter.widget-view+json": {
       "model_id": "e9a47b46d18445e595e584c473a3068a",
       "version_major": 2,
       "version_minor": 0
      },
      "text/plain": [
       "Validation: |          | 0/? [00:00<?, ?it/s]"
      ]
     },
     "metadata": {},
     "output_type": "display_data"
    },
    {
     "data": {
      "application/vnd.jupyter.widget-view+json": {
       "model_id": "156575054baf43d9ae06313cc7cfa8a7",
       "version_major": 2,
       "version_minor": 0
      },
      "text/plain": [
       "Validation: |          | 0/? [00:00<?, ?it/s]"
      ]
     },
     "metadata": {},
     "output_type": "display_data"
    },
    {
     "data": {
      "application/vnd.jupyter.widget-view+json": {
       "model_id": "f8337a2d983942a19ae01cbd5b8f45c8",
       "version_major": 2,
       "version_minor": 0
      },
      "text/plain": [
       "Validation: |          | 0/? [00:00<?, ?it/s]"
      ]
     },
     "metadata": {},
     "output_type": "display_data"
    },
    {
     "data": {
      "application/vnd.jupyter.widget-view+json": {
       "model_id": "7242edd90b07472097ec39e1dc2bed0c",
       "version_major": 2,
       "version_minor": 0
      },
      "text/plain": [
       "Validation: |          | 0/? [00:00<?, ?it/s]"
      ]
     },
     "metadata": {},
     "output_type": "display_data"
    },
    {
     "data": {
      "application/vnd.jupyter.widget-view+json": {
       "model_id": "99619a0b49f543bb9c92259ffa88717a",
       "version_major": 2,
       "version_minor": 0
      },
      "text/plain": [
       "Validation: |          | 0/? [00:00<?, ?it/s]"
      ]
     },
     "metadata": {},
     "output_type": "display_data"
    },
    {
     "data": {
      "application/vnd.jupyter.widget-view+json": {
       "model_id": "93765499f6914452b4158cfe4556bfb5",
       "version_major": 2,
       "version_minor": 0
      },
      "text/plain": [
       "Validation: |          | 0/? [00:00<?, ?it/s]"
      ]
     },
     "metadata": {},
     "output_type": "display_data"
    },
    {
     "data": {
      "application/vnd.jupyter.widget-view+json": {
       "model_id": "0640636f298a409a8945b507daebbf90",
       "version_major": 2,
       "version_minor": 0
      },
      "text/plain": [
       "Validation: |          | 0/? [00:00<?, ?it/s]"
      ]
     },
     "metadata": {},
     "output_type": "display_data"
    },
    {
     "data": {
      "application/vnd.jupyter.widget-view+json": {
       "model_id": "5fd9b4c354fa4555ab38dbfae630006a",
       "version_major": 2,
       "version_minor": 0
      },
      "text/plain": [
       "Validation: |          | 0/? [00:00<?, ?it/s]"
      ]
     },
     "metadata": {},
     "output_type": "display_data"
    },
    {
     "data": {
      "application/vnd.jupyter.widget-view+json": {
       "model_id": "ede70ccb9bb547d4b5ce2c39d587aac0",
       "version_major": 2,
       "version_minor": 0
      },
      "text/plain": [
       "Validation: |          | 0/? [00:00<?, ?it/s]"
      ]
     },
     "metadata": {},
     "output_type": "display_data"
    },
    {
     "data": {
      "application/vnd.jupyter.widget-view+json": {
       "model_id": "ccb4a2b64fd3491bb45e1910ea220d78",
       "version_major": 2,
       "version_minor": 0
      },
      "text/plain": [
       "Validation: |          | 0/? [00:00<?, ?it/s]"
      ]
     },
     "metadata": {},
     "output_type": "display_data"
    },
    {
     "data": {
      "application/vnd.jupyter.widget-view+json": {
       "model_id": "7a0da3c4aed84c72aedf9e0fc4560649",
       "version_major": 2,
       "version_minor": 0
      },
      "text/plain": [
       "Validation: |          | 0/? [00:00<?, ?it/s]"
      ]
     },
     "metadata": {},
     "output_type": "display_data"
    },
    {
     "data": {
      "application/vnd.jupyter.widget-view+json": {
       "model_id": "2d37a2a5d62343e69c58273412cd48ac",
       "version_major": 2,
       "version_minor": 0
      },
      "text/plain": [
       "Validation: |          | 0/? [00:00<?, ?it/s]"
      ]
     },
     "metadata": {},
     "output_type": "display_data"
    },
    {
     "name": "stderr",
     "output_type": "stream",
     "text": [
      "LOCAL_RANK: 0 - CUDA_VISIBLE_DEVICES: [0]\n"
     ]
    },
    {
     "data": {
      "application/vnd.jupyter.widget-view+json": {
       "model_id": "e3508064fcca4e069659b62d02b099e1",
       "version_major": 2,
       "version_minor": 0
      },
      "text/plain": [
       "Testing: |          | 0/? [00:00<?, ?it/s]"
      ]
     },
     "metadata": {},
     "output_type": "display_data"
    },
    {
     "data": {
      "text/html": [
       "<pre style=\"white-space:pre;overflow-x:auto;line-height:normal;font-family:Menlo,'DejaVu Sans Mono',consolas,'Courier New',monospace\">┏━━━━━━━━━━━━━━━━━━━━━━━━━━━┳━━━━━━━━━━━━━━━━━━━━━━━━━━━┓\n",
       "┃<span style=\"font-weight: bold\">        Test metric        </span>┃<span style=\"font-weight: bold\">       DataLoader 0        </span>┃\n",
       "┡━━━━━━━━━━━━━━━━━━━━━━━━━━━╇━━━━━━━━━━━━━━━━━━━━━━━━━━━┩\n",
       "│<span style=\"color: #008080; text-decoration-color: #008080\">         test/mse          </span>│<span style=\"color: #800080; text-decoration-color: #800080\">    0.07554279267787933    </span>│\n",
       "│<span style=\"color: #008080; text-decoration-color: #008080\">          test/r2          </span>│<span style=\"color: #800080; text-decoration-color: #800080\">    0.9270769953727722     </span>│\n",
       "└───────────────────────────┴───────────────────────────┘\n",
       "</pre>\n"
      ],
      "text/plain": [
       "┏━━━━━━━━━━━━━━━━━━━━━━━━━━━┳━━━━━━━━━━━━━━━━━━━━━━━━━━━┓\n",
       "┃\u001b[1m \u001b[0m\u001b[1m       Test metric       \u001b[0m\u001b[1m \u001b[0m┃\u001b[1m \u001b[0m\u001b[1m      DataLoader 0       \u001b[0m\u001b[1m \u001b[0m┃\n",
       "┡━━━━━━━━━━━━━━━━━━━━━━━━━━━╇━━━━━━━━━━━━━━━━━━━━━━━━━━━┩\n",
       "│\u001b[36m \u001b[0m\u001b[36m        test/mse         \u001b[0m\u001b[36m \u001b[0m│\u001b[35m \u001b[0m\u001b[35m   0.07554279267787933   \u001b[0m\u001b[35m \u001b[0m│\n",
       "│\u001b[36m \u001b[0m\u001b[36m         test/r2         \u001b[0m\u001b[36m \u001b[0m│\u001b[35m \u001b[0m\u001b[35m   0.9270769953727722    \u001b[0m\u001b[35m \u001b[0m│\n",
       "└───────────────────────────┴───────────────────────────┘\n"
      ]
     },
     "metadata": {},
     "output_type": "display_data"
    }
   ],
   "source": [
    "import warnings\n",
    "warnings.filterwarnings(\"ignore\")\n",
    "\n",
    "import logging\n",
    "logging.getLogger(\"lightning.pytorch.utilities.rank_zero\").setLevel(logging.ERROR)\n",
    "\n",
    "# Get Data\n",
    "smiles_column = 'smiles'\n",
    "feature_columns = ['Minimum Degree', 'Number of H-Bond Donors', 'Molecular Weight', 'Number of Rings', 'Number of Rotatable Bonds', 'Polar Surface Area'] \n",
    "target_columns = ['measured log solubility in mols per litre']\n",
    "smis = delaney_dataset.loc[:, smiles_column].values\n",
    "features = delaney_dataset.loc[:, feature_columns].values\n",
    "ys = delaney_dataset.loc[:, target_columns].values\n",
    "\n",
    "# All Molecule Datapoints\n",
    "all_data = [data.MoleculeDatapoint.from_smi(smi, y, x_d=feat) for smi, y, feat in zip(smis, ys, features)]\n",
    "\n",
    "# Split Data\n",
    "mols = [d.mol for d in all_data]  # RDkit Mol objects are use for structure based splits\n",
    "train_indices, val_indices, test_indices = data.make_split_indices(mols, \"random\", (0.8, 0.1, 0.1))  # unpack the tuple into three separate lists\n",
    "train_data, val_data, test_data = data.split_data_by_indices(\n",
    "    all_data, train_indices, val_indices, test_indices\n",
    ")\n",
    "\n",
    "# Featurize\n",
    "featurizer = featurizers.SimpleMoleculeMolGraphFeaturizer()\n",
    "train_dset = data.MoleculeDataset(train_data[0], featurizer)\n",
    "scaler = train_dset.normalize_targets()\n",
    "val_dset = data.MoleculeDataset(val_data[0], featurizer)\n",
    "val_dset.normalize_targets(scaler)\n",
    "test_dset = data.MoleculeDataset(test_data[0], featurizer)\n",
    "test_dset.normalize_targets(scaler)\n",
    "\n",
    "# Get Loader\n",
    "train_loader = data.build_dataloader(train_dset, batch_size=64)\n",
    "val_loader = data.build_dataloader(val_dset, shuffle=False)\n",
    "test_loader = data.build_dataloader(test_dset, shuffle=False)\n",
    "\n",
    "# Configure model checkpointing\n",
    "checkpointing = ModelCheckpoint(\n",
    "    \"checkpoints\",  # Directory where model checkpoints will be saved\n",
    "    \"best-{epoch}-{val_loss:.2f}\",  # Filename format for checkpoints, including epoch and validation loss\n",
    "    \"val_loss\",  # Metric used to select the best checkpoint (based on validation loss)\n",
    "    mode=\"min\",  # Save the checkpoint with the lowest validation loss (minimization objective)\n",
    "    save_last=True,  # Always save the most recent checkpoint, even if it's not the best\n",
    ")\n",
    "early_stop = EarlyStopping(monitor=\"val_loss\", patience=15, mode=\"min\")\n",
    "\n",
    "# Build Model\n",
    "graph_embedding_size = 300\n",
    "mp = nn.BondMessagePassing(d_h=graph_embedding_size)\n",
    "agg = nn.MeanAggregation()\n",
    "x_d_size = len(features[0])    \n",
    "ffn_input_size = graph_embedding_size + x_d_size  \n",
    "ffn = nn.RegressionFFN(input_dim=ffn_input_size, dropout=0.2)\n",
    "batch_norm = True\n",
    "metric_list = [nn.metrics.MSE(), nn.metrics.R2Score()]\n",
    "mpnn = models.MPNN(mp, agg, ffn, batch_norm, metric_list)\n",
    "\n",
    "# Configure Traininer\n",
    "trainer = pl.Trainer(\n",
    "    logger=False,\n",
    "    enable_checkpointing=True, # Use `True` if you want to save model checkpoints. The checkpoints will be saved in the `checkpoints` folder.\n",
    "    enable_progress_bar=True,\n",
    "    enable_model_summary=False,\n",
    "    accelerator=\"auto\",\n",
    "    devices=1,\n",
    "    max_epochs=400, # number of epochs to train for\n",
    "    callbacks=[checkpointing, early_stop], # Use the configured checkpoint callback\n",
    ")\n",
    "\n",
    "# Train\n",
    "trainer.fit(mpnn, train_loader, val_loader)\n",
    "\n",
    "# Test\n",
    "results = trainer.test(dataloaders=test_loader, ckpt_path='best')\n"
   ]
  },
  {
   "cell_type": "code",
   "execution_count": 93,
   "id": "8a58953f-01a0-4391-8472-10b7cab587b2",
   "metadata": {},
   "outputs": [
    {
     "data": {
      "text/plain": [
       "MPNN(\n",
       "  (message_passing): BondMessagePassing(\n",
       "    (W_i): Linear(in_features=86, out_features=300, bias=False)\n",
       "    (W_h): Linear(in_features=300, out_features=300, bias=False)\n",
       "    (W_o): Linear(in_features=372, out_features=300, bias=True)\n",
       "    (dropout): Dropout(p=0.0, inplace=False)\n",
       "    (tau): ReLU()\n",
       "    (V_d_transform): Identity()\n",
       "    (graph_transform): Identity()\n",
       "  )\n",
       "  (agg): MeanAggregation()\n",
       "  (bn): BatchNorm1d(300, eps=1e-05, momentum=0.1, affine=True, track_running_stats=True)\n",
       "  (predictor): RegressionFFN(\n",
       "    (ffn): MLP(\n",
       "      (0): Sequential(\n",
       "        (0): Linear(in_features=306, out_features=300, bias=True)\n",
       "      )\n",
       "      (1): Sequential(\n",
       "        (0): ReLU()\n",
       "        (1): Dropout(p=0.2, inplace=False)\n",
       "        (2): Linear(in_features=300, out_features=1, bias=True)\n",
       "      )\n",
       "    )\n",
       "    (criterion): MSE(task_weights=[[1.0]])\n",
       "    (output_transform): Identity()\n",
       "  )\n",
       "  (X_d_transform): Identity()\n",
       "  (metrics): ModuleList(\n",
       "    (0): MSE(task_weights=[[1.0]])\n",
       "    (1): R2Score()\n",
       "    (2): MSE(task_weights=[[1.0]])\n",
       "  )\n",
       ")"
      ]
     },
     "execution_count": 93,
     "metadata": {},
     "output_type": "execute_result"
    }
   ],
   "source": [
    "mpnn"
   ]
  },
  {
   "cell_type": "code",
   "execution_count": 94,
   "id": "01f6bb82-796c-41ba-abd1-15319b679b8c",
   "metadata": {},
   "outputs": [
    {
     "data": {
      "text/plain": [
       "0.9270769953727722"
      ]
     },
     "execution_count": 94,
     "metadata": {},
     "output_type": "execute_result"
    }
   ],
   "source": [
    "r2_4 = results[0]['test/r2']\n",
    "r2_4"
   ]
  },
  {
   "cell_type": "markdown",
   "id": "7f061601-5776-4b79-b50f-ba515b47a903",
   "metadata": {},
   "source": [
    "# Results On Delaney from MoleculeNet + Models above (R<sup>2</sup> )\n",
    "\n",
    "2018-1-17\n",
    "\n",
    "https://moleculenet.org/latest-results"
   ]
  },
  {
   "cell_type": "code",
   "execution_count": 95,
   "id": "9b1832d2-7cce-4ea0-afc9-97cdf4a76d65",
   "metadata": {},
   "outputs": [
    {
     "data": {
      "image/png": "[encoded data removed]",
      "text/plain": [
       "<Figure size 640x480 with 1 Axes>"
      ]
     },
     "metadata": {},
     "output_type": "display_data"
    },
    {
     "name": "stdout",
     "output_type": "stream",
     "text": [
      "Done!\n"
     ]
    }
   ],
   "source": [
    "# Plot Results\n",
    "\n",
    "# Results from MoleculeNet\n",
    "labels = ['ESOL', 'xgb_regression', 'krr', 'tf_regression', 'textcnn_regression', 'graphconvreg', 'dag_regression', 'weave_regression', 'mpnn']\n",
    "r2_all = [r2_ESOL, 0.778, 0.584, 0.623, 0.853, 0.855, 0.904, 0.903, 0.939]\n",
    "\n",
    "# Results from Models above\n",
    "labels += ['GraphConvRegr', 'NNConvRegr', 'TransformerConvRegr', 'MPNN']\n",
    "r2_all += [r2_1, r2_2, r2_3, r2_4]\n",
    "\n",
    "labels = labels[::-1]\n",
    "r2_all = r2_all[::-1]\n",
    "\n",
    "# Plotting\n",
    "fig, ax = plt.subplots()\n",
    "bars = ax.barh(range(len(labels)), \n",
    "               r2_all, \n",
    "               tick_label=labels, \n",
    "               color=['r' for i in range(4)] + ['k' for j in range(8)] + ['b'],\n",
    "               alpha=0.5)\n",
    "\n",
    "ax.bar_label(bars, fmt='%.3f', padding=-40)\n",
    "\n",
    "plt.title('Results ESOL (blue) vs MoleculeNet (gray) vs Models (red)')\n",
    "plt.ylabel('Models')\n",
    "plt.xlabel('R square')\n",
    "plt.show()\n",
    "\n",
    "print('Done!')"
   ]
  },
  {
   "cell_type": "markdown",
   "id": "02463e66-b972-4ffc-b649-9a2eb548d8ca",
   "metadata": {},
   "source": []
  }
 ],
 "metadata": {
  "kernelspec": {
   "display_name": "Python 3 (ipykernel)",
   "language": "python",
   "name": "python3"
  },
  "language_info": {
   "codemirror_mode": {
    "name": "ipython",
    "version": 3
   },
   "file_extension": ".py",
   "mimetype": "text/x-python",
   "name": "python",
   "nbconvert_exporter": "python",
   "pygments_lexer": "ipython3",
   "version": "3.11.5"
  }
 },
 "nbformat": 4,
 "nbformat_minor": 5
}
