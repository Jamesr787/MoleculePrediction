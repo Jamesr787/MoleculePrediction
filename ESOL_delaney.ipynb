{
 "cells": [
  {
   "cell_type": "markdown",
   "id": "4d306034-f936-4e12-8b5e-48514d605449",
   "metadata": {},
   "source": [
    "# ESOL\n",
    "\n",
    "This Notebook uses the RDKit, ChemProp, and Delaney Dataset for ESOL.\n",
    "\n",
    "Results are compared to MoleculeNet Paper (https://doi.org/10.1039/C7SC02664A)\n",
    "\n",
    "Original ESOL Delaney Paper (https://pubs.acs.org/doi/10.1021/ci034243x)\n",
    "\n",
    "ChemProp Paper (https://pubs.acs.org/doi/10.1021/acs.jcim.3c01250)\n",
    "\n",
    "Author: James Roberts"
   ]
  },
  {
   "cell_type": "markdown",
   "id": "accedba5-6919-4ef9-b125-6c5343135bb9",
   "metadata": {},
   "source": [
    "# Imports"
   ]
  },
  {
   "cell_type": "code",
   "execution_count": 2,
   "id": "415cbb29-d592-4b6a-ab8f-a64efff2af95",
   "metadata": {},
   "outputs": [],
   "source": [
    "from rdkit import Chem\n",
    "from rdkit.Chem import Descriptors\n",
    "from rdkit.Chem import AllChem\n",
    "\n",
    "from chemprop import data, featurizers, models, nn\n",
    "\n",
    "from lightning import pytorch as pl\n",
    "from lightning.pytorch.callbacks import ModelCheckpoint\n",
    "from lightning.pytorch.callbacks import EarlyStopping\n",
    "\n",
    "import pandas as pd\n",
    "import numpy as np\n",
    "\n",
    "import requests\n",
    "\n",
    "from itertools import product\n",
    "\n",
    "import torch\n",
    "import torch.nn.functional as F\n",
    "import torch_geometric.nn as pyg_nn\n",
    "import torch_geometric.utils as pyg_utils\n",
    "from torch_geometric.nn import GraphConv, NNConv, GATv2Conv, TransformerConv\n",
    "from torch_geometric.loader import DataLoader\n",
    "from torch_geometric.data import Data, Batch\n",
    "import torch.optim as optim\n",
    "from torchmetrics.regression import R2Score\n",
    "\n",
    "from sklearn.metrics import r2_score\n",
    "from sklearn.preprocessing import MinMaxScaler\n",
    "\n",
    "import seaborn as sns\n",
    "\n",
    "import matplotlib.pyplot as plt\n",
    "\n",
    "import random\n",
    "\n",
    "import warnings\n",
    "warnings.filterwarnings(\"ignore\")\n",
    "\n",
    "import logging\n",
    "logging.getLogger(\"lightning.pytorch\").setLevel(logging.ERROR)"
   ]
  },
  {
   "cell_type": "markdown",
   "id": "084686e7-f3cc-4255-bc01-ce0c67440c0f",
   "metadata": {},
   "source": [
    "# Importing molecules using SMILES"
   ]
  },
  {
   "cell_type": "markdown",
   "id": "107fc7b3-1e75-4ce3-9279-90934b913db6",
   "metadata": {},
   "source": [
    "Acetaminophen SMILES representation: CC(=O)NC1=CC=C(O)C=C1\n",
    "\n",
    "drugbank: https://go.drugbank.com/drugs/DB00316"
   ]
  },
  {
   "cell_type": "code",
   "execution_count": 3,
   "id": "00d25ede-5be5-48fe-b87e-6d2ffdfb7769",
   "metadata": {},
   "outputs": [
    {
     "data": {
      "image/png": "[encoded data removed]",
      "text/plain": [
       "<rdkit.Chem.rdchem.Mol at 0x1d3989bce40>"
      ]
     },
     "execution_count": 3,
     "metadata": {},
     "output_type": "execute_result"
    }
   ],
   "source": [
    "molecule = Chem.MolFromSmiles('CC(=O)NC1=CC=C(O)C=C1')\n",
    "molecule"
   ]
  },
  {
   "cell_type": "markdown",
   "id": "e33f8190-7faf-4221-8e08-4379b555673f",
   "metadata": {},
   "source": [
    "# Importing molecules using MOL"
   ]
  },
  {
   "cell_type": "markdown",
   "id": "5c9af874-85a4-4da0-87b5-e0b858b5ec6e",
   "metadata": {},
   "source": [
    "Acetaminophen MOL\n",
    "\n",
    "pubchem: https://pubchem.ncbi.nlm.nih.gov/"
   ]
  },
  {
   "cell_type": "code",
   "execution_count": 4,
   "id": "8cae126b-ee46-49da-afce-943768aa9813",
   "metadata": {},
   "outputs": [
    {
     "data": {
      "image/png": "[encoded data removed]",
      "text/plain": [
       "<rdkit.Chem.rdchem.Mol at 0x1d3989bd460>"
      ]
     },
     "execution_count": 4,
     "metadata": {},
     "output_type": "execute_result"
    }
   ],
   "source": [
    "molecule_url = \"https://pubchem.ncbi.nlm.nih.gov/rest/pug/compound/CID/1983/SDF\"\n",
    "response = requests.get(molecule_url)\n",
    "molecule = Chem.MolFromMolBlock(response.text)\n",
    "molecule"
   ]
  },
  {
   "cell_type": "markdown",
   "id": "a2c12ddb-0f19-41c3-80b0-6e9e8d49c56b",
   "metadata": {},
   "source": [
    "# Molecular Coords"
   ]
  },
  {
   "cell_type": "code",
   "execution_count": 5,
   "id": "e857e47f-dcde-494c-8ef6-c84b50f9ed10",
   "metadata": {},
   "outputs": [
    {
     "data": {
      "image/png": "[encoded data removed]",
      "text/plain": [
       "<rdkit.Chem.rdchem.Mol at 0x1d3989bd460>"
      ]
     },
     "execution_count": 5,
     "metadata": {},
     "output_type": "execute_result"
    }
   ],
   "source": [
    "AllChem.Compute2DCoords(molecule)\n",
    "molecule"
   ]
  },
  {
   "cell_type": "markdown",
   "id": "861c04ee-5d6b-4a43-9486-360975ea5a69",
   "metadata": {},
   "source": [
    "# Descriptors"
   ]
  },
  {
   "cell_type": "code",
   "execution_count": 6,
   "id": "bed75831-bb6f-4314-bd59-cf5090ac6c3c",
   "metadata": {},
   "outputs": [
    {
     "data": {
      "text/plain": [
       "151.16499999999996"
      ]
     },
     "execution_count": 6,
     "metadata": {},
     "output_type": "execute_result"
    }
   ],
   "source": [
    "Descriptors.MolWt(molecule) # g/mol"
   ]
  },
  {
   "cell_type": "code",
   "execution_count": 7,
   "id": "e16d0328-deac-4a5b-aa86-adc423d565ac",
   "metadata": {},
   "outputs": [
    {
     "name": "stdout",
     "output_type": "stream",
     "text": [
      "LogP = log( [organic] / [aqueous] )\n",
      "LogP (RDkit, Predicted):  1.3505999999999998\n",
      "LogP (ALOGPS, Predicted):  0.51\n",
      "LogP (DrugBank, Measured):  0.46\n"
     ]
    }
   ],
   "source": [
    "print(\"LogP = log( [organic] / [aqueous] )\")\n",
    "print(\"LogP (RDkit, Predicted): \", Descriptors.MolLogP(molecule))\n",
    "print(\"LogP (ALOGPS, Predicted): \", 0.51)\n",
    "print(\"LogP (DrugBank, Measured): \", 0.46)"
   ]
  },
  {
   "cell_type": "markdown",
   "id": "ad40feb2-f3ae-407c-a87b-0434eeb14269",
   "metadata": {},
   "source": [
    "# Delaney Dataset\n",
    "\n",
    "From: https://moleculenet.org/datasets-1 (ESOL)"
   ]
  },
  {
   "cell_type": "markdown",
   "id": "020606c7-1610-495d-b358-c8b501cc87df",
   "metadata": {},
   "source": [
    "The task (Regression) is to predict the log solubility (mols/litre)"
   ]
  },
  {
   "cell_type": "code",
   "execution_count": 8,
   "id": "613765d7-4c24-49ea-917c-ac96249e1335",
   "metadata": {},
   "outputs": [
    {
     "data": {
      "text/html": [
       "<div>\n",
       "<style scoped>\n",
       "    .dataframe tbody tr th:only-of-type {\n",
       "        vertical-align: middle;\n",
       "    }\n",
       "\n",
       "    .dataframe tbody tr th {\n",
       "        vertical-align: top;\n",
       "    }\n",
       "\n",
       "    .dataframe thead th {\n",
       "        text-align: right;\n",
       "    }\n",
       "</style>\n",
       "<table border=\"1\" class=\"dataframe\">\n",
       "  <thead>\n",
       "    <tr style=\"text-align: right;\">\n",
       "      <th></th>\n",
       "      <th>Compound ID</th>\n",
       "      <th>ESOL predicted log solubility in mols per litre</th>\n",
       "      <th>Minimum Degree</th>\n",
       "      <th>Molecular Weight</th>\n",
       "      <th>Number of H-Bond Donors</th>\n",
       "      <th>Number of Rings</th>\n",
       "      <th>Number of Rotatable Bonds</th>\n",
       "      <th>Polar Surface Area</th>\n",
       "      <th>measured log solubility in mols per litre</th>\n",
       "      <th>smiles</th>\n",
       "    </tr>\n",
       "  </thead>\n",
       "  <tbody>\n",
       "    <tr>\n",
       "      <th>0</th>\n",
       "      <td>Amigdalin</td>\n",
       "      <td>-0.974</td>\n",
       "      <td>1</td>\n",
       "      <td>457.432</td>\n",
       "      <td>7</td>\n",
       "      <td>3</td>\n",
       "      <td>7</td>\n",
       "      <td>202.32</td>\n",
       "      <td>-0.77</td>\n",
       "      <td>OCC3OC(OCC2OC(OC(C#N)c1ccccc1)C(O)C(O)C2O)C(O)...</td>\n",
       "    </tr>\n",
       "    <tr>\n",
       "      <th>1</th>\n",
       "      <td>Fenfuram</td>\n",
       "      <td>-2.885</td>\n",
       "      <td>1</td>\n",
       "      <td>201.225</td>\n",
       "      <td>1</td>\n",
       "      <td>2</td>\n",
       "      <td>2</td>\n",
       "      <td>42.24</td>\n",
       "      <td>-3.30</td>\n",
       "      <td>Cc1occc1C(=O)Nc2ccccc2</td>\n",
       "    </tr>\n",
       "    <tr>\n",
       "      <th>2</th>\n",
       "      <td>citral</td>\n",
       "      <td>-2.579</td>\n",
       "      <td>1</td>\n",
       "      <td>152.237</td>\n",
       "      <td>0</td>\n",
       "      <td>0</td>\n",
       "      <td>4</td>\n",
       "      <td>17.07</td>\n",
       "      <td>-2.06</td>\n",
       "      <td>CC(C)=CCCC(C)=CC(=O)</td>\n",
       "    </tr>\n",
       "    <tr>\n",
       "      <th>3</th>\n",
       "      <td>Picene</td>\n",
       "      <td>-6.618</td>\n",
       "      <td>2</td>\n",
       "      <td>278.354</td>\n",
       "      <td>0</td>\n",
       "      <td>5</td>\n",
       "      <td>0</td>\n",
       "      <td>0.00</td>\n",
       "      <td>-7.87</td>\n",
       "      <td>c1ccc2c(c1)ccc3c2ccc4c5ccccc5ccc43</td>\n",
       "    </tr>\n",
       "    <tr>\n",
       "      <th>4</th>\n",
       "      <td>Thiophene</td>\n",
       "      <td>-2.232</td>\n",
       "      <td>2</td>\n",
       "      <td>84.143</td>\n",
       "      <td>0</td>\n",
       "      <td>1</td>\n",
       "      <td>0</td>\n",
       "      <td>0.00</td>\n",
       "      <td>-1.33</td>\n",
       "      <td>c1ccsc1</td>\n",
       "    </tr>\n",
       "  </tbody>\n",
       "</table>\n",
       "</div>"
      ],
      "text/plain": [
       "  Compound ID  ESOL predicted log solubility in mols per litre  \\\n",
       "0   Amigdalin                                           -0.974   \n",
       "1    Fenfuram                                           -2.885   \n",
       "2      citral                                           -2.579   \n",
       "3      Picene                                           -6.618   \n",
       "4   Thiophene                                           -2.232   \n",
       "\n",
       "   Minimum Degree  Molecular Weight  Number of H-Bond Donors  Number of Rings  \\\n",
       "0               1           457.432                        7                3   \n",
       "1               1           201.225                        1                2   \n",
       "2               1           152.237                        0                0   \n",
       "3               2           278.354                        0                5   \n",
       "4               2            84.143                        0                1   \n",
       "\n",
       "   Number of Rotatable Bonds  Polar Surface Area  \\\n",
       "0                          7              202.32   \n",
       "1                          2               42.24   \n",
       "2                          4               17.07   \n",
       "3                          0                0.00   \n",
       "4                          0                0.00   \n",
       "\n",
       "   measured log solubility in mols per litre  \\\n",
       "0                                      -0.77   \n",
       "1                                      -3.30   \n",
       "2                                      -2.06   \n",
       "3                                      -7.87   \n",
       "4                                      -1.33   \n",
       "\n",
       "                                              smiles  \n",
       "0  OCC3OC(OCC2OC(OC(C#N)c1ccccc1)C(O)C(O)C2O)C(O)...  \n",
       "1                             Cc1occc1C(=O)Nc2ccccc2  \n",
       "2                               CC(C)=CCCC(C)=CC(=O)  \n",
       "3                 c1ccc2c(c1)ccc3c2ccc4c5ccccc5ccc43  \n",
       "4                                            c1ccsc1  "
      ]
     },
     "execution_count": 8,
     "metadata": {},
     "output_type": "execute_result"
    }
   ],
   "source": [
    "PATH_TO_DELANEY = 'https://deepchemdata.s3-us-west-1.amazonaws.com/datasets/delaney-processed.csv'\n",
    "delaney_dataset = pd.read_csv(PATH_TO_DELANEY)\n",
    "delaney_dataset.head()"
   ]
  },
  {
   "cell_type": "code",
   "execution_count": 9,
   "id": "f8f150e0-cb23-4b36-9820-913fb3d53ab1",
   "metadata": {},
   "outputs": [
    {
     "name": "stdout",
     "output_type": "stream",
     "text": [
      "<class 'pandas.core.frame.DataFrame'>\n",
      "RangeIndex: 1128 entries, 0 to 1127\n",
      "Data columns (total 10 columns):\n",
      " #   Column                                           Non-Null Count  Dtype  \n",
      "---  ------                                           --------------  -----  \n",
      " 0   Compound ID                                      1128 non-null   object \n",
      " 1   ESOL predicted log solubility in mols per litre  1128 non-null   float64\n",
      " 2   Minimum Degree                                   1128 non-null   int64  \n",
      " 3   Molecular Weight                                 1128 non-null   float64\n",
      " 4   Number of H-Bond Donors                          1128 non-null   int64  \n",
      " 5   Number of Rings                                  1128 non-null   int64  \n",
      " 6   Number of Rotatable Bonds                        1128 non-null   int64  \n",
      " 7   Polar Surface Area                               1128 non-null   float64\n",
      " 8   measured log solubility in mols per litre        1128 non-null   float64\n",
      " 9   smiles                                           1128 non-null   object \n",
      "dtypes: float64(4), int64(4), object(2)\n",
      "memory usage: 88.3+ KB\n"
     ]
    }
   ],
   "source": [
    "delaney_dataset.info()"
   ]
  },
  {
   "cell_type": "code",
   "execution_count": 10,
   "id": "a628ce70-0e7e-4895-a8d9-d8b260aac922",
   "metadata": {},
   "outputs": [
    {
     "data": {
      "text/html": [
       "<div>\n",
       "<style scoped>\n",
       "    .dataframe tbody tr th:only-of-type {\n",
       "        vertical-align: middle;\n",
       "    }\n",
       "\n",
       "    .dataframe tbody tr th {\n",
       "        vertical-align: top;\n",
       "    }\n",
       "\n",
       "    .dataframe thead th {\n",
       "        text-align: right;\n",
       "    }\n",
       "</style>\n",
       "<table border=\"1\" class=\"dataframe\">\n",
       "  <thead>\n",
       "    <tr style=\"text-align: right;\">\n",
       "      <th></th>\n",
       "      <th>ESOL predicted log solubility in mols per litre</th>\n",
       "      <th>Minimum Degree</th>\n",
       "      <th>Molecular Weight</th>\n",
       "      <th>Number of H-Bond Donors</th>\n",
       "      <th>Number of Rings</th>\n",
       "      <th>Number of Rotatable Bonds</th>\n",
       "      <th>Polar Surface Area</th>\n",
       "      <th>measured log solubility in mols per litre</th>\n",
       "    </tr>\n",
       "  </thead>\n",
       "  <tbody>\n",
       "    <tr>\n",
       "      <th>count</th>\n",
       "      <td>1128.000000</td>\n",
       "      <td>1128.000000</td>\n",
       "      <td>1128.000000</td>\n",
       "      <td>1128.000000</td>\n",
       "      <td>1128.000000</td>\n",
       "      <td>1128.000000</td>\n",
       "      <td>1128.000000</td>\n",
       "      <td>1128.000000</td>\n",
       "    </tr>\n",
       "    <tr>\n",
       "      <th>mean</th>\n",
       "      <td>-2.988192</td>\n",
       "      <td>1.058511</td>\n",
       "      <td>203.937074</td>\n",
       "      <td>0.701241</td>\n",
       "      <td>1.390957</td>\n",
       "      <td>2.177305</td>\n",
       "      <td>34.872881</td>\n",
       "      <td>-3.050102</td>\n",
       "    </tr>\n",
       "    <tr>\n",
       "      <th>std</th>\n",
       "      <td>1.683220</td>\n",
       "      <td>0.238560</td>\n",
       "      <td>102.738077</td>\n",
       "      <td>1.089727</td>\n",
       "      <td>1.318286</td>\n",
       "      <td>2.640974</td>\n",
       "      <td>35.383593</td>\n",
       "      <td>2.096441</td>\n",
       "    </tr>\n",
       "    <tr>\n",
       "      <th>min</th>\n",
       "      <td>-9.702000</td>\n",
       "      <td>0.000000</td>\n",
       "      <td>16.043000</td>\n",
       "      <td>0.000000</td>\n",
       "      <td>0.000000</td>\n",
       "      <td>0.000000</td>\n",
       "      <td>0.000000</td>\n",
       "      <td>-11.600000</td>\n",
       "    </tr>\n",
       "    <tr>\n",
       "      <th>25%</th>\n",
       "      <td>-3.948250</td>\n",
       "      <td>1.000000</td>\n",
       "      <td>121.183000</td>\n",
       "      <td>0.000000</td>\n",
       "      <td>0.000000</td>\n",
       "      <td>0.000000</td>\n",
       "      <td>0.000000</td>\n",
       "      <td>-4.317500</td>\n",
       "    </tr>\n",
       "    <tr>\n",
       "      <th>50%</th>\n",
       "      <td>-2.870000</td>\n",
       "      <td>1.000000</td>\n",
       "      <td>182.179000</td>\n",
       "      <td>0.000000</td>\n",
       "      <td>1.000000</td>\n",
       "      <td>1.000000</td>\n",
       "      <td>26.300000</td>\n",
       "      <td>-2.860000</td>\n",
       "    </tr>\n",
       "    <tr>\n",
       "      <th>75%</th>\n",
       "      <td>-1.843750</td>\n",
       "      <td>1.000000</td>\n",
       "      <td>270.372000</td>\n",
       "      <td>1.000000</td>\n",
       "      <td>2.000000</td>\n",
       "      <td>3.000000</td>\n",
       "      <td>55.440000</td>\n",
       "      <td>-1.600000</td>\n",
       "    </tr>\n",
       "    <tr>\n",
       "      <th>max</th>\n",
       "      <td>1.091000</td>\n",
       "      <td>2.000000</td>\n",
       "      <td>780.949000</td>\n",
       "      <td>11.000000</td>\n",
       "      <td>8.000000</td>\n",
       "      <td>23.000000</td>\n",
       "      <td>268.680000</td>\n",
       "      <td>1.580000</td>\n",
       "    </tr>\n",
       "  </tbody>\n",
       "</table>\n",
       "</div>"
      ],
      "text/plain": [
       "       ESOL predicted log solubility in mols per litre  Minimum Degree  \\\n",
       "count                                      1128.000000     1128.000000   \n",
       "mean                                         -2.988192        1.058511   \n",
       "std                                           1.683220        0.238560   \n",
       "min                                          -9.702000        0.000000   \n",
       "25%                                          -3.948250        1.000000   \n",
       "50%                                          -2.870000        1.000000   \n",
       "75%                                          -1.843750        1.000000   \n",
       "max                                           1.091000        2.000000   \n",
       "\n",
       "       Molecular Weight  Number of H-Bond Donors  Number of Rings  \\\n",
       "count       1128.000000              1128.000000      1128.000000   \n",
       "mean         203.937074                 0.701241         1.390957   \n",
       "std          102.738077                 1.089727         1.318286   \n",
       "min           16.043000                 0.000000         0.000000   \n",
       "25%          121.183000                 0.000000         0.000000   \n",
       "50%          182.179000                 0.000000         1.000000   \n",
       "75%          270.372000                 1.000000         2.000000   \n",
       "max          780.949000                11.000000         8.000000   \n",
       "\n",
       "       Number of Rotatable Bonds  Polar Surface Area  \\\n",
       "count                1128.000000         1128.000000   \n",
       "mean                    2.177305           34.872881   \n",
       "std                     2.640974           35.383593   \n",
       "min                     0.000000            0.000000   \n",
       "25%                     0.000000            0.000000   \n",
       "50%                     1.000000           26.300000   \n",
       "75%                     3.000000           55.440000   \n",
       "max                    23.000000          268.680000   \n",
       "\n",
       "       measured log solubility in mols per litre  \n",
       "count                                1128.000000  \n",
       "mean                                   -3.050102  \n",
       "std                                     2.096441  \n",
       "min                                   -11.600000  \n",
       "25%                                    -4.317500  \n",
       "50%                                    -2.860000  \n",
       "75%                                    -1.600000  \n",
       "max                                     1.580000  "
      ]
     },
     "execution_count": 10,
     "metadata": {},
     "output_type": "execute_result"
    }
   ],
   "source": [
    "delaney_dataset.describe()"
   ]
  },
  {
   "cell_type": "code",
   "execution_count": 11,
   "id": "eceb653e-d3f5-4f42-aba4-a6561250b461",
   "metadata": {},
   "outputs": [
    {
     "name": "stdout",
     "output_type": "stream",
     "text": [
      "Done!\n"
     ]
    },
    {
     "data": {
      "image/png": "[encoded data removed]",
      "text/plain": [
       "<Figure size 640x480 with 2 Axes>"
      ]
     },
     "metadata": {},
     "output_type": "display_data"
    }
   ],
   "source": [
    "sns.heatmap(delaney_dataset.iloc[:, 2:9].corr(), annot=True, cmap='coolwarm')\n",
    "print('Done!')"
   ]
  },
  {
   "cell_type": "code",
   "execution_count": 12,
   "id": "04ff5420-e851-447d-b223-6406f78e2140",
   "metadata": {},
   "outputs": [
    {
     "name": "stdout",
     "output_type": "stream",
     "text": [
      "ESOL R2: 0.707374251617849\n"
     ]
    }
   ],
   "source": [
    "r2_ESOL = r2_score(delaney_dataset['ESOL predicted log solubility in mols per litre'], delaney_dataset['measured log solubility in mols per litre'])\n",
    "print(f\"ESOL R2: {r2_ESOL}\")"
   ]
  },
  {
   "cell_type": "markdown",
   "id": "6fd2b050-9c0c-4b62-bd56-ad04a365f4b3",
   "metadata": {},
   "source": [
    "## Preprocessing with ChemProp"
   ]
  },
  {
   "cell_type": "code",
   "execution_count": 13,
   "id": "e1749b05-5c34-45f3-876c-4fb898cac92b",
   "metadata": {},
   "outputs": [
    {
     "name": "stdout",
     "output_type": "stream",
     "text": [
      "Done!\n"
     ]
    }
   ],
   "source": [
    "def process_delaney_chemprop(delaney_dataset):\n",
    "    # Get Data\n",
    "    smiles_column = 'smiles'\n",
    "    target_columns = ['measured log solubility in mols per litre']\n",
    "    smis = delaney_dataset.loc[:, smiles_column].values\n",
    "    ys = delaney_dataset.loc[:, target_columns].values\n",
    "    \n",
    "    # Molecule featurizer\n",
    "    rdkit2d = featurizers.RDKit2DFeaturizer()\n",
    "\n",
    "    # Apply it directly\n",
    "    all_data = [data.MoleculeDatapoint.from_smi(smi, y, x_d=rdkit2d(Chem.MolFromSmiles(smi))) for smi, y, in zip(smis, ys)]\n",
    "    \n",
    "    # Split Data\n",
    "    mols = [d.mol for d in all_data]  # RDkit Mol objects are use for structure based splits\n",
    "    train_indices, val_indices, test_indices = data.make_split_indices(mols, \"random\", (0.8, 0.1, 0.1))  # unpack the tuple into three separate lists\n",
    "    train_data, val_data, test_data = data.split_data_by_indices(\n",
    "        all_data, train_indices, val_indices, test_indices\n",
    "    )\n",
    "    \n",
    "    # Graph featurizer\n",
    "    graph_featurizer = featurizers.SimpleMoleculeMolGraphFeaturizer()\n",
    "    \n",
    "    train_dset = data.MoleculeDataset(train_data[0], graph_featurizer)\n",
    "    scaler = train_dset.normalize_targets()\n",
    "    x_d_scaler = train_dset.normalize_inputs(\"X_d\")\n",
    "    \n",
    "    val_dset = data.MoleculeDataset(val_data[0], graph_featurizer)\n",
    "    val_dset.normalize_targets(scaler)\n",
    "    val_dset.normalize_inputs(\"X_d\", x_d_scaler)\n",
    "    \n",
    "    test_dset = data.MoleculeDataset(test_data[0], graph_featurizer)\n",
    "    test_dset.normalize_targets(scaler)\n",
    "    test_dset.normalize_inputs(\"X_d\", x_d_scaler)\n",
    "\n",
    "    return train_dset, val_dset, test_dset\n",
    "\n",
    "print(\"Done!\")"
   ]
  },
  {
   "cell_type": "code",
   "execution_count": 14,
   "id": "24b44114-16e0-4a17-920d-2f709d4baef5",
   "metadata": {
    "scrolled": true
   },
   "outputs": [
    {
     "name": "stderr",
     "output_type": "stream",
     "text": [
      "The RDKit 2D features can deviate signifcantly from a normal distribution. Consider manually scaling them using an appropriate scaler before creating datapoints, rather than using the scikit-learn `StandardScaler` (the default in Chemprop).\n",
      "The return type of make_split_indices has changed in v2.1 - see help(make_split_indices)\n"
     ]
    },
    {
     "name": "stdout",
     "output_type": "stream",
     "text": [
      "\n",
      "Atom/Bond Level:\n",
      "V (atom features matrix) shape (num_atoms, num_atom_features): (7, 72)\n",
      "E (bond features matrix) shape (num_bonds, num_bond_features): (14, 14)\n",
      "edge_index (atom connectivity matrix) shape (2, num_bonds): (2, 14)\n",
      "rev_edge_index (reverse atom connectivity index) shape (num_bonds,): (14,)\n",
      "\n",
      "Molecule Level:\n",
      "x_d (molecule-level features matrix) shape (num_mol_features,): (217,)\n",
      "y (target value for prediction) shape (num_targets,): (1,)\n",
      "\n"
     ]
    }
   ],
   "source": [
    "train, val, test = process_delaney_chemprop(delaney_dataset)\n",
    "\n",
    "print(\"\\nAtom/Bond Level:\")\n",
    "print(f'V (atom features matrix) shape (num_atoms, num_atom_features): {train[0].mg.V.shape}')\n",
    "print(f'E (bond features matrix) shape (num_bonds, num_bond_features): {train[0].mg.E.shape}')\n",
    "print(f'edge_index (atom connectivity matrix) shape (2, num_bonds): {train[0].mg.edge_index.shape}')\n",
    "print(f'rev_edge_index (reverse atom connectivity index) shape (num_bonds,): {train[0].mg.rev_edge_index.shape}')\n",
    "\n",
    "print(\"\\nMolecule Level:\")\n",
    "print(f'x_d (molecule-level features matrix) shape (num_mol_features,): {train[0].x_d.shape}')\n",
    "print(f'y (target value for prediction) shape (num_targets,): {train[0].y.shape}\\n')\n"
   ]
  },
  {
   "cell_type": "markdown",
   "id": "d1d975da-f488-46ea-828e-7b5ac5a7f368",
   "metadata": {},
   "source": [
    "# Models"
   ]
  },
  {
   "cell_type": "markdown",
   "id": "aca566d4-5398-43e7-ac73-0c586c710494",
   "metadata": {},
   "source": [
    "## Custom GNN"
   ]
  },
  {
   "cell_type": "code",
   "execution_count": 15,
   "id": "f9088cea-5321-423b-b440-74b0b889c796",
   "metadata": {},
   "outputs": [],
   "source": [
    "class GNN(pl.LightningModule):\n",
    "    def __init__(self, **kwargs):\n",
    "        super().__init__()\n",
    "        self.save_hyperparameters()\n",
    "        self.r2score = R2Score()\n",
    "\n",
    "        self.graph_conv = kwargs.get('graph_conv_type')        \n",
    "        \n",
    "        in_channels = kwargs.get('in_channels')\n",
    "        self.hidden_channels = kwargs.get('hidden_channels')\n",
    "        \n",
    "        mp_num_layers = kwargs.get('mp_num_layers')\n",
    "        ffn_num_layers = kwargs.get('ffn_num_layers')\n",
    "        \n",
    "        x_d_size = kwargs.get('x_d_size')\n",
    "        self.edge_dim = kwargs.get('edge_dim')\n",
    "        \n",
    "        self.dropout = kwargs.get('dropout')\n",
    "        \n",
    "        # Message Passing\n",
    "        self.convs = torch.nn.ModuleList()\n",
    "        self.batch_norms_convs = torch.nn.ModuleList()\n",
    "        for i in range(mp_num_layers):\n",
    "            self.convs.append(self.make_graph_conv(in_channels if i == 0 else self.hidden_channels))\n",
    "            self.batch_norms_convs.append(torch.nn.BatchNorm1d(self.hidden_channels))\n",
    "\n",
    "        # Aggregation\n",
    "        self.aggr = pyg_nn.aggr.MeanAggregation()\n",
    "        \n",
    "        # Feed-Forward-Network\n",
    "        self.ffns = torch.nn.ModuleList()\n",
    "        self.batch_norms_ffs = torch.nn.ModuleList()\n",
    "        for j in range(ffn_num_layers):\n",
    "            self.ffns.append(torch.nn.Linear(self.hidden_channels + x_d_size, self.hidden_channels + x_d_size))\n",
    "            self.batch_norms_ffs.append(torch.nn.BatchNorm1d(self.hidden_channels + x_d_size))\n",
    "\n",
    "        # Output Layer\n",
    "        self.out_layer = torch.nn.Linear(self.hidden_channels + x_d_size, 1)\n",
    "\n",
    "    def forward(self, batch):\n",
    "        V = batch.bmg.V\n",
    "\n",
    "        # Message Passing\n",
    "        for conv, bn in zip(self.convs, self.batch_norms_convs):\n",
    "            V = self.use_graph_conv(conv, V, batch)\n",
    "            V = bn(V)\n",
    "            V = F.relu(V)\n",
    "            V = F.dropout(V, p=self.dropout, training=self.training)\n",
    "\n",
    "        # molecule-level embedding of Atom Features\n",
    "        #V = self.pooling(V, batch.bmg.batch)\n",
    "        V = self.aggr(V, batch.bmg.batch)\n",
    "        \n",
    "        # Concatenate molecule-level features\n",
    "        if hasattr(batch, 'X_d'):\n",
    "            V = torch.cat([V, batch.X_d], dim=1)\n",
    "\n",
    "        # Feed-Forward-Network\n",
    "        for ffn, bn in zip(self.ffns, self.batch_norms_ffs):\n",
    "            V = ffn(V)\n",
    "            V = bn(V)\n",
    "            V = F.relu(V)\n",
    "            V = F.dropout(V, p=self.dropout, training=self.training)\n",
    "\n",
    "        output = self.out_layer(V)\n",
    "        \n",
    "        return output\n",
    "    \n",
    "    def configure_optimizers(self):\n",
    "        return torch.optim.Adam(self.parameters(), lr=1e-3)\n",
    "\n",
    "    def make_graph_conv(self, in_channels):\n",
    "        if self.graph_conv == \"GraphConv\":\n",
    "            return GraphConv(in_channels, self.hidden_channels)\n",
    "\n",
    "        elif self.graph_conv == 'NNConv':\n",
    "            edge_mlp = pyg_nn.Linear(\n",
    "                in_channels=self.edge_dim, \n",
    "                out_channels=in_channels * self.hidden_channels,\n",
    "            )\n",
    "            return NNConv(in_channels, self.hidden_channels, nn=edge_mlp)\n",
    "\n",
    "        elif self.graph_conv == 'GATConv':\n",
    "            return GATv2Conv(in_channels, self.hidden_channels, heads=1, edge_dim=self.edge_dim)\n",
    "\n",
    "        elif self.graph_conv == 'TransformerConv':\n",
    "            return TransformerConv(in_channels, self.hidden_channels, heads=1, edge_dim=self.edge_dim)\n",
    "\n",
    "    def use_graph_conv(self, conv, V, batch):\n",
    "        if self.graph_conv == \"GraphConv\":\n",
    "            return conv(V, batch.bmg.edge_index)\n",
    "\n",
    "        elif self.graph_conv == 'NNConv':\n",
    "            return conv(V, batch.bmg.edge_index, batch.bmg.E)\n",
    "\n",
    "        elif self.graph_conv == 'GATConv':\n",
    "            return conv(V, batch.bmg.edge_index, batch.bmg.E)\n",
    "\n",
    "        elif self.graph_conv == 'TransformerConv':\n",
    "            return conv(V, batch.bmg.edge_index, batch.bmg.E)\n",
    "\n",
    "    def training_step(self, batch, batch_idx):\n",
    "        y_hat = self(batch)\n",
    "        loss = F.mse_loss(y_hat, batch.Y)\n",
    "        self.log(\"train_loss\", loss, prog_bar=True)\n",
    "        return loss\n",
    "\n",
    "    def validation_step(self, batch, batch_idx):\n",
    "        y_hat = self(batch)\n",
    "        val_loss = F.mse_loss(y_hat, batch.Y)\n",
    "        self.log(\"val_loss\", val_loss, prog_bar=True)\n",
    "        self.compute_metrics(y_hat, batch.Y, is_testing=False)\n",
    "\n",
    "    def test_step(self, batch, batch_idx):\n",
    "        y_hat = self(batch)\n",
    "        test_loss = F.mse_loss(y_hat, batch.Y)\n",
    "        self.log(\"test/mse\", test_loss)\n",
    "        self.compute_metrics(y_hat, batch.Y, is_testing=True)\n",
    "\n",
    "    def compute_metrics(self, y_hat, y, is_testing=False):\n",
    "        self.r2score.reset()\n",
    "        self.r2score.update(y_hat, y)\n",
    "        self.log(\"test/r2\" if is_testing else \"val/r2\", self.r2score.compute(), prog_bar=True)\n",
    "        "
   ]
  },
  {
   "cell_type": "markdown",
   "id": "e308af8c-2dab-43a3-832d-70272109017a",
   "metadata": {},
   "source": [
    "## ChemProp MPNN"
   ]
  },
  {
   "cell_type": "code",
   "execution_count": 16,
   "id": "c724944e-7139-46ad-9ba6-1402f67c3e87",
   "metadata": {},
   "outputs": [],
   "source": [
    "def build_mpnn(x_d_size=7,\n",
    "               graph_embedding_size=350,\n",
    "               dropout=0.2,\n",
    "               mp_num_layers=3,\n",
    "               ffn_num_layers=1,\n",
    "               batch_norm=True):\n",
    "    \n",
    "    mp = nn.BondMessagePassing(d_h=graph_embedding_size, depth=mp_num_layers)\n",
    "    agg = nn.MeanAggregation()\n",
    "    ffn = nn.RegressionFFN(input_dim=graph_embedding_size + x_d_size, n_layers=ffn_num_layers, dropout=dropout)\n",
    "    return models.MPNN(mp, agg, ffn, batch_norm, [nn.metrics.MSE(), nn.metrics.R2Score()])\n",
    "    "
   ]
  },
  {
   "cell_type": "markdown",
   "id": "64cdf51b-f888-4055-92b0-413189c94998",
   "metadata": {},
   "source": [
    "# Training Function"
   ]
  },
  {
   "cell_type": "code",
   "execution_count": 17,
   "id": "43ba9617-ae3a-46be-92f9-c0f2529a87dd",
   "metadata": {},
   "outputs": [],
   "source": [
    "def train_and_test(model_name,\n",
    "                   train_dset,\n",
    "                   val_dset,\n",
    "                   test_dset,\n",
    "                   hidden_channels=128,\n",
    "                   mp_num_layers=3,\n",
    "                   ffn_num_layers=1,\n",
    "                   batch_size=64,\n",
    "                   dropout=0.2,\n",
    "                   patience=15,\n",
    "                   verbose=False):\n",
    "\n",
    "    train_loader = data.build_dataloader(train_dset, batch_size=batch_size)\n",
    "    val_loader = data.build_dataloader(val_dset, batch_size=len(val_dset), shuffle=False)\n",
    "    test_loader = data.build_dataloader(test_dset, batch_size=len(test_dset), shuffle=False)\n",
    "    \n",
    "    checkpointing = ModelCheckpoint(\n",
    "        f\"checkpoints/{model_name}\",  # Directory where model checkpoints will be saved\n",
    "        \"best-{epoch}-{val_loss:.2f}\",  # Filename format for checkpoints, including epoch and validation loss\n",
    "        \"val_loss\",  # Metric used to select the best checkpoint (based on validation loss)\n",
    "        mode=\"min\",  # Save the checkpoint with the lowest validation loss (minimization objective)\n",
    "        save_last=True,  # Always save the most recent checkpoint, even if it's not the best\n",
    "    )\n",
    "    early_stop = EarlyStopping(monitor=\"val_loss\", patience=patience, mode=\"min\")\n",
    "\n",
    "    # Build Model chemprop mpnn or GNN\n",
    "    if model_name == 'MPNN_ChemProp':\n",
    "        model = build_mpnn(\n",
    "            x_d_size=train_dset[0].x_d.shape[0],\n",
    "            mp_num_layers=mp_num_layers,\n",
    "            ffn_num_layers=ffn_num_layers,\n",
    "            dropout=dropout\n",
    "        )\n",
    "            \n",
    "    else:\n",
    "        model = GNN(\n",
    "            graph_conv_type=model_name,\n",
    "            in_channels=train_dset[0].mg.V.shape[1],\n",
    "            hidden_channels=hidden_channels,\n",
    "            edge_dim=train_dset[0].mg.E.shape[1],\n",
    "            x_d_size=train_dset[0].x_d.shape[0],\n",
    "            mp_num_layers=mp_num_layers,\n",
    "            ffn_num_layers=ffn_num_layers,\n",
    "            dropout=dropout,\n",
    "        )\n",
    "\n",
    "    # Configure Traininer\n",
    "    trainer = pl.Trainer(\n",
    "        logger=False,\n",
    "        enable_checkpointing=True, # Use `True` if you want to save model checkpoints. The checkpoints will be saved in the `checkpoints` folder.\n",
    "        enable_progress_bar=verbose,\n",
    "        enable_model_summary=verbose,\n",
    "        accelerator=\"auto\",\n",
    "        devices=1,\n",
    "        max_epochs=400, # number of epochs to train for\n",
    "        callbacks=[checkpointing, early_stop], # Use the configured checkpoint callback\n",
    "    )\n",
    "    \n",
    "    # Train\n",
    "    trainer.fit(model, train_loader, val_loader)\n",
    "\n",
    "    # Best Validation Results\n",
    "    val_results = trainer.validate(dataloaders=val_loader, ckpt_path='best')\n",
    "    \n",
    "    # Test\n",
    "    test_results = trainer.test(dataloaders=test_loader, ckpt_path='best')\n",
    "\n",
    "    return model, val_results, test_results\n",
    "    "
   ]
  },
  {
   "cell_type": "markdown",
   "id": "dd01a264-8105-4215-919c-b95a0726e55d",
   "metadata": {},
   "source": [
    "# Run Training"
   ]
  },
  {
   "cell_type": "markdown",
   "id": "a4299403-ec36-43c9-9b8a-5e18c0405bfc",
   "metadata": {},
   "source": [
    "## Get Data"
   ]
  },
  {
   "cell_type": "code",
   "execution_count": 18,
   "id": "07811cf4-de90-4cfe-bdff-d9262c495c52",
   "metadata": {},
   "outputs": [
    {
     "name": "stderr",
     "output_type": "stream",
     "text": [
      "The RDKit 2D features can deviate signifcantly from a normal distribution. Consider manually scaling them using an appropriate scaler before creating datapoints, rather than using the scikit-learn `StandardScaler` (the default in Chemprop).\n",
      "The return type of make_split_indices has changed in v2.1 - see help(make_split_indices)\n"
     ]
    },
    {
     "name": "stdout",
     "output_type": "stream",
     "text": [
      "CPU times: total: 1min 24s\n",
      "Wall time: 7.14 s\n"
     ]
    }
   ],
   "source": [
    "%%time\n",
    "train_dset, val_dset, test_dset = process_delaney_chemprop(delaney_dataset)\n"
   ]
  },
  {
   "cell_type": "markdown",
   "id": "efe46352-7641-4c4c-b547-4cbd4a0ddf12",
   "metadata": {},
   "source": [
    "## Train and Test"
   ]
  },
  {
   "cell_type": "code",
   "execution_count": 20,
   "id": "576dbaa3-f295-4e1c-8a9b-e86e99f35946",
   "metadata": {},
   "outputs": [
    {
     "name": "stdout",
     "output_type": "stream",
     "text": [
      "Model: MPNN_ChemProp\n"
     ]
    },
    {
     "data": {
      "text/html": [
       "<pre style=\"white-space:pre;overflow-x:auto;line-height:normal;font-family:Menlo,'DejaVu Sans Mono',consolas,'Courier New',monospace\">┏━━━━━━━━━━━━━━━━━━━━━━━━━━━┳━━━━━━━━━━━━━━━━━━━━━━━━━━━┓\n",
       "┃<span style=\"font-weight: bold\">      Validate metric      </span>┃<span style=\"font-weight: bold\">       DataLoader 0        </span>┃\n",
       "┡━━━━━━━━━━━━━━━━━━━━━━━━━━━╇━━━━━━━━━━━━━━━━━━━━━━━━━━━┩\n",
       "│<span style=\"color: #008080; text-decoration-color: #008080\">          val/mse          </span>│<span style=\"color: #800080; text-decoration-color: #800080\">    0.05358712747693062    </span>│\n",
       "│<span style=\"color: #008080; text-decoration-color: #008080\">          val/r2           </span>│<span style=\"color: #800080; text-decoration-color: #800080\">    0.9393330216407776     </span>│\n",
       "│<span style=\"color: #008080; text-decoration-color: #008080\">         val_loss          </span>│<span style=\"color: #800080; text-decoration-color: #800080\">    0.05358712002635002    </span>│\n",
       "└───────────────────────────┴───────────────────────────┘\n",
       "</pre>\n"
      ],
      "text/plain": [
       "┏━━━━━━━━━━━━━━━━━━━━━━━━━━━┳━━━━━━━━━━━━━━━━━━━━━━━━━━━┓\n",
       "┃\u001b[1m \u001b[0m\u001b[1m     Validate metric     \u001b[0m\u001b[1m \u001b[0m┃\u001b[1m \u001b[0m\u001b[1m      DataLoader 0       \u001b[0m\u001b[1m \u001b[0m┃\n",
       "┡━━━━━━━━━━━━━━━━━━━━━━━━━━━╇━━━━━━━━━━━━━━━━━━━━━━━━━━━┩\n",
       "│\u001b[36m \u001b[0m\u001b[36m         val/mse         \u001b[0m\u001b[36m \u001b[0m│\u001b[35m \u001b[0m\u001b[35m   0.05358712747693062   \u001b[0m\u001b[35m \u001b[0m│\n",
       "│\u001b[36m \u001b[0m\u001b[36m         val/r2          \u001b[0m\u001b[36m \u001b[0m│\u001b[35m \u001b[0m\u001b[35m   0.9393330216407776    \u001b[0m\u001b[35m \u001b[0m│\n",
       "│\u001b[36m \u001b[0m\u001b[36m        val_loss         \u001b[0m\u001b[36m \u001b[0m│\u001b[35m \u001b[0m\u001b[35m   0.05358712002635002   \u001b[0m\u001b[35m \u001b[0m│\n",
       "└───────────────────────────┴───────────────────────────┘\n"
      ]
     },
     "metadata": {},
     "output_type": "display_data"
    },
    {
     "data": {
      "text/html": [
       "<pre style=\"white-space:pre;overflow-x:auto;line-height:normal;font-family:Menlo,'DejaVu Sans Mono',consolas,'Courier New',monospace\">┏━━━━━━━━━━━━━━━━━━━━━━━━━━━┳━━━━━━━━━━━━━━━━━━━━━━━━━━━┓\n",
       "┃<span style=\"font-weight: bold\">        Test metric        </span>┃<span style=\"font-weight: bold\">       DataLoader 0        </span>┃\n",
       "┡━━━━━━━━━━━━━━━━━━━━━━━━━━━╇━━━━━━━━━━━━━━━━━━━━━━━━━━━┩\n",
       "│<span style=\"color: #008080; text-decoration-color: #008080\">         test/mse          </span>│<span style=\"color: #800080; text-decoration-color: #800080\">    0.07139736413955688    </span>│\n",
       "│<span style=\"color: #008080; text-decoration-color: #008080\">          test/r2          </span>│<span style=\"color: #800080; text-decoration-color: #800080\">    0.9310786724090576     </span>│\n",
       "└───────────────────────────┴───────────────────────────┘\n",
       "</pre>\n"
      ],
      "text/plain": [
       "┏━━━━━━━━━━━━━━━━━━━━━━━━━━━┳━━━━━━━━━━━━━━━━━━━━━━━━━━━┓\n",
       "┃\u001b[1m \u001b[0m\u001b[1m       Test metric       \u001b[0m\u001b[1m \u001b[0m┃\u001b[1m \u001b[0m\u001b[1m      DataLoader 0       \u001b[0m\u001b[1m \u001b[0m┃\n",
       "┡━━━━━━━━━━━━━━━━━━━━━━━━━━━╇━━━━━━━━━━━━━━━━━━━━━━━━━━━┩\n",
       "│\u001b[36m \u001b[0m\u001b[36m        test/mse         \u001b[0m\u001b[36m \u001b[0m│\u001b[35m \u001b[0m\u001b[35m   0.07139736413955688   \u001b[0m\u001b[35m \u001b[0m│\n",
       "│\u001b[36m \u001b[0m\u001b[36m         test/r2         \u001b[0m\u001b[36m \u001b[0m│\u001b[35m \u001b[0m\u001b[35m   0.9310786724090576    \u001b[0m\u001b[35m \u001b[0m│\n",
       "└───────────────────────────┴───────────────────────────┘\n"
      ]
     },
     "metadata": {},
     "output_type": "display_data"
    },
    {
     "name": "stdout",
     "output_type": "stream",
     "text": [
      "Model: GraphConv\n"
     ]
    },
    {
     "data": {
      "text/html": [
       "<pre style=\"white-space:pre;overflow-x:auto;line-height:normal;font-family:Menlo,'DejaVu Sans Mono',consolas,'Courier New',monospace\">┏━━━━━━━━━━━━━━━━━━━━━━━━━━━┳━━━━━━━━━━━━━━━━━━━━━━━━━━━┓\n",
       "┃<span style=\"font-weight: bold\">      Validate metric      </span>┃<span style=\"font-weight: bold\">       DataLoader 0        </span>┃\n",
       "┡━━━━━━━━━━━━━━━━━━━━━━━━━━━╇━━━━━━━━━━━━━━━━━━━━━━━━━━━┩\n",
       "│<span style=\"color: #008080; text-decoration-color: #008080\">          val/r2           </span>│<span style=\"color: #800080; text-decoration-color: #800080\">    0.9385775923728943     </span>│\n",
       "│<span style=\"color: #008080; text-decoration-color: #008080\">         val_loss          </span>│<span style=\"color: #800080; text-decoration-color: #800080\">   0.054254353046417236    </span>│\n",
       "└───────────────────────────┴───────────────────────────┘\n",
       "</pre>\n"
      ],
      "text/plain": [
       "┏━━━━━━━━━━━━━━━━━━━━━━━━━━━┳━━━━━━━━━━━━━━━━━━━━━━━━━━━┓\n",
       "┃\u001b[1m \u001b[0m\u001b[1m     Validate metric     \u001b[0m\u001b[1m \u001b[0m┃\u001b[1m \u001b[0m\u001b[1m      DataLoader 0       \u001b[0m\u001b[1m \u001b[0m┃\n",
       "┡━━━━━━━━━━━━━━━━━━━━━━━━━━━╇━━━━━━━━━━━━━━━━━━━━━━━━━━━┩\n",
       "│\u001b[36m \u001b[0m\u001b[36m         val/r2          \u001b[0m\u001b[36m \u001b[0m│\u001b[35m \u001b[0m\u001b[35m   0.9385775923728943    \u001b[0m\u001b[35m \u001b[0m│\n",
       "│\u001b[36m \u001b[0m\u001b[36m        val_loss         \u001b[0m\u001b[36m \u001b[0m│\u001b[35m \u001b[0m\u001b[35m  0.054254353046417236   \u001b[0m\u001b[35m \u001b[0m│\n",
       "└───────────────────────────┴───────────────────────────┘\n"
      ]
     },
     "metadata": {},
     "output_type": "display_data"
    },
    {
     "data": {
      "text/html": [
       "<pre style=\"white-space:pre;overflow-x:auto;line-height:normal;font-family:Menlo,'DejaVu Sans Mono',consolas,'Courier New',monospace\">┏━━━━━━━━━━━━━━━━━━━━━━━━━━━┳━━━━━━━━━━━━━━━━━━━━━━━━━━━┓\n",
       "┃<span style=\"font-weight: bold\">        Test metric        </span>┃<span style=\"font-weight: bold\">       DataLoader 0        </span>┃\n",
       "┡━━━━━━━━━━━━━━━━━━━━━━━━━━━╇━━━━━━━━━━━━━━━━━━━━━━━━━━━┩\n",
       "│<span style=\"color: #008080; text-decoration-color: #008080\">         test/mse          </span>│<span style=\"color: #800080; text-decoration-color: #800080\">    0.08167292922735214    </span>│\n",
       "│<span style=\"color: #008080; text-decoration-color: #008080\">          test/r2          </span>│<span style=\"color: #800080; text-decoration-color: #800080\">    0.9211595058441162     </span>│\n",
       "└───────────────────────────┴───────────────────────────┘\n",
       "</pre>\n"
      ],
      "text/plain": [
       "┏━━━━━━━━━━━━━━━━━━━━━━━━━━━┳━━━━━━━━━━━━━━━━━━━━━━━━━━━┓\n",
       "┃\u001b[1m \u001b[0m\u001b[1m       Test metric       \u001b[0m\u001b[1m \u001b[0m┃\u001b[1m \u001b[0m\u001b[1m      DataLoader 0       \u001b[0m\u001b[1m \u001b[0m┃\n",
       "┡━━━━━━━━━━━━━━━━━━━━━━━━━━━╇━━━━━━━━━━━━━━━━━━━━━━━━━━━┩\n",
       "│\u001b[36m \u001b[0m\u001b[36m        test/mse         \u001b[0m\u001b[36m \u001b[0m│\u001b[35m \u001b[0m\u001b[35m   0.08167292922735214   \u001b[0m\u001b[35m \u001b[0m│\n",
       "│\u001b[36m \u001b[0m\u001b[36m         test/r2         \u001b[0m\u001b[36m \u001b[0m│\u001b[35m \u001b[0m\u001b[35m   0.9211595058441162    \u001b[0m\u001b[35m \u001b[0m│\n",
       "└───────────────────────────┴───────────────────────────┘\n"
      ]
     },
     "metadata": {},
     "output_type": "display_data"
    },
    {
     "name": "stdout",
     "output_type": "stream",
     "text": [
      "Model: NNConv\n"
     ]
    },
    {
     "data": {
      "text/html": [
       "<pre style=\"white-space:pre;overflow-x:auto;line-height:normal;font-family:Menlo,'DejaVu Sans Mono',consolas,'Courier New',monospace\">┏━━━━━━━━━━━━━━━━━━━━━━━━━━━┳━━━━━━━━━━━━━━━━━━━━━━━━━━━┓\n",
       "┃<span style=\"font-weight: bold\">      Validate metric      </span>┃<span style=\"font-weight: bold\">       DataLoader 0        </span>┃\n",
       "┡━━━━━━━━━━━━━━━━━━━━━━━━━━━╇━━━━━━━━━━━━━━━━━━━━━━━━━━━┩\n",
       "│<span style=\"color: #008080; text-decoration-color: #008080\">          val/r2           </span>│<span style=\"color: #800080; text-decoration-color: #800080\">    0.9437346458435059     </span>│\n",
       "│<span style=\"color: #008080; text-decoration-color: #008080\">         val_loss          </span>│<span style=\"color: #800080; text-decoration-color: #800080\">    0.04969913139939308    </span>│\n",
       "└───────────────────────────┴───────────────────────────┘\n",
       "</pre>\n"
      ],
      "text/plain": [
       "┏━━━━━━━━━━━━━━━━━━━━━━━━━━━┳━━━━━━━━━━━━━━━━━━━━━━━━━━━┓\n",
       "┃\u001b[1m \u001b[0m\u001b[1m     Validate metric     \u001b[0m\u001b[1m \u001b[0m┃\u001b[1m \u001b[0m\u001b[1m      DataLoader 0       \u001b[0m\u001b[1m \u001b[0m┃\n",
       "┡━━━━━━━━━━━━━━━━━━━━━━━━━━━╇━━━━━━━━━━━━━━━━━━━━━━━━━━━┩\n",
       "│\u001b[36m \u001b[0m\u001b[36m         val/r2          \u001b[0m\u001b[36m \u001b[0m│\u001b[35m \u001b[0m\u001b[35m   0.9437346458435059    \u001b[0m\u001b[35m \u001b[0m│\n",
       "│\u001b[36m \u001b[0m\u001b[36m        val_loss         \u001b[0m\u001b[36m \u001b[0m│\u001b[35m \u001b[0m\u001b[35m   0.04969913139939308   \u001b[0m\u001b[35m \u001b[0m│\n",
       "└───────────────────────────┴───────────────────────────┘\n"
      ]
     },
     "metadata": {},
     "output_type": "display_data"
    },
    {
     "data": {
      "text/html": [
       "<pre style=\"white-space:pre;overflow-x:auto;line-height:normal;font-family:Menlo,'DejaVu Sans Mono',consolas,'Courier New',monospace\">┏━━━━━━━━━━━━━━━━━━━━━━━━━━━┳━━━━━━━━━━━━━━━━━━━━━━━━━━━┓\n",
       "┃<span style=\"font-weight: bold\">        Test metric        </span>┃<span style=\"font-weight: bold\">       DataLoader 0        </span>┃\n",
       "┡━━━━━━━━━━━━━━━━━━━━━━━━━━━╇━━━━━━━━━━━━━━━━━━━━━━━━━━━┩\n",
       "│<span style=\"color: #008080; text-decoration-color: #008080\">         test/mse          </span>│<span style=\"color: #800080; text-decoration-color: #800080\">    0.08800043910741806    </span>│\n",
       "│<span style=\"color: #008080; text-decoration-color: #008080\">          test/r2          </span>│<span style=\"color: #800080; text-decoration-color: #800080\">    0.9150514006614685     </span>│\n",
       "└───────────────────────────┴───────────────────────────┘\n",
       "</pre>\n"
      ],
      "text/plain": [
       "┏━━━━━━━━━━━━━━━━━━━━━━━━━━━┳━━━━━━━━━━━━━━━━━━━━━━━━━━━┓\n",
       "┃\u001b[1m \u001b[0m\u001b[1m       Test metric       \u001b[0m\u001b[1m \u001b[0m┃\u001b[1m \u001b[0m\u001b[1m      DataLoader 0       \u001b[0m\u001b[1m \u001b[0m┃\n",
       "┡━━━━━━━━━━━━━━━━━━━━━━━━━━━╇━━━━━━━━━━━━━━━━━━━━━━━━━━━┩\n",
       "│\u001b[36m \u001b[0m\u001b[36m        test/mse         \u001b[0m\u001b[36m \u001b[0m│\u001b[35m \u001b[0m\u001b[35m   0.08800043910741806   \u001b[0m\u001b[35m \u001b[0m│\n",
       "│\u001b[36m \u001b[0m\u001b[36m         test/r2         \u001b[0m\u001b[36m \u001b[0m│\u001b[35m \u001b[0m\u001b[35m   0.9150514006614685    \u001b[0m\u001b[35m \u001b[0m│\n",
       "└───────────────────────────┴───────────────────────────┘\n"
      ]
     },
     "metadata": {},
     "output_type": "display_data"
    },
    {
     "name": "stdout",
     "output_type": "stream",
     "text": [
      "Model: GATConv\n"
     ]
    },
    {
     "data": {
      "text/html": [
       "<pre style=\"white-space:pre;overflow-x:auto;line-height:normal;font-family:Menlo,'DejaVu Sans Mono',consolas,'Courier New',monospace\">┏━━━━━━━━━━━━━━━━━━━━━━━━━━━┳━━━━━━━━━━━━━━━━━━━━━━━━━━━┓\n",
       "┃<span style=\"font-weight: bold\">      Validate metric      </span>┃<span style=\"font-weight: bold\">       DataLoader 0        </span>┃\n",
       "┡━━━━━━━━━━━━━━━━━━━━━━━━━━━╇━━━━━━━━━━━━━━━━━━━━━━━━━━━┩\n",
       "│<span style=\"color: #008080; text-decoration-color: #008080\">          val/r2           </span>│<span style=\"color: #800080; text-decoration-color: #800080\">    0.9467225670814514     </span>│\n",
       "│<span style=\"color: #008080; text-decoration-color: #008080\">         val_loss          </span>│<span style=\"color: #800080; text-decoration-color: #800080\">    0.04705993831157684    </span>│\n",
       "└───────────────────────────┴───────────────────────────┘\n",
       "</pre>\n"
      ],
      "text/plain": [
       "┏━━━━━━━━━━━━━━━━━━━━━━━━━━━┳━━━━━━━━━━━━━━━━━━━━━━━━━━━┓\n",
       "┃\u001b[1m \u001b[0m\u001b[1m     Validate metric     \u001b[0m\u001b[1m \u001b[0m┃\u001b[1m \u001b[0m\u001b[1m      DataLoader 0       \u001b[0m\u001b[1m \u001b[0m┃\n",
       "┡━━━━━━━━━━━━━━━━━━━━━━━━━━━╇━━━━━━━━━━━━━━━━━━━━━━━━━━━┩\n",
       "│\u001b[36m \u001b[0m\u001b[36m         val/r2          \u001b[0m\u001b[36m \u001b[0m│\u001b[35m \u001b[0m\u001b[35m   0.9467225670814514    \u001b[0m\u001b[35m \u001b[0m│\n",
       "│\u001b[36m \u001b[0m\u001b[36m        val_loss         \u001b[0m\u001b[36m \u001b[0m│\u001b[35m \u001b[0m\u001b[35m   0.04705993831157684   \u001b[0m\u001b[35m \u001b[0m│\n",
       "└───────────────────────────┴───────────────────────────┘\n"
      ]
     },
     "metadata": {},
     "output_type": "display_data"
    },
    {
     "data": {
      "text/html": [
       "<pre style=\"white-space:pre;overflow-x:auto;line-height:normal;font-family:Menlo,'DejaVu Sans Mono',consolas,'Courier New',monospace\">┏━━━━━━━━━━━━━━━━━━━━━━━━━━━┳━━━━━━━━━━━━━━━━━━━━━━━━━━━┓\n",
       "┃<span style=\"font-weight: bold\">        Test metric        </span>┃<span style=\"font-weight: bold\">       DataLoader 0        </span>┃\n",
       "┡━━━━━━━━━━━━━━━━━━━━━━━━━━━╇━━━━━━━━━━━━━━━━━━━━━━━━━━━┩\n",
       "│<span style=\"color: #008080; text-decoration-color: #008080\">         test/mse          </span>│<span style=\"color: #800080; text-decoration-color: #800080\">    0.0797259658575058     </span>│\n",
       "│<span style=\"color: #008080; text-decoration-color: #008080\">          test/r2          </span>│<span style=\"color: #800080; text-decoration-color: #800080\">     0.923038899898529     </span>│\n",
       "└───────────────────────────┴───────────────────────────┘\n",
       "</pre>\n"
      ],
      "text/plain": [
       "┏━━━━━━━━━━━━━━━━━━━━━━━━━━━┳━━━━━━━━━━━━━━━━━━━━━━━━━━━┓\n",
       "┃\u001b[1m \u001b[0m\u001b[1m       Test metric       \u001b[0m\u001b[1m \u001b[0m┃\u001b[1m \u001b[0m\u001b[1m      DataLoader 0       \u001b[0m\u001b[1m \u001b[0m┃\n",
       "┡━━━━━━━━━━━━━━━━━━━━━━━━━━━╇━━━━━━━━━━━━━━━━━━━━━━━━━━━┩\n",
       "│\u001b[36m \u001b[0m\u001b[36m        test/mse         \u001b[0m\u001b[36m \u001b[0m│\u001b[35m \u001b[0m\u001b[35m   0.0797259658575058    \u001b[0m\u001b[35m \u001b[0m│\n",
       "│\u001b[36m \u001b[0m\u001b[36m         test/r2         \u001b[0m\u001b[36m \u001b[0m│\u001b[35m \u001b[0m\u001b[35m    0.923038899898529    \u001b[0m\u001b[35m \u001b[0m│\n",
       "└───────────────────────────┴───────────────────────────┘\n"
      ]
     },
     "metadata": {},
     "output_type": "display_data"
    },
    {
     "name": "stdout",
     "output_type": "stream",
     "text": [
      "Model: TransformerConv\n"
     ]
    },
    {
     "data": {
      "text/html": [
       "<pre style=\"white-space:pre;overflow-x:auto;line-height:normal;font-family:Menlo,'DejaVu Sans Mono',consolas,'Courier New',monospace\">┏━━━━━━━━━━━━━━━━━━━━━━━━━━━┳━━━━━━━━━━━━━━━━━━━━━━━━━━━┓\n",
       "┃<span style=\"font-weight: bold\">      Validate metric      </span>┃<span style=\"font-weight: bold\">       DataLoader 0        </span>┃\n",
       "┡━━━━━━━━━━━━━━━━━━━━━━━━━━━╇━━━━━━━━━━━━━━━━━━━━━━━━━━━┩\n",
       "│<span style=\"color: #008080; text-decoration-color: #008080\">          val/r2           </span>│<span style=\"color: #800080; text-decoration-color: #800080\">    0.9428355693817139     </span>│\n",
       "│<span style=\"color: #008080; text-decoration-color: #008080\">         val_loss          </span>│<span style=\"color: #800080; text-decoration-color: #800080\">    0.05049331858754158    </span>│\n",
       "└───────────────────────────┴───────────────────────────┘\n",
       "</pre>\n"
      ],
      "text/plain": [
       "┏━━━━━━━━━━━━━━━━━━━━━━━━━━━┳━━━━━━━━━━━━━━━━━━━━━━━━━━━┓\n",
       "┃\u001b[1m \u001b[0m\u001b[1m     Validate metric     \u001b[0m\u001b[1m \u001b[0m┃\u001b[1m \u001b[0m\u001b[1m      DataLoader 0       \u001b[0m\u001b[1m \u001b[0m┃\n",
       "┡━━━━━━━━━━━━━━━━━━━━━━━━━━━╇━━━━━━━━━━━━━━━━━━━━━━━━━━━┩\n",
       "│\u001b[36m \u001b[0m\u001b[36m         val/r2          \u001b[0m\u001b[36m \u001b[0m│\u001b[35m \u001b[0m\u001b[35m   0.9428355693817139    \u001b[0m\u001b[35m \u001b[0m│\n",
       "│\u001b[36m \u001b[0m\u001b[36m        val_loss         \u001b[0m\u001b[36m \u001b[0m│\u001b[35m \u001b[0m\u001b[35m   0.05049331858754158   \u001b[0m\u001b[35m \u001b[0m│\n",
       "└───────────────────────────┴───────────────────────────┘\n"
      ]
     },
     "metadata": {},
     "output_type": "display_data"
    },
    {
     "data": {
      "text/html": [
       "<pre style=\"white-space:pre;overflow-x:auto;line-height:normal;font-family:Menlo,'DejaVu Sans Mono',consolas,'Courier New',monospace\">┏━━━━━━━━━━━━━━━━━━━━━━━━━━━┳━━━━━━━━━━━━━━━━━━━━━━━━━━━┓\n",
       "┃<span style=\"font-weight: bold\">        Test metric        </span>┃<span style=\"font-weight: bold\">       DataLoader 0        </span>┃\n",
       "┡━━━━━━━━━━━━━━━━━━━━━━━━━━━╇━━━━━━━━━━━━━━━━━━━━━━━━━━━┩\n",
       "│<span style=\"color: #008080; text-decoration-color: #008080\">         test/mse          </span>│<span style=\"color: #800080; text-decoration-color: #800080\">    0.08260400593280792    </span>│\n",
       "│<span style=\"color: #008080; text-decoration-color: #008080\">          test/r2          </span>│<span style=\"color: #800080; text-decoration-color: #800080\">    0.9202606678009033     </span>│\n",
       "└───────────────────────────┴───────────────────────────┘\n",
       "</pre>\n"
      ],
      "text/plain": [
       "┏━━━━━━━━━━━━━━━━━━━━━━━━━━━┳━━━━━━━━━━━━━━━━━━━━━━━━━━━┓\n",
       "┃\u001b[1m \u001b[0m\u001b[1m       Test metric       \u001b[0m\u001b[1m \u001b[0m┃\u001b[1m \u001b[0m\u001b[1m      DataLoader 0       \u001b[0m\u001b[1m \u001b[0m┃\n",
       "┡━━━━━━━━━━━━━━━━━━━━━━━━━━━╇━━━━━━━━━━━━━━━━━━━━━━━━━━━┩\n",
       "│\u001b[36m \u001b[0m\u001b[36m        test/mse         \u001b[0m\u001b[36m \u001b[0m│\u001b[35m \u001b[0m\u001b[35m   0.08260400593280792   \u001b[0m\u001b[35m \u001b[0m│\n",
       "│\u001b[36m \u001b[0m\u001b[36m         test/r2         \u001b[0m\u001b[36m \u001b[0m│\u001b[35m \u001b[0m\u001b[35m   0.9202606678009033    \u001b[0m\u001b[35m \u001b[0m│\n",
       "└───────────────────────────┴───────────────────────────┘\n"
      ]
     },
     "metadata": {},
     "output_type": "display_data"
    },
    {
     "name": "stdout",
     "output_type": "stream",
     "text": [
      "CPU times: total: 37min 28s\n",
      "Wall time: 19min 19s\n"
     ]
    }
   ],
   "source": [
    "%%time\n",
    "verbose = False # Set to \"True\" to see full Training Process\n",
    "\n",
    "model_names = ['MPNN_ChemProp', 'GraphConv', 'NNConv', 'GATConv', 'TransformerConv']\n",
    "\n",
    "model_to_R2 = {}\n",
    "for model_name in model_names:\n",
    "    print(f\"Model: {model_name}\")\n",
    "    model, val_results, test_results = train_and_test(\n",
    "        model_name,\n",
    "        train_dset,\n",
    "        val_dset,\n",
    "        test_dset,\n",
    "        hidden_channels=350,\n",
    "        mp_num_layers=4,\n",
    "        ffn_num_layers=1,\n",
    "        batch_size=64,\n",
    "        dropout=0.2,\n",
    "        patience=40,\n",
    "        verbose=verbose\n",
    "    )\n",
    "\n",
    "    model_to_R2[model_name] = test_results[0]['test/r2']\n",
    "    "
   ]
  },
  {
   "cell_type": "markdown",
   "id": "7f061601-5776-4b79-b50f-ba515b47a903",
   "metadata": {},
   "source": [
    "# Results On Delaney from MoleculeNet + Models above (R<sup>2</sup> )\n",
    "\n",
    "2018-1-17\n",
    "\n",
    "https://moleculenet.org/latest-results"
   ]
  },
  {
   "cell_type": "code",
   "execution_count": 21,
   "id": "9b1832d2-7cce-4ea0-afc9-97cdf4a76d65",
   "metadata": {},
   "outputs": [
    {
     "data": {
      "image/png": "[encoded data removed]",
      "text/plain": [
       "<Figure size 640x480 with 1 Axes>"
      ]
     },
     "metadata": {},
     "output_type": "display_data"
    },
    {
     "name": "stdout",
     "output_type": "stream",
     "text": [
      "Done!\n"
     ]
    }
   ],
   "source": [
    "# Plot Results\n",
    "\n",
    "# Results from MoleculeNet\n",
    "labels = ['ESOL', 'xgb_regression', 'krr', 'tf_regression', 'textcnn_regression', 'graphconvreg', 'dag_regression', 'weave_regression', 'mpnn']\n",
    "r2_all = [r2_ESOL, 0.778, 0.584, 0.623, 0.853, 0.855, 0.904, 0.903, 0.939]\n",
    "\n",
    "# Results from Models above\n",
    "labels += list(model_to_R2.keys())\n",
    "r2_all += list(model_to_R2.values())\n",
    "\n",
    "labels = labels[::-1]\n",
    "r2_all = r2_all[::-1]\n",
    "\n",
    "# Plotting\n",
    "fig, ax = plt.subplots()\n",
    "bars = ax.barh(range(len(labels)), \n",
    "               r2_all, \n",
    "               tick_label=labels, \n",
    "               color=['r' for i in range(5)] + ['k' for j in range(8)] + ['b'],\n",
    "               alpha=0.5)\n",
    "\n",
    "ax.bar_label(bars, fmt='%.3f', padding=-40)\n",
    "\n",
    "plt.title('Results ESOL (blue) vs MoleculeNet (gray) vs Models (red)')\n",
    "plt.ylabel('Models')\n",
    "plt.xlabel('R square')\n",
    "plt.xlim([0.0, 1.0])\n",
    "plt.xticks([0.0, 0.2, 0.4, 0.6, 0.8, 1.0])\n",
    "plt.show()\n",
    "\n",
    "print('Done!')"
   ]
  },
  {
   "cell_type": "markdown",
   "id": "02463e66-b972-4ffc-b649-9a2eb548d8ca",
   "metadata": {},
   "source": []
  }
 ],
 "metadata": {
  "kernelspec": {
   "display_name": "Python 3 (ipykernel)",
   "language": "python",
   "name": "python3"
  },
  "language_info": {
   "codemirror_mode": {
    "name": "ipython",
    "version": 3
   },
   "file_extension": ".py",
   "mimetype": "text/x-python",
   "name": "python",
   "nbconvert_exporter": "python",
   "pygments_lexer": "ipython3",
   "version": "3.11.5"
  }
 },
 "nbformat": 4,
 "nbformat_minor": 5
}
